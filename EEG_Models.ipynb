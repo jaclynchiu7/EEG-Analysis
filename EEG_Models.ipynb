{
  "cells": [
    {
      "cell_type": "markdown",
      "metadata": {
        "id": "view-in-github",
        "colab_type": "text"
      },
      "source": [
        "<a href=\"https://colab.research.google.com/github/jaclynchiu7/EEG-Analysis/blob/main/EEG_Models.ipynb\" target=\"_parent\"><img src=\"https://colab.research.google.com/assets/colab-badge.svg\" alt=\"Open In Colab\"/></a>"
      ]
    },
    {
      "cell_type": "code",
      "source": [
        "# This mounts your Google Drive to the Colab VM.\n",
        "from google.colab import drive\n",
        "drive.mount('/content/drive')\n",
        "\n",
        "# TODO: Enter the foldername in your Drive where you have saved the unzipped\n",
        "# assignment folder, e.g. 'cs260/assignments/assignment4/'\n",
        "FOLDERNAME = 'ecengr 247'\n",
        "assert FOLDERNAME is not None, \"[!] Enter the foldername.\"\n",
        "\n",
        "# Now that we've mounted your Drive, this ensures that\n",
        "# the Python interpreter of the Colab VM can load\n",
        "# python files from within it.\n",
        "import sys\n",
        "sys.path.append('/content/drive/My Drive/{}'.format(FOLDERNAME))"
      ],
      "metadata": {
        "colab": {
          "base_uri": "https://localhost:8080/"
        },
        "id": "Z9NVYhfrROXI",
        "outputId": "baf0d959-2a4e-4a32-9987-78665017a1f8"
      },
      "execution_count": null,
      "outputs": [
        {
          "output_type": "stream",
          "name": "stdout",
          "text": [
            "Mounted at /content/drive\n"
          ]
        }
      ]
    },
    {
      "cell_type": "code",
      "source": [
        "import numpy as np\n",
        "import pandas as pd\n",
        "import keras\n",
        "import tensorflow as tf\n",
        "from keras.models import Sequential\n",
        "from keras.layers import Dense, Activation, Flatten,Dropout\n",
        "from keras.layers import Conv2D,BatchNormalization,MaxPooling2D,Reshape\n",
        "from keras.utils import to_categorical\n",
        "import matplotlib.pyplot as plt\n",
        "from sklearn import preprocessing"
      ],
      "metadata": {
        "id": "ft21ecxASkrV"
      },
      "execution_count": null,
      "outputs": []
    },
    {
      "cell_type": "code",
      "source": [
        "# Check GPU\n",
        "device_name = tf.test.gpu_device_name()\n",
        "if device_name != '/device:GPU:0':\n",
        "  raise SystemError('GPU device not found')\n",
        "print('Found GPU at: {}'.format(device_name))"
      ],
      "metadata": {
        "colab": {
          "base_uri": "https://localhost:8080/"
        },
        "id": "dHWdLUVmmpqh",
        "outputId": "736d6300-6a28-43a1-bc5d-a19eec54e492"
      },
      "execution_count": null,
      "outputs": [
        {
          "output_type": "stream",
          "name": "stdout",
          "text": [
            "Found GPU at: /device:GPU:0\n"
          ]
        }
      ]
    },
    {
      "cell_type": "markdown",
      "metadata": {
        "id": "DCgF79GtRNl7"
      },
      "source": [
        "# 1 Loading and Preprocess Raw Data"
      ]
    },
    {
      "cell_type": "markdown",
      "source": [
        " **SKIP TO RELOADING DATA SECTION FOR ALREADY PREPROCESSED DATA** \n",
        "\n",
        "---\n",
        "\n"
      ],
      "metadata": {
        "id": "MDS1qxTSjHpf"
      }
    },
    {
      "cell_type": "code",
      "execution_count": null,
      "metadata": {
        "collapsed": true,
        "id": "8yr2UcGnRNl6"
      },
      "outputs": [],
      "source": [
        "X_test = np.load(\"drive/MyDrive/ecengr 247/X_test.npy\")\n",
        "y_test = np.load(\"drive/MyDrive/ecengr 247/y_test.npy\")\n",
        "person_train_valid = np.load(\"drive/MyDrive/ecengr 247/person_train_valid.npy\")\n",
        "X_train_valid = np.load(\"drive/MyDrive/ecengr 247/X_train_valid.npy\")\n",
        "y_train_valid = np.load(\"drive/MyDrive/ecengr 247/y_train_valid.npy\")\n",
        "person_test = np.load(\"drive/MyDrive/ecengr 247/person_test.npy\")\n"
      ]
    },
    {
      "cell_type": "code",
      "execution_count": null,
      "metadata": {
        "colab": {
          "base_uri": "https://localhost:8080/"
        },
        "id": "wyCpYL7hRNl9",
        "outputId": "51cc5ea9-e446-49c8-96f4-fa679e0c16e3"
      },
      "outputs": [
        {
          "output_type": "stream",
          "name": "stdout",
          "text": [
            "Training/Valid data shape: (2115, 22, 1000)\n",
            "Test data shape: (443, 22, 1000)\n",
            "Training/Valid target shape: (2115,)\n",
            "Test target shape: (443,)\n",
            "Person train/valid shape: (2115, 1)\n",
            "Person test shape: (443, 1)\n"
          ]
        }
      ],
      "source": [
        "print ('Training/Valid data shape: {}'.format(X_train_valid.shape))\n",
        "print ('Test data shape: {}'.format(X_test.shape))\n",
        "print ('Training/Valid target shape: {}'.format(y_train_valid.shape))\n",
        "print ('Test target shape: {}'.format(y_test.shape))\n",
        "print ('Person train/valid shape: {}'.format(person_train_valid.shape))\n",
        "print ('Person test shape: {}'.format(person_test.shape))\n"
      ]
    },
    {
      "cell_type": "code",
      "source": [
        "# remap test labels \n",
        "# 0: left hand, 1: right hand, 2: feet, 3: tongue \n",
        "from sklearn import preprocessing\n",
        "label_encoder = preprocessing.LabelEncoder()\n",
        "y_train_valid = label_encoder.fit_transform(y_train_valid)\n",
        "y_test = label_encoder.fit_transform(y_test)"
      ],
      "metadata": {
        "id": "WRu-22TrV5bl"
      },
      "execution_count": null,
      "outputs": []
    },
    {
      "cell_type": "markdown",
      "source": [
        "### Looking at Distribution of Data"
      ],
      "metadata": {
        "id": "LnKhEXxNROs3"
      }
    },
    {
      "cell_type": "code",
      "source": [
        "# distribution of class across data \n",
        "plt.hist(y_train_valid)\n",
        "plt.xlabel('class')\n",
        "plt.ylabel('count')"
      ],
      "metadata": {
        "colab": {
          "base_uri": "https://localhost:8080/",
          "height": 296
        },
        "id": "LRO509OemdZh",
        "outputId": "eeb72935-58a1-453b-a548-73d60efea621"
      },
      "execution_count": null,
      "outputs": [
        {
          "output_type": "execute_result",
          "data": {
            "text/plain": [
              "Text(0, 0.5, 'count')"
            ]
          },
          "metadata": {},
          "execution_count": 6
        },
        {
          "output_type": "display_data",
          "data": {
            "text/plain": [
              "<Figure size 432x288 with 1 Axes>"
            ],
            "image/png": "[encoded data removed]"
          },
          "metadata": {
            "needs_background": "light"
          }
        }
      ]
    },
    {
      "cell_type": "code",
      "source": [
        "plt.hist(y_test)\n",
        "plt.xlabel('class')\n",
        "plt.ylabel('count')"
      ],
      "metadata": {
        "colab": {
          "base_uri": "https://localhost:8080/",
          "height": 296
        },
        "id": "zbEclG8HrHIR",
        "outputId": "f0b0edf0-e951-423d-fed6-4d4ff0e23554"
      },
      "execution_count": null,
      "outputs": [
        {
          "output_type": "execute_result",
          "data": {
            "text/plain": [
              "Text(0, 0.5, 'count')"
            ]
          },
          "metadata": {},
          "execution_count": 7
        },
        {
          "output_type": "display_data",
          "data": {
            "text/plain": [
              "<Figure size 432x288 with 1 Axes>"
            ],
            "image/png": "[encoded data removed]"
          },
          "metadata": {
            "needs_background": "light"
          }
        }
      ]
    },
    {
      "cell_type": "code",
      "source": [
        "# distribution of subjects across data \n",
        "plt.hist(person_train_valid, bins=np.linspace(0,8,num=18))\n",
        "plt.xlabel('subject')\n",
        "plt.ylabel('count')"
      ],
      "metadata": {
        "colab": {
          "base_uri": "https://localhost:8080/",
          "height": 296
        },
        "id": "-TAD_IM1mjVR",
        "outputId": "8d7fae26-00e8-4ee2-91b8-b9672aee8e82"
      },
      "execution_count": null,
      "outputs": [
        {
          "output_type": "execute_result",
          "data": {
            "text/plain": [
              "Text(0, 0.5, 'count')"
            ]
          },
          "metadata": {},
          "execution_count": 8
        },
        {
          "output_type": "display_data",
          "data": {
            "text/plain": [
              "<Figure size 432x288 with 1 Axes>"
            ],
            "image/png": "[encoded data removed]"
          },
          "metadata": {
            "needs_background": "light"
          }
        }
      ]
    },
    {
      "cell_type": "code",
      "source": [
        "plt.hist(person_test, bins=np.linspace(0,8,num=18))\n",
        "plt.xlabel('subject')\n",
        "plt.ylabel('count')"
      ],
      "metadata": {
        "colab": {
          "base_uri": "https://localhost:8080/",
          "height": 296
        },
        "id": "UU2ooHhet8gn",
        "outputId": "45504a0c-76f7-48e6-ec7b-f92ef68ef050"
      },
      "execution_count": null,
      "outputs": [
        {
          "output_type": "execute_result",
          "data": {
            "text/plain": [
              "Text(0, 0.5, 'count')"
            ]
          },
          "metadata": {},
          "execution_count": 9
        },
        {
          "output_type": "display_data",
          "data": {
            "text/plain": [
              "<Figure size 432x288 with 1 Axes>"
            ],
            "image/png": "[encoded data removed]"
          },
          "metadata": {
            "needs_background": "light"
          }
        }
      ]
    },
    {
      "cell_type": "markdown",
      "source": [
        "### Visualizing Data"
      ],
      "metadata": {
        "id": "ENZ-6sbaSmzC"
      }
    },
    {
      "cell_type": "code",
      "source": [
        "import random\n",
        "rand_channels = random.sample(range(0, 22), 4)\n",
        "print(rand_channels)\n",
        "\n",
        "for i in range(len(rand_channels)): # 4 random channels show similar graphs\n",
        "\n",
        "  ch_data = X_train_valid[:,rand_channels[i],:] # extracts the 9th channel from the data\n",
        "\n",
        "  class_0_ind = np.where(y_train_valid == 0) # finds the indices where the label is 0\n",
        "  ch_data_class_0 = ch_data[class_0_ind] # finds the data where label is 0\n",
        "  avg_ch_data_class_0 = np.mean(ch_data_class_0,axis=0) # finds the average representation of the 9th channel when label is 0\n",
        "\n",
        "\n",
        "  class_1_ind = np.where(y_train_valid == 1)\n",
        "  ch_data_class_1 = ch_data[class_1_ind]\n",
        "  avg_ch_data_class_1 = np.mean(ch_data_class_1,axis=0)\n",
        "\n",
        "  class_2_ind = np.where(y_train_valid == 2)\n",
        "  ch_data_class_2 = ch_data[class_2_ind]\n",
        "  avg_ch_data_class_2 = np.mean(ch_data_class_2,axis=0)\n",
        "\n",
        "  class_3_ind = np.where(y_train_valid == 3)\n",
        "  ch_data_class_3 = ch_data[class_3_ind]\n",
        "  avg_ch_data_class_3 = np.mean(ch_data_class_3,axis=0)\n",
        "\n",
        "\n",
        "  plt.plot(np.arange(1000),avg_ch_data_class_0)\n",
        "  plt.plot(np.arange(1000),avg_ch_data_class_1)\n",
        "  plt.plot(np.arange(1000),avg_ch_data_class_2)\n",
        "  plt.plot(np.arange(1000),avg_ch_data_class_3)\n",
        "  plt.axvline(x=500, label='line at t=500',c='cyan')\n",
        "\n",
        "  plt.legend([\"Cue Onset left\", \"Cue Onset right\", \"Cue onset foot\", \"Cue onset tongue\"])\n",
        "  plt.title(\"Channel: \" + str(rand_channels[i]))\n",
        "  plt.show()"
      ],
      "metadata": {
        "colab": {
          "base_uri": "https://localhost:8080/",
          "height": 1000
        },
        "id": "PIxzQ19_SrJ3",
        "outputId": "70557d3e-9bcf-489f-cbd9-24ef1787e24d"
      },
      "execution_count": null,
      "outputs": [
        {
          "output_type": "stream",
          "name": "stdout",
          "text": [
            "[6, 18, 8, 15]\n"
          ]
        },
        {
          "output_type": "display_data",
          "data": {
            "text/plain": [
              "<Figure size 432x288 with 1 Axes>"
            ],
            "image/png": "[encoded data removed]"
          },
          "metadata": {
            "needs_background": "light"
          }
        },
        {
          "output_type": "display_data",
          "data": {
            "text/plain": [
              "<Figure size 432x288 with 1 Axes>"
            ],
            "image/png": "[encoded data removed]"
          },
          "metadata": {
            "needs_background": "light"
          }
        },
        {
          "output_type": "display_data",
          "data": {
            "text/plain": [
              "<Figure size 432x288 with 1 Axes>"
            ],
            "image/png": "[encoded data removed]"
          },
          "metadata": {
            "needs_background": "light"
          }
        },
        {
          "output_type": "display_data",
          "data": {
            "text/plain": [
              "<Figure size 432x288 with 1 Axes>"
            ],
            "image/png": "[encoded data removed]"
          },
          "metadata": {
            "needs_background": "light"
          }
        }
      ]
    },
    {
      "cell_type": "markdown",
      "source": [
        "### Data Preprocessing"
      ],
      "metadata": {
        "id": "oe3-z2U-yp5k"
      }
    },
    {
      "cell_type": "code",
      "source": [
        "def data_prep(X,y,sub_sample,average,noise):\n",
        "    \n",
        "    total_X = None\n",
        "    total_y = None\n",
        "    \n",
        "    # Trimming the data (sample,22,1000) -> (sample,22,500)\n",
        "    X = X[:,:,0:500]\n",
        "    print('Shape of X after trimming:',X.shape)\n",
        "    \n",
        "    # Maxpooling the data (sample,22,1000) -> (sample,22,500/sub_sample)\n",
        "    X_max = np.max(X.reshape(X.shape[0], X.shape[1], -1, sub_sample), axis=3)\n",
        "    \n",
        "    \n",
        "    total_X = X_max\n",
        "    total_y = y\n",
        "    print('Shape of X after maxpooling:',total_X.shape)\n",
        "    \n",
        "    # Averaging + noise \n",
        "    X_average = np.mean(X.reshape(X.shape[0], X.shape[1], -1, average),axis=3)\n",
        "    X_average = X_average + np.random.normal(0.0, 0.5, X_average.shape)\n",
        "    \n",
        "    total_X = np.vstack((total_X, X_average))\n",
        "    total_y = np.hstack((total_y, y))\n",
        "    print('Shape of X after averaging+noise and concatenating:',total_X.shape)\n",
        "    \n",
        "    # Subsampling\n",
        "    \n",
        "    for i in range(sub_sample):\n",
        "        \n",
        "        X_subsample = X[:, :, i::sub_sample] + \\\n",
        "                            (np.random.normal(0.0, 0.5, X[:, :,i::sub_sample].shape) if noise else 0.0)\n",
        "            \n",
        "        total_X = np.vstack((total_X, X_subsample))\n",
        "        total_y = np.hstack((total_y, y))\n",
        "        \n",
        "    \n",
        "    print('Shape of X after subsampling and concatenating:',total_X.shape)\n",
        "    return total_X,total_y\n",
        "\n",
        "\n",
        "X_train_valid_prep,y_train_valid_prep = data_prep(X_train_valid,y_train_valid,2,2,True)\n"
      ],
      "metadata": {
        "colab": {
          "base_uri": "https://localhost:8080/"
        },
        "id": "J3fLojuYTCq-",
        "outputId": "cff3b9b9-4615-4798-9c7b-c079fdec6e47"
      },
      "execution_count": null,
      "outputs": [
        {
          "output_type": "stream",
          "name": "stdout",
          "text": [
            "Shape of X after trimming: (2115, 22, 500)\n",
            "Shape of X after maxpooling: (2115, 22, 250)\n",
            "Shape of X after averaging+noise and concatenating: (4230, 22, 250)\n",
            "Shape of X after subsampling and concatenating: (8460, 22, 250)\n"
          ]
        }
      ]
    },
    {
      "cell_type": "markdown",
      "source": [
        "### Generating Training and Validation Data"
      ],
      "metadata": {
        "id": "YyJs8gHf14yR"
      }
    },
    {
      "cell_type": "code",
      "source": [
        "## Random splitting and reshaping the data\n",
        "# First generating the training and validation indices using random splitting\n",
        "\n",
        "ind_valid = np.random.choice(2115, 375, replace=False)\n",
        "ind_train = np.array(list(set(range(2115)).difference(set(ind_valid))))\n",
        "\n",
        "# Creating the training and validation sets using the generated indices\n",
        "(X_train, X_valid) = X_train_valid[ind_train], X_train_valid[ind_valid] \n",
        "(y_train, y_valid) = y_train_valid[ind_train], y_train_valid[ind_valid]\n",
        "\n",
        "\n",
        "## Preprocessing the dataset\n",
        "x_train,y_train = data_prep(X_train,y_train,2,2,True)\n",
        "x_valid,y_valid = data_prep(X_valid,y_valid,2,2,True)\n",
        "X_test_prep,y_test_prep = data_prep(X_test,y_test,2,2,True)\n",
        "\n",
        "\n",
        "print('Shape of testing set:',X_test_prep.shape)\n",
        "print('Shape of testing labels:',y_test_prep.shape)\n",
        "\n",
        "print('Shape of training set:',x_train.shape)\n",
        "print('Shape of validation set:',x_valid.shape)\n",
        "print('Shape of training labels:',y_train.shape)\n",
        "print('Shape of validation labels:',y_valid.shape)"
      ],
      "metadata": {
        "colab": {
          "base_uri": "https://localhost:8080/"
        },
        "id": "vqeF_EZcTE3S",
        "outputId": "45116f34-b19e-42ea-843c-f9a6c36ba186"
      },
      "execution_count": null,
      "outputs": [
        {
          "output_type": "stream",
          "name": "stdout",
          "text": [
            "Shape of X after trimming: (1740, 22, 500)\n",
            "Shape of X after maxpooling: (1740, 22, 250)\n",
            "Shape of X after averaging+noise and concatenating: (3480, 22, 250)\n",
            "Shape of X after subsampling and concatenating: (6960, 22, 250)\n",
            "Shape of X after trimming: (375, 22, 500)\n",
            "Shape of X after maxpooling: (375, 22, 250)\n",
            "Shape of X after averaging+noise and concatenating: (750, 22, 250)\n",
            "Shape of X after subsampling and concatenating: (1500, 22, 250)\n",
            "Shape of X after trimming: (443, 22, 500)\n",
            "Shape of X after maxpooling: (443, 22, 250)\n",
            "Shape of X after averaging+noise and concatenating: (886, 22, 250)\n",
            "Shape of X after subsampling and concatenating: (1772, 22, 250)\n",
            "Shape of testing set: (1772, 22, 250)\n",
            "Shape of testing labels: (1772,)\n",
            "Shape of training set: (6960, 22, 250)\n",
            "Shape of validation set: (1500, 22, 250)\n",
            "Shape of training labels: (6960,)\n",
            "Shape of validation labels: (1500,)\n"
          ]
        }
      ]
    },
    {
      "cell_type": "markdown",
      "source": [
        "### Variational AutoEncoder (VAE)"
      ],
      "metadata": {
        "id": "Rw5A7A-OQ_mc"
      }
    },
    {
      "cell_type": "markdown",
      "source": [
        "#### VAE architecture"
      ],
      "metadata": {
        "id": "LKq-uuYE6Xj_"
      }
    },
    {
      "cell_type": "code",
      "source": [
        "import numpy as np\n",
        "import tensorflow as tf\n",
        "from tensorflow import keras\n",
        "from tensorflow.keras import layers\n",
        "from sklearn.utils import shuffle"
      ],
      "metadata": {
        "id": "M_NSZVHI1paR"
      },
      "execution_count": null,
      "outputs": []
    },
    {
      "cell_type": "code",
      "source": [
        "class Sampling(layers.Layer):\n",
        "    \"\"\"Uses (z_mean, z_log_var) to sample z, the vector encoding a digit.\"\"\"\n",
        "\n",
        "    def call(self, inputs):\n",
        "        z_mean, z_log_var = inputs\n",
        "        batch = tf.shape(z_mean)[0]\n",
        "        dim = tf.shape(z_mean)[1]\n",
        "        epsilon = tf.keras.backend.random_normal(shape=(batch, dim))\n",
        "        return z_mean + tf.exp(0.5 * z_log_var) * epsilon"
      ],
      "metadata": {
        "id": "QZP4hE-bbl7Q"
      },
      "execution_count": null,
      "outputs": []
    },
    {
      "cell_type": "code",
      "source": [
        "# Encoder \n",
        "\n",
        "latent_dim = 8\n",
        "encoder_inputs = keras.Input(shape=(22, 250, 1), name='input_layer')\n",
        " \n",
        "# Block-1\n",
        "x = layers.Conv2D(32, kernel_size=3, strides= 1, padding='same', name='conv_1')(encoder_inputs)\n",
        "x = layers.BatchNormalization(name='bn_1')(x)\n",
        "x = layers.LeakyReLU(name='lrelu_1')(x)\n",
        "  \n",
        "# Block-2\n",
        "x = layers.Conv2D(64, kernel_size=3, strides= 2, padding='same', name='conv_2')(x)\n",
        "x = layers.BatchNormalization(name='bn_2')(x)\n",
        "x = layers.LeakyReLU(name='lrelu_2')(x)\n",
        "  \n",
        "# Block-3\n",
        "x = layers.Conv2D(64, 3, 1, padding='same', name='conv_3')(x)\n",
        "x = layers.BatchNormalization(name='bn_3')(x)\n",
        "x = layers.LeakyReLU(name='lrelu_3')(x)\n",
        "\n",
        "# Block-4\n",
        "x = layers.Conv2D(64, 3, 1, padding='same', name='conv_4')(x)\n",
        "x = layers.BatchNormalization(name='bn_4')(x)\n",
        "x = layers.LeakyReLU(name='lrelu_4')(x)\n",
        "\n",
        "# Final Block\n",
        "flatten = layers.Flatten()(x)\n",
        "x = layers.Flatten()(x)\n",
        "x = layers.Dense(16, activation=\"relu\")(x)\n",
        "z_mean = layers.Dense(latent_dim, name=\"z_mean\")(x)\n",
        "z_log_var = layers.Dense(latent_dim, name=\"z_log_var\")(x)\n",
        "z = Sampling()([z_mean, z_log_var])\n",
        "encoder = keras.Model(encoder_inputs, [z_mean, z_log_var, z], name=\"encoder\")\n",
        "encoder.summary()"
      ],
      "metadata": {
        "colab": {
          "base_uri": "https://localhost:8080/"
        },
        "id": "SVYscZueY8pK",
        "outputId": "0a05d83d-a017-4d9c-c65b-cda76e3b905f"
      },
      "execution_count": null,
      "outputs": [
        {
          "output_type": "stream",
          "name": "stdout",
          "text": [
            "Model: \"encoder\"\n",
            "__________________________________________________________________________________________________\n",
            " Layer (type)                   Output Shape         Param #     Connected to                     \n",
            "==================================================================================================\n",
            " input_layer (InputLayer)       [(None, 22, 250, 1)  0           []                               \n",
            "                                ]                                                                 \n",
            "                                                                                                  \n",
            " conv_1 (Conv2D)                (None, 22, 250, 32)  320         ['input_layer[0][0]']            \n",
            "                                                                                                  \n",
            " bn_1 (BatchNormalization)      (None, 22, 250, 32)  128         ['conv_1[0][0]']                 \n",
            "                                                                                                  \n",
            " lrelu_1 (LeakyReLU)            (None, 22, 250, 32)  0           ['bn_1[0][0]']                   \n",
            "                                                                                                  \n",
            " conv_2 (Conv2D)                (None, 11, 125, 64)  18496       ['lrelu_1[0][0]']                \n",
            "                                                                                                  \n",
            " bn_2 (BatchNormalization)      (None, 11, 125, 64)  256         ['conv_2[0][0]']                 \n",
            "                                                                                                  \n",
            " lrelu_2 (LeakyReLU)            (None, 11, 125, 64)  0           ['bn_2[0][0]']                   \n",
            "                                                                                                  \n",
            " conv_3 (Conv2D)                (None, 11, 125, 64)  36928       ['lrelu_2[0][0]']                \n",
            "                                                                                                  \n",
            " bn_3 (BatchNormalization)      (None, 11, 125, 64)  256         ['conv_3[0][0]']                 \n",
            "                                                                                                  \n",
            " lrelu_3 (LeakyReLU)            (None, 11, 125, 64)  0           ['bn_3[0][0]']                   \n",
            "                                                                                                  \n",
            " conv_4 (Conv2D)                (None, 11, 125, 64)  36928       ['lrelu_3[0][0]']                \n",
            "                                                                                                  \n",
            " bn_4 (BatchNormalization)      (None, 11, 125, 64)  256         ['conv_4[0][0]']                 \n",
            "                                                                                                  \n",
            " lrelu_4 (LeakyReLU)            (None, 11, 125, 64)  0           ['bn_4[0][0]']                   \n",
            "                                                                                                  \n",
            " flatten_1 (Flatten)            (None, 88000)        0           ['lrelu_4[0][0]']                \n",
            "                                                                                                  \n",
            " dense (Dense)                  (None, 16)           1408016     ['flatten_1[0][0]']              \n",
            "                                                                                                  \n",
            " z_mean (Dense)                 (None, 8)            136         ['dense[0][0]']                  \n",
            "                                                                                                  \n",
            " z_log_var (Dense)              (None, 8)            136         ['dense[0][0]']                  \n",
            "                                                                                                  \n",
            " sampling (Sampling)            (None, 8)            0           ['z_mean[0][0]',                 \n",
            "                                                                  'z_log_var[0][0]']              \n",
            "                                                                                                  \n",
            "==================================================================================================\n",
            "Total params: 1,501,856\n",
            "Trainable params: 1,501,408\n",
            "Non-trainable params: 448\n",
            "__________________________________________________________________________________________________\n"
          ]
        }
      ]
    },
    {
      "cell_type": "code",
      "source": [
        "# Decoder \n",
        "\n",
        "latent_inputs = keras.Input(shape=(latent_dim,), name='input_layer')\n",
        "x = layers.Dense(11*125*64, name='dense_1')(latent_inputs)\n",
        "x = layers.Reshape((11, 125, 64), name='Reshape_Layer')(x)\n",
        "\n",
        "# Block-1\n",
        "x = layers.Conv2DTranspose(64, 3, strides= 1, padding='same',name='conv_transpose_1')(x)\n",
        "x = layers.BatchNormalization(name='bn_1')(x)\n",
        "x = layers.LeakyReLU(name='lrelu_1')(x)\n",
        "\n",
        "# Block-2\n",
        "x = layers.Conv2DTranspose(64, 3, strides= 2, padding='same', name='conv_transpose_2')(x)\n",
        "x = layers.BatchNormalization(name='bn_2')(x)\n",
        "x = layers.LeakyReLU(name='lrelu_2')(x)\n",
        "  \n",
        "# Block-3\n",
        "x = layers.Conv2DTranspose(32, 3, 1, padding='same', name='conv_transpose_3')(x)\n",
        "x = layers.BatchNormalization(name='bn_3')(x)\n",
        "x = layers.LeakyReLU(name='lrelu_3')(x)\n",
        "  \n",
        "# Block-4\n",
        "decoder_outputs = layers.Conv2DTranspose(1, 3, 1,padding='same', activation='elu', name='conv_transpose_4')(x)\n",
        "decoder = keras.Model(latent_inputs, decoder_outputs, name=\"decoder\")\n",
        "decoder.summary()"
      ],
      "metadata": {
        "colab": {
          "base_uri": "https://localhost:8080/"
        },
        "id": "Dwh71fvtZbnB",
        "outputId": "4c299e08-e94d-4a0c-820a-bbec9726599e"
      },
      "execution_count": null,
      "outputs": [
        {
          "output_type": "stream",
          "name": "stdout",
          "text": [
            "Model: \"decoder\"\n",
            "_________________________________________________________________\n",
            " Layer (type)                Output Shape              Param #   \n",
            "=================================================================\n",
            " input_layer (InputLayer)    [(None, 8)]               0         \n",
            "                                                                 \n",
            " dense_1 (Dense)             (None, 88000)             792000    \n",
            "                                                                 \n",
            " Reshape_Layer (Reshape)     (None, 11, 125, 64)       0         \n",
            "                                                                 \n",
            " conv_transpose_1 (Conv2DTra  (None, 11, 125, 64)      36928     \n",
            " nspose)                                                         \n",
            "                                                                 \n",
            " bn_1 (BatchNormalization)   (None, 11, 125, 64)       256       \n",
            "                                                                 \n",
            " lrelu_1 (LeakyReLU)         (None, 11, 125, 64)       0         \n",
            "                                                                 \n",
            " conv_transpose_2 (Conv2DTra  (None, 22, 250, 64)      36928     \n",
            " nspose)                                                         \n",
            "                                                                 \n",
            " bn_2 (BatchNormalization)   (None, 22, 250, 64)       256       \n",
            "                                                                 \n",
            " lrelu_2 (LeakyReLU)         (None, 22, 250, 64)       0         \n",
            "                                                                 \n",
            " conv_transpose_3 (Conv2DTra  (None, 22, 250, 32)      18464     \n",
            " nspose)                                                         \n",
            "                                                                 \n",
            " bn_3 (BatchNormalization)   (None, 22, 250, 32)       128       \n",
            "                                                                 \n",
            " lrelu_3 (LeakyReLU)         (None, 22, 250, 32)       0         \n",
            "                                                                 \n",
            " conv_transpose_4 (Conv2DTra  (None, 22, 250, 1)       289       \n",
            " nspose)                                                         \n",
            "                                                                 \n",
            "=================================================================\n",
            "Total params: 885,249\n",
            "Trainable params: 884,929\n",
            "Non-trainable params: 320\n",
            "_________________________________________________________________\n"
          ]
        }
      ]
    },
    {
      "cell_type": "code",
      "source": [
        "class VAE(keras.Model): # VAE class \n",
        "    def __init__(self, encoder, decoder, **kwargs):\n",
        "        super().__init__(**kwargs)\n",
        "        self.encoder = encoder\n",
        "        self.decoder = decoder\n",
        "        self.total_loss_tracker = keras.metrics.Mean(name=\"total_loss\")\n",
        "        self.mse_loss_tracker = keras.metrics.Mean(\n",
        "            name=\"mse_loss\"\n",
        "        )\n",
        "        self.kl_loss_tracker = keras.metrics.Mean(name=\"kl_loss\")\n",
        "\n",
        "    @property\n",
        "    def metrics(self):\n",
        "        return [\n",
        "            self.total_loss_tracker,\n",
        "            self.mse_loss_tracker,\n",
        "            self.kl_loss_tracker,\n",
        "        ]\n",
        "\n",
        "    def train_step(self, data):\n",
        "        with tf.GradientTape() as tape:\n",
        "            z_mean, z_log_var, z = self.encoder(data)\n",
        "            reconstruction = self.decoder(z)\n",
        "            mse_loss = tf.keras.backend.mean(tf.keras.backend.square(data-reconstruction), axis=[1, 2, 3])\n",
        "            mse_loss *= 1000 #  scaling\n",
        "            kl_loss = -0.5 * (1 + z_log_var - tf.square(z_mean) - tf.exp(z_log_var))\n",
        "            kl_loss = tf.reduce_mean(tf.reduce_sum(kl_loss, axis=1))\n",
        "            total_loss = mse_loss + kl_loss\n",
        "        grads = tape.gradient(total_loss, self.trainable_weights)\n",
        "        self.optimizer.apply_gradients(zip(grads, self.trainable_weights))\n",
        "        self.total_loss_tracker.update_state(total_loss)\n",
        "        self.mse_loss_tracker.update_state(mse_loss)\n",
        "        self.kl_loss_tracker.update_state(kl_loss)\n",
        "        return {\n",
        "            \"loss\": self.total_loss_tracker.result(),\n",
        "            \"mse_loss\": self.mse_loss_tracker.result(),\n",
        "            \"kl_loss\": self.kl_loss_tracker.result(),\n",
        "        }"
      ],
      "metadata": {
        "id": "TI38dU6DH3B8"
      },
      "execution_count": null,
      "outputs": []
    },
    {
      "cell_type": "markdown",
      "source": [
        "#### VAE Function"
      ],
      "metadata": {
        "id": "IIPNxckcYy6r"
      }
    },
    {
      "cell_type": "code",
      "source": [
        "def VAE_augmentation(X,y):\n",
        "    \n",
        "    total_X = X\n",
        "    total_y = y\n",
        "\n",
        "    # Class 0 VAE generation \n",
        "    class_0_idx = np.where(y == 0)[0]\n",
        "    X_train_class_0 = X[class_0_idx, :, :]\n",
        "    y_train_class_0= y[class_0_idx]\n",
        "    x_class0 = np.expand_dims(X_train_class_0, -1).astype(\"float32\")/255.0\n",
        "    vae_class0 = VAE(encoder, decoder)\n",
        "    vae_class0.compile(optimizer=keras.optimizers.Adam(learning_rate = 0.0005))\n",
        "    with tf.device('/device:GPU:0'):\n",
        "      vae_class0.fit(x_class0, epochs = 10)\n",
        "    \n",
        "    z_mean, _, _ = vae_class0.encoder.predict(x_class0)\n",
        "    x_train_vae_class0 = vae_class0.decoder.predict(z_mean)\n",
        "    y_train_vae_class0 = np.zeros(len(y_train_class_0))\n",
        "\n",
        "    # Class 1 VAE generation \n",
        "    class_1_idx = np.where(y == 1)[0]\n",
        "    X_train_class_1 = X[class_1_idx, :, :]\n",
        "    y_train_class_1= y[class_1_idx]\n",
        "    x_class1 = np.expand_dims(X_train_class_1, -1).astype(\"float32\")/255.0\n",
        "    vae_class1 = VAE(encoder, decoder)\n",
        "    vae_class1.compile(optimizer=keras.optimizers.Adam(learning_rate = 0.0005))\n",
        "    with tf.device('/device:GPU:0'):\n",
        "      vae_class1.fit(x_class1, epochs = 10)\n",
        "    \n",
        "    z_mean, _, _ = vae_class1.encoder.predict(x_class1)\n",
        "    x_train_vae_class1 = vae_class1.decoder.predict(z_mean)\n",
        "    y_train_vae_class1 = np.zeros(len(y_train_class_1))\n",
        "\n",
        "    # Class 2 VAE generation \n",
        "    class_2_idx = np.where(y == 2)[0]\n",
        "\n",
        "    X_train_class_2 = X[class_2_idx, :, :]\n",
        "    y_train_class_2= y[class_2_idx]\n",
        "    x_class2 = np.expand_dims(X_train_class_2, -1).astype(\"float32\")/255.0\n",
        "    vae_class2 = VAE(encoder, decoder)\n",
        "    vae_class2.compile(optimizer=keras.optimizers.Adam(learning_rate = 0.0005))\n",
        "    with tf.device('/device:GPU:0'):\n",
        "      vae_class2.fit(x_class2, epochs = 10)\n",
        "    \n",
        "    z_mean, _, _ = vae_class2.encoder.predict(x_class2)\n",
        "    x_train_vae_class2 = vae_class2.decoder.predict(z_mean)\n",
        "    y_train_vae_class2 = np.zeros(len(y_train_class_2))\n",
        "\n",
        "    # Class 3 VAE generation \n",
        "    class_3_idx = np.where(y == 3)[0]\n",
        "\n",
        "    X_train_class_3 = X[class_3_idx, :, :]\n",
        "    y_train_class_3= y[class_3_idx]\n",
        "    x_class3 = np.expand_dims(X_train_class_3, -1).astype(\"float32\")/255.0\n",
        "    vae_class3 = VAE(encoder, decoder)\n",
        "    vae_class3.compile(optimizer=keras.optimizers.Adam(learning_rate = 0.0005))\n",
        "    with tf.device('/device:GPU:0'):\n",
        "      vae_class3.fit(x_class3, epochs = 10)\n",
        "    \n",
        "    z_mean, _, _ = vae_class3.encoder.predict(x_class3)\n",
        "    x_train_vae_class3 = vae_class3.decoder.predict(z_mean)\n",
        "    y_train_vae_class3 = np.zeros(len(y_train_class_3))\n",
        "\n",
        "    # Concatenating values\n",
        "    # stacking X data\n",
        "    vae_X = np.vstack((x_train_vae_class0, x_train_vae_class1))\n",
        "    vae_X = np.vstack((vae_X , x_train_vae_class2))\n",
        "    vae_X = np.vstack((vae_X , x_train_vae_class3))\n",
        "\n",
        "    # stacking Y data\n",
        "    vae_y = np.hstack((y_train_vae_class0, y_train_vae_class1))\n",
        "    vae_y = np.hstack((vae_y, y_train_vae_class2))\n",
        "    vae_y = np.hstack((vae_y, y_train_vae_class3))\n",
        "\n",
        "    # stacking vae and original data\n",
        "    vae_X, vae_y = shuffle(vae_X, vae_y)\n",
        "    vae_X = vae_X.reshape(vae_X.shape[0], vae_X.shape[1], vae_X.shape[2]) # reshaping to original train data \n",
        "    total_X = np.vstack((X, vae_X))\n",
        "    total_y = np.hstack((y, vae_y))\n",
        "    \n",
        "    return total_X,total_y"
      ],
      "metadata": {
        "id": "dqVxFxhJY58-"
      },
      "execution_count": null,
      "outputs": []
    },
    {
      "cell_type": "markdown",
      "source": [
        "#### VAE data generation"
      ],
      "metadata": {
        "id": "N5dPF1TPfwe4"
      }
    },
    {
      "cell_type": "code",
      "source": [
        "#Augmenting training data\n",
        "x_train, y_train = VAE_augmentation(x_train,y_train)"
      ],
      "metadata": {
        "colab": {
          "base_uri": "https://localhost:8080/"
        },
        "id": "ddyCDIvefcIB",
        "outputId": "9bdaced9-3c08-4fd9-8b80-a0a8036b102c"
      },
      "execution_count": null,
      "outputs": [
        {
          "output_type": "stream",
          "name": "stdout",
          "text": [
            "Epoch 1/10\n",
            "56/56 [==============================] - 17s 14ms/step - loss: 1.6848 - mse_loss: 1.6662 - kl_loss: 8.1729e-05\n",
            "Epoch 2/10\n",
            "56/56 [==============================] - 1s 10ms/step - loss: 1.6396 - mse_loss: 1.6291 - kl_loss: 9.5612e-06\n",
            "Epoch 3/10\n",
            "56/56 [==============================] - 1s 10ms/step - loss: 1.6301 - mse_loss: 1.6263 - kl_loss: 5.3421e-06\n",
            "Epoch 4/10\n",
            "56/56 [==============================] - 1s 10ms/step - loss: 1.6289 - mse_loss: 1.6231 - kl_loss: 5.0084e-06\n",
            "Epoch 5/10\n",
            "56/56 [==============================] - 1s 10ms/step - loss: 1.6185 - mse_loss: 1.6239 - kl_loss: 3.7849e-06\n",
            "Epoch 6/10\n",
            "56/56 [==============================] - 1s 10ms/step - loss: 1.6135 - mse_loss: 1.6226 - kl_loss: 2.7418e-06\n",
            "Epoch 7/10\n",
            "56/56 [==============================] - 1s 10ms/step - loss: 1.6306 - mse_loss: 1.6226 - kl_loss: 2.4640e-06\n",
            "Epoch 8/10\n",
            "56/56 [==============================] - 1s 10ms/step - loss: 1.6476 - mse_loss: 1.6239 - kl_loss: 3.2383e-06\n",
            "Epoch 9/10\n",
            "56/56 [==============================] - 1s 11ms/step - loss: 1.6269 - mse_loss: 1.6215 - kl_loss: 2.2405e-06\n",
            "Epoch 10/10\n",
            "56/56 [==============================] - 1s 10ms/step - loss: 1.6073 - mse_loss: 1.6212 - kl_loss: 2.3464e-06\n",
            "56/56 [==============================] - 0s 2ms/step\n",
            "56/56 [==============================] - 0s 2ms/step\n",
            "Epoch 1/10\n",
            "52/52 [==============================] - 7s 13ms/step - loss: 1.5566 - mse_loss: 1.5693 - kl_loss: 5.5547e-06\n",
            "Epoch 2/10\n",
            "52/52 [==============================] - 1s 10ms/step - loss: 1.5452 - mse_loss: 1.5643 - kl_loss: 2.9934e-06\n",
            "Epoch 3/10\n",
            "52/52 [==============================] - 1s 10ms/step - loss: 1.5874 - mse_loss: 1.5643 - kl_loss: 2.9218e-06\n",
            "Epoch 4/10\n",
            "52/52 [==============================] - 1s 10ms/step - loss: 1.5863 - mse_loss: 1.5619 - kl_loss: 2.7624e-06\n",
            "Epoch 5/10\n",
            "52/52 [==============================] - 1s 10ms/step - loss: 1.5357 - mse_loss: 1.5628 - kl_loss: 2.3509e-06\n",
            "Epoch 6/10\n",
            "52/52 [==============================] - 1s 10ms/step - loss: 1.5795 - mse_loss: 1.5606 - kl_loss: 2.2971e-06\n",
            "Epoch 7/10\n",
            "52/52 [==============================] - 1s 10ms/step - loss: 1.5521 - mse_loss: 1.5604 - kl_loss: 1.7773e-06\n",
            "Epoch 8/10\n",
            "52/52 [==============================] - 1s 12ms/step - loss: 1.5579 - mse_loss: 1.5634 - kl_loss: 2.2208e-06\n",
            "Epoch 9/10\n",
            "52/52 [==============================] - 1s 12ms/step - loss: 1.5623 - mse_loss: 1.5616 - kl_loss: 1.6672e-06\n",
            "Epoch 10/10\n",
            "52/52 [==============================] - 1s 11ms/step - loss: 1.5704 - mse_loss: 1.5634 - kl_loss: 1.8988e-06\n",
            "52/52 [==============================] - 0s 2ms/step\n",
            "52/52 [==============================] - 0s 2ms/step\n",
            "Epoch 1/10\n",
            "57/57 [==============================] - 6s 13ms/step - loss: 1.7192 - mse_loss: 1.7313 - kl_loss: 6.1137e-06\n",
            "Epoch 2/10\n",
            "57/57 [==============================] - 1s 11ms/step - loss: 1.7106 - mse_loss: 1.7233 - kl_loss: 2.8872e-06\n",
            "Epoch 3/10\n",
            "57/57 [==============================] - 1s 10ms/step - loss: 1.7362 - mse_loss: 1.7218 - kl_loss: 2.6906e-06\n",
            "Epoch 4/10\n",
            "57/57 [==============================] - 1s 10ms/step - loss: 1.7228 - mse_loss: 1.7221 - kl_loss: 2.2765e-06\n",
            "Epoch 5/10\n",
            "57/57 [==============================] - 1s 11ms/step - loss: 1.7119 - mse_loss: 1.7204 - kl_loss: 1.8409e-06\n",
            "Epoch 6/10\n",
            "57/57 [==============================] - 1s 10ms/step - loss: 1.7277 - mse_loss: 1.7209 - kl_loss: 2.1766e-06\n",
            "Epoch 7/10\n",
            "57/57 [==============================] - 1s 10ms/step - loss: 1.7546 - mse_loss: 1.7212 - kl_loss: 2.4067e-06\n",
            "Epoch 8/10\n",
            "57/57 [==============================] - 1s 10ms/step - loss: 1.7135 - mse_loss: 1.7200 - kl_loss: 1.9351e-06\n",
            "Epoch 9/10\n",
            "57/57 [==============================] - 1s 10ms/step - loss: 1.7017 - mse_loss: 1.7197 - kl_loss: 2.2671e-06\n",
            "Epoch 10/10\n",
            "57/57 [==============================] - 1s 10ms/step - loss: 1.7332 - mse_loss: 1.7207 - kl_loss: 2.1426e-06\n",
            "57/57 [==============================] - 0s 2ms/step\n",
            "57/57 [==============================] - 0s 2ms/step\n",
            "Epoch 1/10\n",
            "55/55 [==============================] - 7s 14ms/step - loss: 1.7611 - mse_loss: 1.7735 - kl_loss: 3.8960e-06\n",
            "Epoch 2/10\n",
            "55/55 [==============================] - 1s 10ms/step - loss: 1.7690 - mse_loss: 1.7670 - kl_loss: 2.0683e-06\n",
            "Epoch 3/10\n",
            "55/55 [==============================] - 1s 10ms/step - loss: 1.7562 - mse_loss: 1.7661 - kl_loss: 2.5522e-06\n",
            "Epoch 4/10\n",
            "55/55 [==============================] - 1s 10ms/step - loss: 1.7670 - mse_loss: 1.7641 - kl_loss: 2.0071e-06\n",
            "Epoch 5/10\n",
            "55/55 [==============================] - 1s 10ms/step - loss: 1.7480 - mse_loss: 1.7639 - kl_loss: 1.7264e-06\n",
            "Epoch 6/10\n",
            "55/55 [==============================] - 1s 10ms/step - loss: 1.7746 - mse_loss: 1.7639 - kl_loss: 1.6874e-06\n",
            "Epoch 7/10\n",
            "55/55 [==============================] - 1s 10ms/step - loss: 1.7383 - mse_loss: 1.7641 - kl_loss: 1.4571e-06\n",
            "Epoch 8/10\n",
            "55/55 [==============================] - 1s 10ms/step - loss: 1.7385 - mse_loss: 1.7645 - kl_loss: 1.4733e-06\n",
            "Epoch 9/10\n",
            "55/55 [==============================] - 1s 10ms/step - loss: 1.7544 - mse_loss: 1.7640 - kl_loss: 1.3872e-06\n",
            "Epoch 10/10\n",
            "55/55 [==============================] - 1s 10ms/step - loss: 1.7547 - mse_loss: 1.7637 - kl_loss: 1.3362e-06\n",
            "55/55 [==============================] - 0s 2ms/step\n",
            "55/55 [==============================] - 0s 2ms/step\n"
          ]
        }
      ]
    },
    {
      "cell_type": "code",
      "source": [
        "#Augmenting validation data\n",
        "x_valid, y_valid = VAE_augmentation(x_valid,y_valid)"
      ],
      "metadata": {
        "colab": {
          "base_uri": "https://localhost:8080/"
        },
        "id": "eUxwpZpofcSk",
        "outputId": "866368e4-c071-4964-c2d5-a81b8321f45d"
      },
      "execution_count": null,
      "outputs": [
        {
          "output_type": "stream",
          "name": "stdout",
          "text": [
            "Epoch 1/10\n",
            "11/11 [==============================] - 6s 13ms/step - loss: 1.6848 - mse_loss: 1.6407 - kl_loss: 4.6275e-06\n",
            "Epoch 2/10\n",
            "11/11 [==============================] - 0s 12ms/step - loss: 1.6283 - mse_loss: 1.6326 - kl_loss: 4.4758e-06\n",
            "Epoch 3/10\n",
            "11/11 [==============================] - 0s 11ms/step - loss: 1.5929 - mse_loss: 1.6245 - kl_loss: 2.9044e-06\n",
            "Epoch 4/10\n",
            "11/11 [==============================] - 0s 11ms/step - loss: 1.6463 - mse_loss: 1.6215 - kl_loss: 3.5302e-06\n",
            "Epoch 5/10\n",
            "11/11 [==============================] - 0s 11ms/step - loss: 1.5632 - mse_loss: 1.6212 - kl_loss: 2.6958e-06\n",
            "Epoch 6/10\n",
            "11/11 [==============================] - 0s 10ms/step - loss: 1.5904 - mse_loss: 1.6189 - kl_loss: 2.7825e-06\n",
            "Epoch 7/10\n",
            "11/11 [==============================] - 0s 11ms/step - loss: 1.5997 - mse_loss: 1.6207 - kl_loss: 2.2406e-06\n",
            "Epoch 8/10\n",
            "11/11 [==============================] - 0s 10ms/step - loss: 1.6150 - mse_loss: 1.6181 - kl_loss: 3.0100e-06\n",
            "Epoch 9/10\n",
            "11/11 [==============================] - 0s 11ms/step - loss: 1.6824 - mse_loss: 1.6165 - kl_loss: 2.3029e-06\n",
            "Epoch 10/10\n",
            "11/11 [==============================] - 0s 11ms/step - loss: 1.6013 - mse_loss: 1.6169 - kl_loss: 1.0702e-06\n",
            "11/11 [==============================] - 0s 2ms/step\n",
            "11/11 [==============================] - 0s 2ms/step\n",
            "Epoch 1/10\n",
            "13/13 [==============================] - 6s 12ms/step - loss: 1.6570 - mse_loss: 1.6167 - kl_loss: 2.2489e-06\n",
            "Epoch 2/10\n",
            "13/13 [==============================] - 0s 10ms/step - loss: 1.5982 - mse_loss: 1.6117 - kl_loss: 2.1756e-06\n",
            "Epoch 3/10\n",
            "13/13 [==============================] - 0s 10ms/step - loss: 1.5879 - mse_loss: 1.6064 - kl_loss: 2.8243e-06\n",
            "Epoch 4/10\n",
            "13/13 [==============================] - 0s 11ms/step - loss: 1.6134 - mse_loss: 1.6047 - kl_loss: 1.8615e-06\n",
            "Epoch 5/10\n",
            "13/13 [==============================] - 0s 10ms/step - loss: 1.6230 - mse_loss: 1.6049 - kl_loss: 2.3819e-06\n",
            "Epoch 6/10\n",
            "13/13 [==============================] - 0s 10ms/step - loss: 1.5798 - mse_loss: 1.6010 - kl_loss: 1.4443e-06\n",
            "Epoch 7/10\n",
            "13/13 [==============================] - 0s 10ms/step - loss: 1.5622 - mse_loss: 1.5994 - kl_loss: 1.2907e-06\n",
            "Epoch 8/10\n",
            "13/13 [==============================] - 0s 10ms/step - loss: 1.5725 - mse_loss: 1.6002 - kl_loss: 2.0449e-06\n",
            "Epoch 9/10\n",
            "13/13 [==============================] - 0s 10ms/step - loss: 1.6751 - mse_loss: 1.6031 - kl_loss: 2.3544e-06\n",
            "Epoch 10/10\n",
            "13/13 [==============================] - 0s 11ms/step - loss: 1.6114 - mse_loss: 1.6003 - kl_loss: 3.1636e-06\n",
            "13/13 [==============================] - 0s 2ms/step\n",
            "13/13 [==============================] - 0s 2ms/step\n",
            "Epoch 1/10\n",
            "12/12 [==============================] - 6s 27ms/step - loss: 1.5951 - mse_loss: 1.5953 - kl_loss: 8.9904e-06\n",
            "Epoch 2/10\n",
            "12/12 [==============================] - 0s 10ms/step - loss: 1.6127 - mse_loss: 1.5810 - kl_loss: 1.0294e-05\n",
            "Epoch 3/10\n",
            "12/12 [==============================] - 0s 10ms/step - loss: 1.5113 - mse_loss: 1.5758 - kl_loss: 9.3977e-06\n",
            "Epoch 4/10\n",
            "12/12 [==============================] - 0s 11ms/step - loss: 1.6090 - mse_loss: 1.5688 - kl_loss: 2.4984e-06\n",
            "Epoch 5/10\n",
            "12/12 [==============================] - 0s 11ms/step - loss: 1.5265 - mse_loss: 1.5669 - kl_loss: 1.8701e-06\n",
            "Epoch 6/10\n",
            "12/12 [==============================] - 0s 11ms/step - loss: 1.5352 - mse_loss: 1.5697 - kl_loss: 3.7377e-06\n",
            "Epoch 7/10\n",
            "12/12 [==============================] - 0s 10ms/step - loss: 1.5714 - mse_loss: 1.5671 - kl_loss: 4.1053e-06\n",
            "Epoch 8/10\n",
            "12/12 [==============================] - 0s 11ms/step - loss: 1.5876 - mse_loss: 1.5666 - kl_loss: 3.6110e-06\n",
            "Epoch 9/10\n",
            "12/12 [==============================] - 0s 11ms/step - loss: 1.5111 - mse_loss: 1.5655 - kl_loss: 2.6226e-06\n",
            "Epoch 10/10\n",
            "12/12 [==============================] - 0s 11ms/step - loss: 1.5775 - mse_loss: 1.5644 - kl_loss: 2.6698e-06\n",
            "12/12 [==============================] - 0s 2ms/step\n",
            "12/12 [==============================] - 0s 2ms/step\n",
            "Epoch 1/10\n",
            "12/12 [==============================] - 6s 25ms/step - loss: 1.8398 - mse_loss: 1.8065 - kl_loss: 6.8024e-06\n",
            "Epoch 2/10\n",
            "12/12 [==============================] - 0s 11ms/step - loss: 1.7643 - mse_loss: 1.7773 - kl_loss: 2.0663e-06\n",
            "Epoch 3/10\n",
            "12/12 [==============================] - 0s 11ms/step - loss: 1.7603 - mse_loss: 1.7715 - kl_loss: 2.9306e-06\n",
            "Epoch 4/10\n",
            "12/12 [==============================] - 0s 11ms/step - loss: 1.7419 - mse_loss: 1.7697 - kl_loss: 2.9306e-06\n",
            "Epoch 5/10\n",
            "12/12 [==============================] - 0s 11ms/step - loss: 1.7579 - mse_loss: 1.7658 - kl_loss: 2.7741e-06\n",
            "Epoch 6/10\n",
            "12/12 [==============================] - 0s 11ms/step - loss: 1.7701 - mse_loss: 1.7646 - kl_loss: 3.5067e-06\n",
            "Epoch 7/10\n",
            "12/12 [==============================] - 0s 11ms/step - loss: 1.7879 - mse_loss: 1.7679 - kl_loss: 3.0994e-06\n",
            "Epoch 8/10\n",
            "12/12 [==============================] - 0s 11ms/step - loss: 1.8339 - mse_loss: 1.7631 - kl_loss: 4.3288e-06\n",
            "Epoch 9/10\n",
            "12/12 [==============================] - 0s 11ms/step - loss: 1.7728 - mse_loss: 1.7638 - kl_loss: 3.1069e-06\n",
            "Epoch 10/10\n",
            "12/12 [==============================] - 0s 12ms/step - loss: 1.7624 - mse_loss: 1.7588 - kl_loss: 2.1259e-06\n",
            "12/12 [==============================] - 0s 2ms/step\n",
            "12/12 [==============================] - 0s 2ms/step\n"
          ]
        }
      ]
    },
    {
      "cell_type": "code",
      "source": [
        "#Augmenting test data \n",
        "X_test_prep, y_test_prep = VAE_augmentation(X_test_prep,y_test_prep)"
      ],
      "metadata": {
        "colab": {
          "base_uri": "https://localhost:8080/"
        },
        "id": "7-fKIAG7fca-",
        "outputId": "6a97f675-6ddc-44f0-b5f6-8c5d17f66fed"
      },
      "execution_count": null,
      "outputs": [
        {
          "output_type": "stream",
          "name": "stdout",
          "text": [
            "Epoch 1/10\n",
            "14/14 [==============================] - 6s 26ms/step - loss: 1.6645 - mse_loss: 1.6368 - kl_loss: 4.3213e-06\n",
            "Epoch 2/10\n",
            "14/14 [==============================] - 0s 11ms/step - loss: 1.6414 - mse_loss: 1.6261 - kl_loss: 1.6476e-06\n",
            "Epoch 3/10\n",
            "14/14 [==============================] - 0s 10ms/step - loss: 1.6608 - mse_loss: 1.6251 - kl_loss: 1.6796e-06\n",
            "Epoch 4/10\n",
            "14/14 [==============================] - 0s 10ms/step - loss: 1.6323 - mse_loss: 1.6229 - kl_loss: 1.8435e-06\n",
            "Epoch 5/10\n",
            "14/14 [==============================] - 0s 12ms/step - loss: 1.6296 - mse_loss: 1.6222 - kl_loss: 1.4028e-06\n",
            "Epoch 6/10\n",
            "14/14 [==============================] - 0s 11ms/step - loss: 1.5786 - mse_loss: 1.6220 - kl_loss: 1.3752e-06\n",
            "Epoch 7/10\n",
            "14/14 [==============================] - 0s 11ms/step - loss: 1.5521 - mse_loss: 1.6204 - kl_loss: 1.3198e-06\n",
            "Epoch 8/10\n",
            "14/14 [==============================] - 0s 10ms/step - loss: 1.6538 - mse_loss: 1.6204 - kl_loss: 1.7732e-06\n",
            "Epoch 9/10\n",
            "14/14 [==============================] - 0s 10ms/step - loss: 1.5870 - mse_loss: 1.6217 - kl_loss: 2.2181e-06\n",
            "Epoch 10/10\n",
            "14/14 [==============================] - 0s 10ms/step - loss: 1.5966 - mse_loss: 1.6201 - kl_loss: 1.6817e-06\n",
            "14/14 [==============================] - 0s 2ms/step\n",
            "14/14 [==============================] - 0s 2ms/step\n",
            "Epoch 1/10\n",
            "16/16 [==============================] - 6s 12ms/step - loss: 1.5270 - mse_loss: 1.5418 - kl_loss: 3.1702e-06\n",
            "Epoch 2/10\n",
            "16/16 [==============================] - 0s 11ms/step - loss: 1.5381 - mse_loss: 1.5349 - kl_loss: 2.1942e-06\n",
            "Epoch 3/10\n",
            "16/16 [==============================] - 0s 11ms/step - loss: 1.5292 - mse_loss: 1.5305 - kl_loss: 1.9930e-06\n",
            "Epoch 4/10\n",
            "16/16 [==============================] - 0s 11ms/step - loss: 1.5644 - mse_loss: 1.5284 - kl_loss: 1.3802e-06\n",
            "Epoch 5/10\n",
            "16/16 [==============================] - 0s 11ms/step - loss: 1.5313 - mse_loss: 1.5283 - kl_loss: 1.6186e-06\n",
            "Epoch 6/10\n",
            "16/16 [==============================] - 0s 11ms/step - loss: 1.5451 - mse_loss: 1.5263 - kl_loss: 1.9018e-06\n",
            "Epoch 7/10\n",
            "16/16 [==============================] - 0s 11ms/step - loss: 1.5826 - mse_loss: 1.5266 - kl_loss: 2.0918e-06\n",
            "Epoch 8/10\n",
            "16/16 [==============================] - 0s 11ms/step - loss: 1.5177 - mse_loss: 1.5244 - kl_loss: 1.4324e-06\n",
            "Epoch 9/10\n",
            "16/16 [==============================] - 0s 11ms/step - loss: 1.5379 - mse_loss: 1.5259 - kl_loss: 1.9576e-06\n",
            "Epoch 10/10\n",
            "16/16 [==============================] - 0s 11ms/step - loss: 1.5539 - mse_loss: 1.5253 - kl_loss: 2.1476e-06\n",
            "16/16 [==============================] - 0s 2ms/step\n",
            "16/16 [==============================] - 0s 2ms/step\n",
            "Epoch 1/10\n",
            "12/12 [==============================] - 6s 12ms/step - loss: 1.7375 - mse_loss: 1.7201 - kl_loss: 5.1906e-06\n",
            "Epoch 2/10\n",
            "12/12 [==============================] - 0s 10ms/step - loss: 1.6854 - mse_loss: 1.7086 - kl_loss: 7.9647e-06\n",
            "Epoch 3/10\n",
            "12/12 [==============================] - 0s 10ms/step - loss: 1.7153 - mse_loss: 1.7040 - kl_loss: 2.8238e-06\n",
            "Epoch 4/10\n",
            "12/12 [==============================] - 0s 10ms/step - loss: 1.7150 - mse_loss: 1.7004 - kl_loss: 2.1805e-06\n",
            "Epoch 5/10\n",
            "12/12 [==============================] - 0s 10ms/step - loss: 1.6585 - mse_loss: 1.6982 - kl_loss: 1.8676e-06\n",
            "Epoch 6/10\n",
            "12/12 [==============================] - 0s 10ms/step - loss: 1.7104 - mse_loss: 1.6981 - kl_loss: 2.2724e-06\n",
            "Epoch 7/10\n",
            "12/12 [==============================] - 0s 10ms/step - loss: 1.6968 - mse_loss: 1.6966 - kl_loss: 2.3122e-06\n",
            "Epoch 8/10\n",
            "12/12 [==============================] - 0s 10ms/step - loss: 1.6671 - mse_loss: 1.6970 - kl_loss: 2.4860e-06\n",
            "Epoch 9/10\n",
            "12/12 [==============================] - 0s 10ms/step - loss: 1.7186 - mse_loss: 1.6936 - kl_loss: 2.6301e-06\n",
            "Epoch 10/10\n",
            "12/12 [==============================] - 0s 11ms/step - loss: 1.7031 - mse_loss: 1.6935 - kl_loss: 1.0729e-06\n",
            "12/12 [==============================] - 0s 2ms/step\n",
            "12/12 [==============================] - 0s 2ms/step\n",
            "Epoch 1/10\n",
            "14/14 [==============================] - 6s 13ms/step - loss: 1.7740 - mse_loss: 1.8181 - kl_loss: 5.8838e-06\n",
            "Epoch 2/10\n",
            "14/14 [==============================] - 0s 11ms/step - loss: 1.7344 - mse_loss: 1.8034 - kl_loss: 2.8121e-06\n",
            "Epoch 3/10\n",
            "14/14 [==============================] - 0s 10ms/step - loss: 1.7970 - mse_loss: 1.7962 - kl_loss: 1.9180e-06\n",
            "Epoch 4/10\n",
            "14/14 [==============================] - 0s 10ms/step - loss: 1.7713 - mse_loss: 1.7946 - kl_loss: 3.6252e-06\n",
            "Epoch 5/10\n",
            "14/14 [==============================] - 0s 11ms/step - loss: 1.7652 - mse_loss: 1.7924 - kl_loss: 2.9206e-06\n",
            "Epoch 6/10\n",
            "14/14 [==============================] - 0s 10ms/step - loss: 1.7954 - mse_loss: 1.7895 - kl_loss: 2.9504e-06\n",
            "Epoch 7/10\n",
            "14/14 [==============================] - 0s 10ms/step - loss: 1.7722 - mse_loss: 1.7900 - kl_loss: 2.4736e-06\n",
            "Epoch 8/10\n",
            "14/14 [==============================] - 0s 11ms/step - loss: 1.7928 - mse_loss: 1.7902 - kl_loss: 2.1692e-06\n",
            "Epoch 9/10\n",
            "14/14 [==============================] - 0s 11ms/step - loss: 1.7807 - mse_loss: 1.7882 - kl_loss: 2.2437e-06\n",
            "Epoch 10/10\n",
            "14/14 [==============================] - 0s 10ms/step - loss: 1.7864 - mse_loss: 1.7899 - kl_loss: 3.5039e-06\n",
            "14/14 [==============================] - 0s 2ms/step\n",
            "14/14 [==============================] - 0s 2ms/step\n"
          ]
        }
      ]
    },
    {
      "cell_type": "code",
      "source": [
        "print('Shape of training data after VAE_augmentation:',x_train.shape)\n",
        "print('Shape of training labels after VAE_augmentation:',y_train.shape)\n",
        "print('Shape of validation data after VAE_augmentation:',x_valid.shape)\n",
        "print('Shape of validation labels after VAE_augmentation:',y_valid.shape)\n",
        "print('Shape of test data after VAE_augmentation:',X_test_prep.shape)\n",
        "print('Shape of test labels after VAE_augmentation:',y_test_prep.shape)"
      ],
      "metadata": {
        "colab": {
          "base_uri": "https://localhost:8080/"
        },
        "id": "9adsqXWL6IFL",
        "outputId": "3fbbc2f7-3777-4948-f2b2-69fdf7e6f85f"
      },
      "execution_count": null,
      "outputs": [
        {
          "output_type": "stream",
          "name": "stdout",
          "text": [
            "Shape of training data after VAE_augmentation: (13920, 22, 250)\n",
            "Shape of training labels after VAE_augmentation: (13920,)\n",
            "Shape of validation data after VAE_augmentation: (3000, 22, 250)\n",
            "Shape of validation labels after VAE_augmentation: (3000,)\n",
            "Shape of test data after VAE_augmentation: (3544, 22, 250)\n",
            "Shape of test labels after VAE_augmentation: (3544,)\n"
          ]
        }
      ]
    },
    {
      "cell_type": "markdown",
      "source": [
        "### Reshaping training and Validation datasets"
      ],
      "metadata": {
        "id": "848K74IfKgQc"
      }
    },
    {
      "cell_type": "code",
      "source": [
        "# Converting the labels to categorical variables for multiclass classification\n",
        "y_train = to_categorical(y_train, 4)\n",
        "y_valid = to_categorical(y_valid, 4)\n",
        "y_test = to_categorical(y_test_prep, 4)\n",
        "print('Shape of training labels after categorical conversion:',y_train.shape)\n",
        "print('Shape of validation labels after categorical conversion:',y_valid.shape)\n",
        "print('Shape of test labels after categorical conversion:',y_test.shape)\n",
        "\n",
        "# Adding width of the segment to be 1\n",
        "x_train = x_train.reshape(x_train.shape[0], x_train.shape[1], x_train.shape[2], 1)\n",
        "x_valid = x_valid.reshape(x_valid.shape[0], x_valid.shape[1], x_train.shape[2], 1)\n",
        "x_test = X_test_prep.reshape(X_test_prep.shape[0], X_test_prep.shape[1], X_test_prep.shape[2], 1)\n",
        "print('Shape of training set after adding width info:',x_train.shape)\n",
        "print('Shape of validation set after adding width info:',x_valid.shape)\n",
        "print('Shape of test set after adding width info:',x_test.shape)\n",
        "\n",
        "# Reshaping the training and validation dataset\n",
        "x_train_vae = np.swapaxes(x_train, 1,3)\n",
        "x_train_vae = np.swapaxes(x_train, 1,2)\n",
        "x_valid_vae = np.swapaxes(x_valid, 1,3)\n",
        "x_valid_vae = np.swapaxes(x_valid, 1,2)\n",
        "x_test_vae = np.swapaxes(x_test, 1,3)\n",
        "x_test_vae = np.swapaxes(x_test, 1,2)\n",
        "print('Shape of training set after dimension reshaping:',x_train.shape)\n",
        "print('Shape of validation set after dimension reshaping:',x_valid.shape)\n",
        "print('Shape of test set after dimension reshaping:',x_test.shape)"
      ],
      "metadata": {
        "id": "4tNSCaO-9wTh",
        "colab": {
          "base_uri": "https://localhost:8080/"
        },
        "outputId": "b78b883a-294b-4a22-d786-0bb6aff1f7ce"
      },
      "execution_count": null,
      "outputs": [
        {
          "output_type": "stream",
          "name": "stdout",
          "text": [
            "Shape of training labels after categorical conversion: (13920, 4)\n",
            "Shape of validation labels after categorical conversion: (3000, 4)\n",
            "Shape of test labels after categorical conversion: (3544, 4)\n",
            "Shape of training set after adding width info: (13920, 22, 250, 1)\n",
            "Shape of validation set after adding width info: (3000, 22, 250, 1)\n",
            "Shape of test set after adding width info: (3544, 22, 250, 1)\n",
            "Shape of training set after dimension reshaping: (13920, 250, 1, 22)\n",
            "Shape of validation set after dimension reshaping: (3000, 250, 1, 22)\n",
            "Shape of test set after dimension reshaping: (3544, 250, 1, 22)\n"
          ]
        }
      ]
    },
    {
      "cell_type": "code",
      "source": [
        "# saving VAE data as npy files \n",
        "# np.save(\"drive/MyDrive/ecengr 247/Preprocessed_Data/x_train_vae.npy\", x_train_vae)\n",
        "# np.save(\"drive/MyDrive/ecengr 247/Preprocessed_Data/y_train_vae.npy\", y_train_vae)\n",
        "# np.save(\"drive/MyDrive/ecengr 247/Preprocessed_Data/x_valid_vae.npy\", x_valid_vae)\n",
        "# np.save(\"drive/MyDrive/ecengr 247/Preprocessed_Data/y_valid_vae.npy\", y_valid_vae)\n",
        "# np.save(\"drive/MyDrive/ecengr 247/Preprocessed_Data/x_test_vae.npy\", x_test_vae)\n",
        "# np.save(\"drive/MyDrive/ecengr 247/Preprocessed_Data/y_test_vae.npy\", y_test_vae)"
      ],
      "metadata": {
        "id": "QgXjYTz0STVN"
      },
      "execution_count": null,
      "outputs": []
    },
    {
      "cell_type": "markdown",
      "source": [
        "# 2 Reload Preprocessed Data"
      ],
      "metadata": {
        "id": "N30VAjSedcQP"
      }
    },
    {
      "cell_type": "markdown",
      "source": [
        "# 3 Neural Network Models with VAE"
      ],
      "metadata": {
        "id": "kwLDbDO-rP6r"
      }
    },
    {
      "cell_type": "code",
      "source": [
        "x_train_vae = np.load(\"drive/MyDrive/ecengr 247/Preprocessed_Data/x_train_vae.npy\")\n",
        "y_train_vae = np.load(\"drive/MyDrive/ecengr 247/Preprocessed_Data/y_train_vae.npy\")\n",
        "x_valid_vae = np.load(\"drive/MyDrive/ecengr 247/Preprocessed_Data/x_valid_vae.npy\")\n",
        "y_valid_vae = np.load(\"drive/MyDrive/ecengr 247/Preprocessed_Data/y_valid_vae.npy\")\n",
        "x_test_vae = np.load(\"drive/MyDrive/ecengr 247/Preprocessed_Data/x_test_vae.npy\")\n",
        "y_test_vae = np.load(\"drive/MyDrive/ecengr 247/Preprocessed_Data/y_test_vae.npy\")"
      ],
      "metadata": {
        "id": "kEi7FLLddbw0"
      },
      "execution_count": null,
      "outputs": []
    },
    {
      "cell_type": "markdown",
      "source": [
        "## Basic CNN"
      ],
      "metadata": {
        "id": "OBA4LAaMBQ3T"
      }
    },
    {
      "cell_type": "code",
      "source": [
        "# Building the CNN model using sequential class\n",
        "basic_cnn_model = Sequential()\n",
        "\n",
        "# Conv. block 1\n",
        "basic_cnn_model.add(Conv2D(filters=25, kernel_size=(10,1), padding='same', activation='elu', input_shape=(250,1,22)))\n",
        "basic_cnn_model.add(MaxPooling2D(pool_size=(3,1), padding='same')) # Read the keras documentation\n",
        "basic_cnn_model.add(BatchNormalization())\n",
        "basic_cnn_model.add(Dropout(0.5))\n",
        "\n",
        "# Conv. block 2\n",
        "basic_cnn_model.add(Conv2D(filters=50, kernel_size=(10,1), padding='same', activation='elu'))\n",
        "basic_cnn_model.add(MaxPooling2D(pool_size=(3,1), padding='same'))\n",
        "basic_cnn_model.add(BatchNormalization())\n",
        "basic_cnn_model.add(Dropout(0.5))\n",
        "\n",
        "# Conv. block 3\n",
        "basic_cnn_model.add(Conv2D(filters=100, kernel_size=(10,1), padding='same', activation='elu'))\n",
        "basic_cnn_model.add(MaxPooling2D(pool_size=(3,1), padding='same'))\n",
        "basic_cnn_model.add(BatchNormalization())\n",
        "basic_cnn_model.add(Dropout(0.5))\n",
        "\n",
        "# Conv. block 4\n",
        "basic_cnn_model.add(Conv2D(filters=200, kernel_size=(10,1), padding='same', activation='elu'))\n",
        "basic_cnn_model.add(MaxPooling2D(pool_size=(3,1), padding='same'))\n",
        "basic_cnn_model.add(BatchNormalization())\n",
        "basic_cnn_model.add(Dropout(0.5))\n",
        "\n",
        "# Output layer with Softmax activation\n",
        "basic_cnn_model.add(Flatten()) # Flattens the input\n",
        "basic_cnn_model.add(Dense(4, activation='softmax')) # Output FC layer with softmax activation\n",
        "\n",
        "\n",
        "# Printing the model summary\n",
        "basic_cnn_model.summary()\n"
      ],
      "metadata": {
        "colab": {
          "base_uri": "https://localhost:8080/"
        },
        "id": "22tOFhT_TNVq",
        "outputId": "b6441b6f-e30c-462c-f3ac-91e04be1600c"
      },
      "execution_count": null,
      "outputs": [
        {
          "output_type": "stream",
          "name": "stdout",
          "text": [
            "Model: \"sequential\"\n",
            "_________________________________________________________________\n",
            " Layer (type)                Output Shape              Param #   \n",
            "=================================================================\n",
            " conv2d (Conv2D)             (None, 250, 1, 25)        5525      \n",
            "                                                                 \n",
            " max_pooling2d (MaxPooling2D  (None, 84, 1, 25)        0         \n",
            " )                                                               \n",
            "                                                                 \n",
            " batch_normalization (BatchN  (None, 84, 1, 25)        100       \n",
            " ormalization)                                                   \n",
            "                                                                 \n",
            " dropout (Dropout)           (None, 84, 1, 25)         0         \n",
            "                                                                 \n",
            " conv2d_1 (Conv2D)           (None, 84, 1, 50)         12550     \n",
            "                                                                 \n",
            " max_pooling2d_1 (MaxPooling  (None, 28, 1, 50)        0         \n",
            " 2D)                                                             \n",
            "                                                                 \n",
            " batch_normalization_1 (Batc  (None, 28, 1, 50)        200       \n",
            " hNormalization)                                                 \n",
            "                                                                 \n",
            " dropout_1 (Dropout)         (None, 28, 1, 50)         0         \n",
            "                                                                 \n",
            " conv2d_2 (Conv2D)           (None, 28, 1, 100)        50100     \n",
            "                                                                 \n",
            " max_pooling2d_2 (MaxPooling  (None, 10, 1, 100)       0         \n",
            " 2D)                                                             \n",
            "                                                                 \n",
            " batch_normalization_2 (Batc  (None, 10, 1, 100)       400       \n",
            " hNormalization)                                                 \n",
            "                                                                 \n",
            " dropout_2 (Dropout)         (None, 10, 1, 100)        0         \n",
            "                                                                 \n",
            " conv2d_3 (Conv2D)           (None, 10, 1, 200)        200200    \n",
            "                                                                 \n",
            " max_pooling2d_3 (MaxPooling  (None, 4, 1, 200)        0         \n",
            " 2D)                                                             \n",
            "                                                                 \n",
            " batch_normalization_3 (Batc  (None, 4, 1, 200)        800       \n",
            " hNormalization)                                                 \n",
            "                                                                 \n",
            " dropout_3 (Dropout)         (None, 4, 1, 200)         0         \n",
            "                                                                 \n",
            " flatten_2 (Flatten)         (None, 800)               0         \n",
            "                                                                 \n",
            " dense_1 (Dense)             (None, 4)                 3204      \n",
            "                                                                 \n",
            "=================================================================\n",
            "Total params: 273,079\n",
            "Trainable params: 272,329\n",
            "Non-trainable params: 750\n",
            "_________________________________________________________________\n"
          ]
        }
      ]
    },
    {
      "cell_type": "code",
      "source": [
        "# Model parameters\n",
        "learning_rate = 1e-3\n",
        "epochs = 50\n",
        "cnn_optimizer = keras.optimizers.Adam(lr=learning_rate)"
      ],
      "metadata": {
        "colab": {
          "base_uri": "https://localhost:8080/"
        },
        "id": "dV7-aRGCTOOr",
        "outputId": "ab2cf370-f6fc-44f0-8ce8-132a4bdbf51d"
      },
      "execution_count": null,
      "outputs": [
        {
          "output_type": "stream",
          "name": "stderr",
          "text": [
            "WARNING:absl:`lr` is deprecated, please use `learning_rate` instead, or use the legacy optimizer, e.g.,tf.keras.optimizers.legacy.Adam.\n"
          ]
        }
      ]
    },
    {
      "cell_type": "code",
      "source": [
        "# Compiling the model\n",
        "basic_cnn_model.compile(loss='categorical_crossentropy',\n",
        "                 optimizer=cnn_optimizer,\n",
        "                 metrics=['accuracy'])\n",
        "\n",
        "# Training and validating the model\n",
        "basic_cnn_model_results = basic_cnn_model.fit(x_train_vae,\n",
        "             y_train_vae,\n",
        "             batch_size=64,\n",
        "             epochs=epochs,\n",
        "             validation_data=(x_valid_vae, y_valid_vae), verbose=True)"
      ],
      "metadata": {
        "colab": {
          "base_uri": "https://localhost:8080/"
        },
        "id": "wQyj9S1kTS1t",
        "outputId": "bbbd52f7-1e8e-411c-b942-4fa166ebd005"
      },
      "execution_count": null,
      "outputs": [
        {
          "output_type": "stream",
          "name": "stdout",
          "text": [
            "Epoch 1/50\n",
            "218/218 [==============================] - 5s 8ms/step - loss: 1.0163 - accuracy: 0.6541 - val_loss: 0.6073 - val_accuracy: 0.7207\n",
            "Epoch 2/50\n",
            "218/218 [==============================] - 1s 7ms/step - loss: 0.7602 - accuracy: 0.6884 - val_loss: 0.5913 - val_accuracy: 0.7470\n",
            "Epoch 3/50\n",
            "218/218 [==============================] - 1s 7ms/step - loss: 0.6798 - accuracy: 0.7168 - val_loss: 0.5700 - val_accuracy: 0.7590\n",
            "Epoch 4/50\n",
            "218/218 [==============================] - 1s 7ms/step - loss: 0.6138 - accuracy: 0.7428 - val_loss: 0.5266 - val_accuracy: 0.7877\n",
            "Epoch 5/50\n",
            "218/218 [==============================] - 1s 7ms/step - loss: 0.5648 - accuracy: 0.7665 - val_loss: 0.5312 - val_accuracy: 0.7850\n",
            "Epoch 6/50\n",
            "218/218 [==============================] - 1s 7ms/step - loss: 0.5313 - accuracy: 0.7839 - val_loss: 0.4685 - val_accuracy: 0.8127\n",
            "Epoch 7/50\n",
            "218/218 [==============================] - 1s 7ms/step - loss: 0.5131 - accuracy: 0.7942 - val_loss: 0.4526 - val_accuracy: 0.8163\n",
            "Epoch 8/50\n",
            "218/218 [==============================] - 1s 7ms/step - loss: 0.4773 - accuracy: 0.8060 - val_loss: 0.4348 - val_accuracy: 0.8267\n",
            "Epoch 9/50\n",
            "218/218 [==============================] - 1s 7ms/step - loss: 0.4587 - accuracy: 0.8159 - val_loss: 0.4367 - val_accuracy: 0.8413\n",
            "Epoch 10/50\n",
            "218/218 [==============================] - 1s 7ms/step - loss: 0.4340 - accuracy: 0.8270 - val_loss: 0.4273 - val_accuracy: 0.8303\n",
            "Epoch 11/50\n",
            "218/218 [==============================] - 1s 7ms/step - loss: 0.4189 - accuracy: 0.8322 - val_loss: 0.3927 - val_accuracy: 0.8430\n",
            "Epoch 12/50\n",
            "218/218 [==============================] - 1s 7ms/step - loss: 0.3980 - accuracy: 0.8394 - val_loss: 0.4199 - val_accuracy: 0.8457\n",
            "Epoch 13/50\n",
            "218/218 [==============================] - 1s 7ms/step - loss: 0.3810 - accuracy: 0.8483 - val_loss: 0.3968 - val_accuracy: 0.8523\n",
            "Epoch 14/50\n",
            "218/218 [==============================] - 1s 7ms/step - loss: 0.3685 - accuracy: 0.8564 - val_loss: 0.3801 - val_accuracy: 0.8577\n",
            "Epoch 15/50\n",
            "218/218 [==============================] - 1s 7ms/step - loss: 0.3557 - accuracy: 0.8604 - val_loss: 0.4047 - val_accuracy: 0.8427\n",
            "Epoch 16/50\n",
            "218/218 [==============================] - 1s 7ms/step - loss: 0.3430 - accuracy: 0.8670 - val_loss: 0.3983 - val_accuracy: 0.8530\n",
            "Epoch 17/50\n",
            "218/218 [==============================] - 1s 7ms/step - loss: 0.3333 - accuracy: 0.8719 - val_loss: 0.3940 - val_accuracy: 0.8550\n",
            "Epoch 18/50\n",
            "218/218 [==============================] - 1s 7ms/step - loss: 0.3205 - accuracy: 0.8759 - val_loss: 0.3804 - val_accuracy: 0.8577\n",
            "Epoch 19/50\n",
            "218/218 [==============================] - 1s 7ms/step - loss: 0.3086 - accuracy: 0.8822 - val_loss: 0.3712 - val_accuracy: 0.8560\n",
            "Epoch 20/50\n",
            "218/218 [==============================] - 1s 7ms/step - loss: 0.2972 - accuracy: 0.8877 - val_loss: 0.3533 - val_accuracy: 0.8630\n",
            "Epoch 21/50\n",
            "218/218 [==============================] - 1s 7ms/step - loss: 0.2891 - accuracy: 0.8873 - val_loss: 0.3880 - val_accuracy: 0.8567\n",
            "Epoch 22/50\n",
            "218/218 [==============================] - 1s 7ms/step - loss: 0.2842 - accuracy: 0.8874 - val_loss: 0.3726 - val_accuracy: 0.8603\n",
            "Epoch 23/50\n",
            "218/218 [==============================] - 1s 7ms/step - loss: 0.2655 - accuracy: 0.9010 - val_loss: 0.3945 - val_accuracy: 0.8553\n",
            "Epoch 24/50\n",
            "218/218 [==============================] - 1s 7ms/step - loss: 0.2580 - accuracy: 0.9049 - val_loss: 0.4009 - val_accuracy: 0.8547\n",
            "Epoch 25/50\n",
            "218/218 [==============================] - 1s 7ms/step - loss: 0.2497 - accuracy: 0.9034 - val_loss: 0.4078 - val_accuracy: 0.8507\n",
            "Epoch 26/50\n",
            "218/218 [==============================] - 1s 7ms/step - loss: 0.2414 - accuracy: 0.9083 - val_loss: 0.3809 - val_accuracy: 0.8603\n",
            "Epoch 27/50\n",
            "218/218 [==============================] - 1s 7ms/step - loss: 0.2429 - accuracy: 0.9068 - val_loss: 0.4070 - val_accuracy: 0.8583\n",
            "Epoch 28/50\n",
            "218/218 [==============================] - 1s 7ms/step - loss: 0.2331 - accuracy: 0.9121 - val_loss: 0.4066 - val_accuracy: 0.8507\n",
            "Epoch 29/50\n",
            "218/218 [==============================] - 1s 7ms/step - loss: 0.2288 - accuracy: 0.9130 - val_loss: 0.4083 - val_accuracy: 0.8500\n",
            "Epoch 30/50\n",
            "218/218 [==============================] - 1s 7ms/step - loss: 0.2210 - accuracy: 0.9162 - val_loss: 0.3745 - val_accuracy: 0.8737\n",
            "Epoch 31/50\n",
            "218/218 [==============================] - 1s 7ms/step - loss: 0.2233 - accuracy: 0.9140 - val_loss: 0.3941 - val_accuracy: 0.8613\n",
            "Epoch 32/50\n",
            "218/218 [==============================] - 1s 7ms/step - loss: 0.2155 - accuracy: 0.9180 - val_loss: 0.4150 - val_accuracy: 0.8590\n",
            "Epoch 33/50\n",
            "218/218 [==============================] - 1s 7ms/step - loss: 0.2081 - accuracy: 0.9221 - val_loss: 0.4217 - val_accuracy: 0.8477\n",
            "Epoch 34/50\n",
            "218/218 [==============================] - 1s 7ms/step - loss: 0.2076 - accuracy: 0.9220 - val_loss: 0.3876 - val_accuracy: 0.8620\n",
            "Epoch 35/50\n",
            "218/218 [==============================] - 1s 7ms/step - loss: 0.2053 - accuracy: 0.9236 - val_loss: 0.4137 - val_accuracy: 0.8563\n",
            "Epoch 36/50\n",
            "218/218 [==============================] - 1s 7ms/step - loss: 0.1907 - accuracy: 0.9296 - val_loss: 0.3889 - val_accuracy: 0.8640\n",
            "Epoch 37/50\n",
            "218/218 [==============================] - 1s 7ms/step - loss: 0.1939 - accuracy: 0.9261 - val_loss: 0.3866 - val_accuracy: 0.8690\n",
            "Epoch 38/50\n",
            "218/218 [==============================] - 1s 7ms/step - loss: 0.1952 - accuracy: 0.9262 - val_loss: 0.3997 - val_accuracy: 0.8610\n",
            "Epoch 39/50\n",
            "218/218 [==============================] - 1s 7ms/step - loss: 0.1866 - accuracy: 0.9310 - val_loss: 0.3959 - val_accuracy: 0.8697\n",
            "Epoch 40/50\n",
            "218/218 [==============================] - 1s 7ms/step - loss: 0.1814 - accuracy: 0.9300 - val_loss: 0.4073 - val_accuracy: 0.8660\n",
            "Epoch 41/50\n",
            "218/218 [==============================] - 1s 7ms/step - loss: 0.1859 - accuracy: 0.9284 - val_loss: 0.3805 - val_accuracy: 0.8710\n",
            "Epoch 42/50\n",
            "218/218 [==============================] - 1s 7ms/step - loss: 0.1769 - accuracy: 0.9327 - val_loss: 0.3876 - val_accuracy: 0.8810\n",
            "Epoch 43/50\n",
            "218/218 [==============================] - 1s 7ms/step - loss: 0.1700 - accuracy: 0.9375 - val_loss: 0.4081 - val_accuracy: 0.8643\n",
            "Epoch 44/50\n",
            "218/218 [==============================] - 1s 7ms/step - loss: 0.1744 - accuracy: 0.9352 - val_loss: 0.4013 - val_accuracy: 0.8757\n",
            "Epoch 45/50\n",
            "218/218 [==============================] - 1s 7ms/step - loss: 0.1673 - accuracy: 0.9368 - val_loss: 0.3811 - val_accuracy: 0.8777\n",
            "Epoch 46/50\n",
            "218/218 [==============================] - 1s 7ms/step - loss: 0.1716 - accuracy: 0.9353 - val_loss: 0.4282 - val_accuracy: 0.8633\n",
            "Epoch 47/50\n",
            "218/218 [==============================] - 1s 7ms/step - loss: 0.1585 - accuracy: 0.9402 - val_loss: 0.3981 - val_accuracy: 0.8760\n",
            "Epoch 48/50\n",
            "218/218 [==============================] - 1s 7ms/step - loss: 0.1566 - accuracy: 0.9389 - val_loss: 0.3960 - val_accuracy: 0.8657\n",
            "Epoch 49/50\n",
            "218/218 [==============================] - 1s 7ms/step - loss: 0.1572 - accuracy: 0.9391 - val_loss: 0.3894 - val_accuracy: 0.8730\n",
            "Epoch 50/50\n",
            "218/218 [==============================] - 1s 7ms/step - loss: 0.1617 - accuracy: 0.9358 - val_loss: 0.3922 - val_accuracy: 0.8740\n"
          ]
        }
      ]
    },
    {
      "cell_type": "code",
      "source": [
        "import matplotlib.pyplot as plt\n",
        "\n",
        "# Plotting accuracy trajectory\n",
        "plt.plot(basic_cnn_model_results.history['accuracy'])\n",
        "plt.plot(basic_cnn_model_results.history['val_accuracy'])\n",
        "plt.title('Basic CNN model accuracy trajectory')\n",
        "plt.ylabel('accuracy')\n",
        "plt.xlabel('epoch')\n",
        "plt.legend(['train', 'val'], loc='upper left')\n",
        "plt.show()\n",
        "\n",
        "# Plotting loss trajectory\n",
        "plt.plot(basic_cnn_model_results.history['loss'],'o')\n",
        "plt.plot(basic_cnn_model_results.history['val_loss'],'o')\n",
        "plt.title('Basic CNN model loss trajectory')\n",
        "plt.ylabel('loss')\n",
        "plt.xlabel('epoch')\n",
        "plt.legend(['train', 'val'], loc='upper left')\n",
        "plt.show()"
      ],
      "metadata": {
        "colab": {
          "base_uri": "https://localhost:8080/",
          "height": 573
        },
        "id": "C9ng9G5yTV14",
        "outputId": "8689b86d-8eef-4b62-d4c6-2ab2d62197ab"
      },
      "execution_count": null,
      "outputs": [
        {
          "output_type": "display_data",
          "data": {
            "text/plain": [
              "<Figure size 432x288 with 1 Axes>"
            ],
            "image/png": "[encoded data removed]"
          },
          "metadata": {
            "needs_background": "light"
          }
        },
        {
          "output_type": "display_data",
          "data": {
            "text/plain": [
              "<Figure size 432x288 with 1 Axes>"
            ],
            "image/png": "[encoded data removed]"
          },
          "metadata": {
            "needs_background": "light"
          }
        }
      ]
    },
    {
      "cell_type": "code",
      "source": [
        "## Testing the basic CNN model\n",
        "\n",
        "cnn_score = basic_cnn_model.evaluate(x_test_vae, y_test_vae, verbose=0)\n",
        "print('Test accuracy of the basic CNN model:',cnn_score[1])"
      ],
      "metadata": {
        "colab": {
          "base_uri": "https://localhost:8080/"
        },
        "id": "3q5nD7RWTXel",
        "outputId": "f82b86e1-fd53-49e3-b570-eb78ca572633"
      },
      "execution_count": null,
      "outputs": [
        {
          "output_type": "stream",
          "name": "stdout",
          "text": [
            "Test accuracy of the basic CNN model: 0.8498871326446533\n"
          ]
        }
      ]
    },
    {
      "cell_type": "markdown",
      "source": [
        "## Deep CNN"
      ],
      "metadata": {
        "id": "Iqe1vhc9ZFvv"
      }
    },
    {
      "cell_type": "code",
      "source": [
        "from keras.models import Sequential\n",
        "from keras.layers import Conv2D, MaxPooling2D, BatchNormalization, Dropout, Flatten, Dense\n",
        "from keras.layers import TimeDistributed\n",
        "\n",
        "deep_cnn_model = Sequential()\n",
        "\n",
        "# Conv. block 1\n",
        "deep_cnn_model.add(Conv2D(filters=25, kernel_size=(10,1), padding='same', activation='elu', input_shape=(250,1,22)))\n",
        "deep_cnn_model.add(Conv2D(filters=25, kernel_size=(10,1), padding='same', activation='elu'))\n",
        "deep_cnn_model.add(MaxPooling2D(pool_size=(3,1), padding='same'))\n",
        "deep_cnn_model.add(BatchNormalization())\n",
        "deep_cnn_model.add(Dropout(0.5))\n",
        "\n",
        "# Conv. block 2\n",
        "deep_cnn_model.add(Conv2D(filters=50, kernel_size=(10,1), padding='same', activation='elu'))\n",
        "deep_cnn_model.add(Conv2D(filters=50, kernel_size=(10,1), padding='same', activation='elu'))\n",
        "deep_cnn_model.add(MaxPooling2D(pool_size=(3,1), padding='same'))\n",
        "deep_cnn_model.add(BatchNormalization())\n",
        "deep_cnn_model.add(Dropout(0.5))\n",
        "\n",
        "# Conv. block 3\n",
        "deep_cnn_model.add(Conv2D(filters=100, kernel_size=(10,1), padding='same', activation='elu'))\n",
        "deep_cnn_model.add(Conv2D(filters=100, kernel_size=(10,1), padding='same', activation='elu'))\n",
        "deep_cnn_model.add(MaxPooling2D(pool_size=(3,1), padding='same'))\n",
        "deep_cnn_model.add(BatchNormalization())\n",
        "deep_cnn_model.add(Dropout(0.5))\n",
        "\n",
        "# Conv. block 4\n",
        "deep_cnn_model.add(Conv2D(filters=200, kernel_size=(10,1), padding='same', activation='elu'))\n",
        "deep_cnn_model.add(Conv2D(filters=200, kernel_size=(10,1), padding='same', activation='elu'))\n",
        "deep_cnn_model.add(MaxPooling2D(pool_size=(3,1), padding='same'))\n",
        "deep_cnn_model.add(BatchNormalization())\n",
        "deep_cnn_model.add(Dropout(0.5))\n",
        "\n",
        "# FC layers\n",
        "deep_cnn_model.add(Flatten())\n",
        "deep_cnn_model.add(Dense(200, activation='relu'))\n",
        "deep_cnn_model.add(Dropout(0.5))\n",
        "deep_cnn_model.add(Dense(100, activation='relu'))\n",
        "deep_cnn_model.add(Dropout(0.5))\n",
        "\n",
        "# Output layer with Softmax activation \n",
        "deep_cnn_model.add(Dense(4, activation='softmax'))\n",
        "\n",
        "# Printing the model summary\n",
        "deep_cnn_model.summary()"
      ],
      "metadata": {
        "colab": {
          "base_uri": "https://localhost:8080/"
        },
        "id": "svVqXC7WZJUV",
        "outputId": "9e90b8e9-d7fe-4e31-b03b-f909052b4747"
      },
      "execution_count": null,
      "outputs": [
        {
          "output_type": "stream",
          "name": "stdout",
          "text": [
            "Model: \"sequential_2\"\n",
            "_________________________________________________________________\n",
            " Layer (type)                Output Shape              Param #   \n",
            "=================================================================\n",
            " conv2d_16 (Conv2D)          (None, 250, 1, 25)        5525      \n",
            "                                                                 \n",
            " conv2d_17 (Conv2D)          (None, 250, 1, 25)        6275      \n",
            "                                                                 \n",
            " max_pooling2d_8 (MaxPooling  (None, 84, 1, 25)        0         \n",
            " 2D)                                                             \n",
            "                                                                 \n",
            " batch_normalization_8 (Batc  (None, 84, 1, 25)        100       \n",
            " hNormalization)                                                 \n",
            "                                                                 \n",
            " dropout_12 (Dropout)        (None, 84, 1, 25)         0         \n",
            "                                                                 \n",
            " conv2d_18 (Conv2D)          (None, 84, 1, 50)         12550     \n",
            "                                                                 \n",
            " conv2d_19 (Conv2D)          (None, 84, 1, 50)         25050     \n",
            "                                                                 \n",
            " max_pooling2d_9 (MaxPooling  (None, 28, 1, 50)        0         \n",
            " 2D)                                                             \n",
            "                                                                 \n",
            " batch_normalization_9 (Batc  (None, 28, 1, 50)        200       \n",
            " hNormalization)                                                 \n",
            "                                                                 \n",
            " dropout_13 (Dropout)        (None, 28, 1, 50)         0         \n",
            "                                                                 \n",
            " conv2d_20 (Conv2D)          (None, 28, 1, 100)        50100     \n",
            "                                                                 \n",
            " conv2d_21 (Conv2D)          (None, 28, 1, 100)        100100    \n",
            "                                                                 \n",
            " max_pooling2d_10 (MaxPoolin  (None, 10, 1, 100)       0         \n",
            " g2D)                                                            \n",
            "                                                                 \n",
            " batch_normalization_10 (Bat  (None, 10, 1, 100)       400       \n",
            " chNormalization)                                                \n",
            "                                                                 \n",
            " dropout_14 (Dropout)        (None, 10, 1, 100)        0         \n",
            "                                                                 \n",
            " conv2d_22 (Conv2D)          (None, 10, 1, 200)        200200    \n",
            "                                                                 \n",
            " conv2d_23 (Conv2D)          (None, 10, 1, 200)        400200    \n",
            "                                                                 \n",
            " max_pooling2d_11 (MaxPoolin  (None, 4, 1, 200)        0         \n",
            " g2D)                                                            \n",
            "                                                                 \n",
            " batch_normalization_11 (Bat  (None, 4, 1, 200)        800       \n",
            " chNormalization)                                                \n",
            "                                                                 \n",
            " dropout_15 (Dropout)        (None, 4, 1, 200)         0         \n",
            "                                                                 \n",
            " flatten_2 (Flatten)         (None, 800)               0         \n",
            "                                                                 \n",
            " dense_6 (Dense)             (None, 200)               160200    \n",
            "                                                                 \n",
            " dropout_16 (Dropout)        (None, 200)               0         \n",
            "                                                                 \n",
            " dense_7 (Dense)             (None, 100)               20100     \n",
            "                                                                 \n",
            " dropout_17 (Dropout)        (None, 100)               0         \n",
            "                                                                 \n",
            " dense_8 (Dense)             (None, 4)                 404       \n",
            "                                                                 \n",
            "=================================================================\n",
            "Total params: 982,204\n",
            "Trainable params: 981,454\n",
            "Non-trainable params: 750\n",
            "_________________________________________________________________\n"
          ]
        }
      ]
    },
    {
      "cell_type": "code",
      "source": [
        "# Model parameters\n",
        "learning_rate = 1e-3\n",
        "epochs = 50\n",
        "cnn_optimizer = keras.optimizers.Adam(lr=learning_rate)"
      ],
      "metadata": {
        "id": "AygcH9jhZkHl"
      },
      "execution_count": null,
      "outputs": []
    },
    {
      "cell_type": "code",
      "source": [
        "# Compiling the model\n",
        "deep_cnn_model.compile(loss='categorical_crossentropy',\n",
        "                 optimizer=cnn_optimizer,\n",
        "                 metrics=['accuracy'])\n",
        "\n",
        "# Training and validating the model\n",
        "deep_cnn_model_results = deep_cnn_model.fit(x_train_vae,\n",
        "             y_train_vae,\n",
        "             batch_size=64,\n",
        "             epochs=epochs,\n",
        "             validation_data=(x_valid_vae, y_valid_vae), verbose=True)"
      ],
      "metadata": {
        "colab": {
          "base_uri": "https://localhost:8080/"
        },
        "id": "ceMyQkzQZq0f",
        "outputId": "c5733f7d-1c52-4e11-c52f-cfdf9c1f2fbe"
      },
      "execution_count": null,
      "outputs": [
        {
          "output_type": "stream",
          "name": "stdout",
          "text": [
            "Epoch 1/50\n",
            "218/218 [==============================] - 3s 9ms/step - loss: 1.0538 - accuracy: 0.6214 - val_loss: 0.7168 - val_accuracy: 0.6570\n",
            "Epoch 2/50\n",
            "218/218 [==============================] - 2s 8ms/step - loss: 0.8035 - accuracy: 0.6402 - val_loss: 0.6498 - val_accuracy: 0.6997\n",
            "Epoch 3/50\n",
            "218/218 [==============================] - 2s 8ms/step - loss: 0.7139 - accuracy: 0.6667 - val_loss: 0.6107 - val_accuracy: 0.7230\n",
            "Epoch 4/50\n",
            "218/218 [==============================] - 2s 8ms/step - loss: 0.6478 - accuracy: 0.7030 - val_loss: 0.6111 - val_accuracy: 0.7213\n",
            "Epoch 5/50\n",
            "218/218 [==============================] - 2s 8ms/step - loss: 0.6118 - accuracy: 0.7241 - val_loss: 0.5563 - val_accuracy: 0.7503\n",
            "Epoch 6/50\n",
            "218/218 [==============================] - 2s 8ms/step - loss: 0.5845 - accuracy: 0.7455 - val_loss: 0.5666 - val_accuracy: 0.7523\n",
            "Epoch 7/50\n",
            "218/218 [==============================] - 2s 8ms/step - loss: 0.5628 - accuracy: 0.7630 - val_loss: 0.5519 - val_accuracy: 0.7673\n",
            "Epoch 8/50\n",
            "218/218 [==============================] - 2s 8ms/step - loss: 0.5275 - accuracy: 0.7795 - val_loss: 0.5666 - val_accuracy: 0.7500\n",
            "Epoch 9/50\n",
            "218/218 [==============================] - 2s 8ms/step - loss: 0.5155 - accuracy: 0.7907 - val_loss: 0.5483 - val_accuracy: 0.7647\n",
            "Epoch 10/50\n",
            "218/218 [==============================] - 2s 8ms/step - loss: 0.4972 - accuracy: 0.8016 - val_loss: 0.5435 - val_accuracy: 0.7793\n",
            "Epoch 11/50\n",
            "218/218 [==============================] - 2s 8ms/step - loss: 0.4743 - accuracy: 0.8136 - val_loss: 0.5279 - val_accuracy: 0.7907\n",
            "Epoch 12/50\n",
            "218/218 [==============================] - 2s 8ms/step - loss: 0.4479 - accuracy: 0.8237 - val_loss: 0.4999 - val_accuracy: 0.7897\n",
            "Epoch 13/50\n",
            "218/218 [==============================] - 2s 8ms/step - loss: 0.4327 - accuracy: 0.8323 - val_loss: 0.5079 - val_accuracy: 0.8047\n",
            "Epoch 14/50\n",
            "218/218 [==============================] - 2s 8ms/step - loss: 0.4016 - accuracy: 0.8465 - val_loss: 0.5031 - val_accuracy: 0.8193\n",
            "Epoch 15/50\n",
            "218/218 [==============================] - 2s 8ms/step - loss: 0.3912 - accuracy: 0.8544 - val_loss: 0.4791 - val_accuracy: 0.8203\n",
            "Epoch 16/50\n",
            "218/218 [==============================] - 2s 8ms/step - loss: 0.3578 - accuracy: 0.8662 - val_loss: 0.5346 - val_accuracy: 0.8083\n",
            "Epoch 17/50\n",
            "218/218 [==============================] - 2s 8ms/step - loss: 0.3484 - accuracy: 0.8683 - val_loss: 0.5485 - val_accuracy: 0.8063\n",
            "Epoch 18/50\n",
            "218/218 [==============================] - 2s 8ms/step - loss: 0.3255 - accuracy: 0.8831 - val_loss: 0.4853 - val_accuracy: 0.8253\n",
            "Epoch 19/50\n",
            "218/218 [==============================] - 2s 8ms/step - loss: 0.3164 - accuracy: 0.8847 - val_loss: 0.5074 - val_accuracy: 0.8227\n",
            "Epoch 20/50\n",
            "218/218 [==============================] - 2s 8ms/step - loss: 0.2993 - accuracy: 0.8909 - val_loss: 0.5173 - val_accuracy: 0.8247\n",
            "Epoch 21/50\n",
            "218/218 [==============================] - 2s 8ms/step - loss: 0.2973 - accuracy: 0.8914 - val_loss: 0.5926 - val_accuracy: 0.8160\n",
            "Epoch 22/50\n",
            "218/218 [==============================] - 2s 8ms/step - loss: 0.2663 - accuracy: 0.9033 - val_loss: 0.4626 - val_accuracy: 0.8453\n",
            "Epoch 23/50\n",
            "218/218 [==============================] - 2s 8ms/step - loss: 0.2606 - accuracy: 0.9050 - val_loss: 0.5791 - val_accuracy: 0.8243\n",
            "Epoch 24/50\n",
            "218/218 [==============================] - 2s 8ms/step - loss: 0.2475 - accuracy: 0.9121 - val_loss: 0.5367 - val_accuracy: 0.8403\n",
            "Epoch 25/50\n",
            "218/218 [==============================] - 2s 8ms/step - loss: 0.2437 - accuracy: 0.9124 - val_loss: 0.5000 - val_accuracy: 0.8387\n",
            "Epoch 26/50\n",
            "218/218 [==============================] - 2s 8ms/step - loss: 0.2302 - accuracy: 0.9159 - val_loss: 0.5313 - val_accuracy: 0.8343\n",
            "Epoch 27/50\n",
            "218/218 [==============================] - 2s 8ms/step - loss: 0.2231 - accuracy: 0.9222 - val_loss: 0.5376 - val_accuracy: 0.8427\n",
            "Epoch 28/50\n",
            "218/218 [==============================] - 2s 8ms/step - loss: 0.2234 - accuracy: 0.9228 - val_loss: 0.5664 - val_accuracy: 0.8157\n",
            "Epoch 29/50\n",
            "218/218 [==============================] - 2s 8ms/step - loss: 0.2033 - accuracy: 0.9277 - val_loss: 0.5441 - val_accuracy: 0.8390\n",
            "Epoch 30/50\n",
            "218/218 [==============================] - 2s 8ms/step - loss: 0.1935 - accuracy: 0.9312 - val_loss: 0.5775 - val_accuracy: 0.8360\n",
            "Epoch 31/50\n",
            "218/218 [==============================] - 2s 8ms/step - loss: 0.1801 - accuracy: 0.9346 - val_loss: 0.7027 - val_accuracy: 0.8157\n",
            "Epoch 32/50\n",
            "218/218 [==============================] - 2s 8ms/step - loss: 0.1815 - accuracy: 0.9346 - val_loss: 0.5241 - val_accuracy: 0.8460\n",
            "Epoch 33/50\n",
            "218/218 [==============================] - 2s 8ms/step - loss: 0.1829 - accuracy: 0.9361 - val_loss: 0.5756 - val_accuracy: 0.8437\n",
            "Epoch 34/50\n",
            "218/218 [==============================] - 2s 8ms/step - loss: 0.1619 - accuracy: 0.9458 - val_loss: 0.6178 - val_accuracy: 0.8373\n",
            "Epoch 35/50\n",
            "218/218 [==============================] - 2s 8ms/step - loss: 0.1614 - accuracy: 0.9463 - val_loss: 0.6015 - val_accuracy: 0.8400\n",
            "Epoch 36/50\n",
            "218/218 [==============================] - 2s 8ms/step - loss: 0.1549 - accuracy: 0.9448 - val_loss: 0.7505 - val_accuracy: 0.8267\n",
            "Epoch 37/50\n",
            "218/218 [==============================] - 2s 8ms/step - loss: 0.1465 - accuracy: 0.9498 - val_loss: 0.6561 - val_accuracy: 0.8350\n",
            "Epoch 38/50\n",
            "218/218 [==============================] - 2s 8ms/step - loss: 0.1435 - accuracy: 0.9514 - val_loss: 0.6813 - val_accuracy: 0.8353\n",
            "Epoch 39/50\n",
            "218/218 [==============================] - 2s 8ms/step - loss: 0.1440 - accuracy: 0.9488 - val_loss: 0.6321 - val_accuracy: 0.8207\n",
            "Epoch 40/50\n",
            "218/218 [==============================] - 2s 8ms/step - loss: 0.1353 - accuracy: 0.9538 - val_loss: 0.5735 - val_accuracy: 0.8560\n",
            "Epoch 41/50\n",
            "218/218 [==============================] - 2s 8ms/step - loss: 0.1332 - accuracy: 0.9557 - val_loss: 0.6440 - val_accuracy: 0.8457\n",
            "Epoch 42/50\n",
            "218/218 [==============================] - 2s 8ms/step - loss: 0.1139 - accuracy: 0.9605 - val_loss: 0.6428 - val_accuracy: 0.8440\n",
            "Epoch 43/50\n",
            "218/218 [==============================] - 2s 8ms/step - loss: 0.1207 - accuracy: 0.9571 - val_loss: 0.6620 - val_accuracy: 0.8373\n",
            "Epoch 44/50\n",
            "218/218 [==============================] - 2s 8ms/step - loss: 0.1214 - accuracy: 0.9583 - val_loss: 0.6088 - val_accuracy: 0.8570\n",
            "Epoch 45/50\n",
            "218/218 [==============================] - 2s 8ms/step - loss: 0.1205 - accuracy: 0.9603 - val_loss: 0.6370 - val_accuracy: 0.8403\n",
            "Epoch 46/50\n",
            "218/218 [==============================] - 2s 8ms/step - loss: 0.1159 - accuracy: 0.9602 - val_loss: 0.6329 - val_accuracy: 0.8413\n",
            "Epoch 47/50\n",
            "218/218 [==============================] - 2s 8ms/step - loss: 0.1106 - accuracy: 0.9649 - val_loss: 0.6684 - val_accuracy: 0.8500\n",
            "Epoch 48/50\n",
            "218/218 [==============================] - 2s 8ms/step - loss: 0.1103 - accuracy: 0.9634 - val_loss: 0.6508 - val_accuracy: 0.8407\n",
            "Epoch 49/50\n",
            "218/218 [==============================] - 2s 8ms/step - loss: 0.1117 - accuracy: 0.9629 - val_loss: 0.6228 - val_accuracy: 0.8543\n",
            "Epoch 50/50\n",
            "218/218 [==============================] - 2s 8ms/step - loss: 0.1039 - accuracy: 0.9666 - val_loss: 0.7688 - val_accuracy: 0.8430\n"
          ]
        }
      ]
    },
    {
      "cell_type": "code",
      "source": [
        "## Testing the deep CNN model\n",
        "\n",
        "deep_cnn_score = deep_cnn_model.evaluate(x_test_vae, y_test_vae, verbose=0)\n",
        "print('Test accuracy of the deep CNN model:',deep_cnn_score[1])"
      ],
      "metadata": {
        "colab": {
          "base_uri": "https://localhost:8080/"
        },
        "id": "Or25mw8LZtnp",
        "outputId": "acd7a0f1-43f0-41af-aa39-6616d42ef990"
      },
      "execution_count": null,
      "outputs": [
        {
          "output_type": "stream",
          "name": "stdout",
          "text": [
            "Test accuracy of the deep CNN model: 0.8143340945243835\n"
          ]
        }
      ]
    },
    {
      "cell_type": "markdown",
      "source": [
        "## Shallow CNN"
      ],
      "metadata": {
        "id": "lxWAuvFbcaOr"
      }
    },
    {
      "cell_type": "code",
      "source": [
        "from keras.models import Sequential\n",
        "from keras.layers import Conv2D, AveragePooling2D, BatchNormalization, Dropout, Flatten, Dense, Activation, Lambda\n",
        "from keras import backend as K\n",
        "\n",
        "def square_activation(x):\n",
        "    return K.square(x)\n",
        "\n",
        "def log_activation(x):\n",
        "    return K.log(K.abs(x) + 1e-6)\n",
        "\n",
        "shallow_cnn_model = Sequential()\n",
        "\n",
        "# Conv. block 1\n",
        "shallow_cnn_model.add(Conv2D(filters=40, kernel_size=(25,1), padding='same', activation='elu', input_shape=(250,1,22)))\n",
        "shallow_cnn_model.add(BatchNormalization())\n",
        "shallow_cnn_model.add(Dropout(0.5))\n",
        "\n",
        "# Conv. block 2\n",
        "shallow_cnn_model.add(Conv2D(filters=40, kernel_size=(25,1), padding='same', activation='elu'))\n",
        "shallow_cnn_model.add(BatchNormalization())\n",
        "shallow_cnn_model.add(Activation(square_activation))\n",
        "shallow_cnn_model.add(AveragePooling2D(pool_size=(75,1), strides=(15,1), padding='same'))\n",
        "shallow_cnn_model.add(Lambda(log_activation))\n",
        "\n",
        "# FC layers\n",
        "shallow_cnn_model.add(Flatten())\n",
        "shallow_cnn_model.add(Dense(100, activation='elu'))\n",
        "\n",
        "# Output layer with Softmax activation \n",
        "shallow_cnn_model.add(Dense(4, activation='softmax'))\n",
        "\n",
        "# Printing the model summary\n",
        "shallow_cnn_model.summary()"
      ],
      "metadata": {
        "colab": {
          "base_uri": "https://localhost:8080/"
        },
        "id": "SqTvQRWpcdDT",
        "outputId": "89dcc494-a0ce-4463-d1d0-3c9cf7188153"
      },
      "execution_count": null,
      "outputs": [
        {
          "output_type": "stream",
          "name": "stdout",
          "text": [
            "Model: \"sequential_17\"\n",
            "_________________________________________________________________\n",
            " Layer (type)                Output Shape              Param #   \n",
            "=================================================================\n",
            " conv2d_42 (Conv2D)          (None, 250, 1, 40)        22040     \n",
            "                                                                 \n",
            " batch_normalization_28 (Bat  (None, 250, 1, 40)       160       \n",
            " chNormalization)                                                \n",
            "                                                                 \n",
            " dropout_40 (Dropout)        (None, 250, 1, 40)        0         \n",
            "                                                                 \n",
            " conv2d_43 (Conv2D)          (None, 250, 1, 40)        40040     \n",
            "                                                                 \n",
            " batch_normalization_29 (Bat  (None, 250, 1, 40)       160       \n",
            " chNormalization)                                                \n",
            "                                                                 \n",
            " activation_9 (Activation)   (None, 250, 1, 40)        0         \n",
            "                                                                 \n",
            " average_pooling2d_8 (Averag  (None, 17, 1, 40)        0         \n",
            " ePooling2D)                                                     \n",
            "                                                                 \n",
            " lambda_1 (Lambda)           (None, 17, 1, 40)         0         \n",
            "                                                                 \n",
            " flatten_13 (Flatten)        (None, 680)               0         \n",
            "                                                                 \n",
            " dense_23 (Dense)            (None, 100)               68100     \n",
            "                                                                 \n",
            " dense_24 (Dense)            (None, 4)                 404       \n",
            "                                                                 \n",
            "=================================================================\n",
            "Total params: 130,904\n",
            "Trainable params: 130,744\n",
            "Non-trainable params: 160\n",
            "_________________________________________________________________\n"
          ]
        }
      ]
    },
    {
      "cell_type": "code",
      "source": [
        "# Model parameters\n",
        "learning_rate = 1e-3\n",
        "epochs = 50\n",
        "cnn_optimizer = keras.optimizers.Adam(lr=learning_rate)"
      ],
      "metadata": {
        "id": "_U2GxkaAeDV_"
      },
      "execution_count": null,
      "outputs": []
    },
    {
      "cell_type": "code",
      "source": [
        "# Compiling the model\n",
        "shallow_cnn_model.compile(loss='categorical_crossentropy',\n",
        "                 optimizer=cnn_optimizer,\n",
        "                 metrics=['accuracy'])\n",
        "\n",
        "# Training and validating the model\n",
        "shallow_cnn_model_results = shallow_cnn_model.fit(x_train_vae,\n",
        "             y_train_vae,\n",
        "             batch_size=64,\n",
        "             epochs=epochs,\n",
        "             validation_data=(x_valid_vae, y_valid_vae), verbose=True)"
      ],
      "metadata": {
        "colab": {
          "base_uri": "https://localhost:8080/"
        },
        "id": "7Hai9N6BeDnb",
        "outputId": "61b08990-0f9f-49e5-cee1-f84c6cc86bb9"
      },
      "execution_count": null,
      "outputs": [
        {
          "output_type": "stream",
          "name": "stdout",
          "text": [
            "Epoch 1/50\n",
            "218/218 [==============================] - 2s 6ms/step - loss: 0.6486 - accuracy: 0.7184 - val_loss: 0.5549 - val_accuracy: 0.7730\n",
            "Epoch 2/50\n",
            "218/218 [==============================] - 1s 5ms/step - loss: 0.4483 - accuracy: 0.8182 - val_loss: 0.5285 - val_accuracy: 0.7970\n",
            "Epoch 3/50\n",
            "218/218 [==============================] - 1s 5ms/step - loss: 0.3397 - accuracy: 0.8677 - val_loss: 0.5151 - val_accuracy: 0.8217\n",
            "Epoch 4/50\n",
            "218/218 [==============================] - 1s 5ms/step - loss: 0.2477 - accuracy: 0.9063 - val_loss: 0.5950 - val_accuracy: 0.8110\n",
            "Epoch 5/50\n",
            "218/218 [==============================] - 1s 5ms/step - loss: 0.1846 - accuracy: 0.9340 - val_loss: 0.5886 - val_accuracy: 0.8143\n",
            "Epoch 6/50\n",
            "218/218 [==============================] - 1s 5ms/step - loss: 0.1272 - accuracy: 0.9561 - val_loss: 0.6429 - val_accuracy: 0.8060\n",
            "Epoch 7/50\n",
            "218/218 [==============================] - 1s 5ms/step - loss: 0.1083 - accuracy: 0.9618 - val_loss: 0.5980 - val_accuracy: 0.8233\n",
            "Epoch 8/50\n",
            "218/218 [==============================] - 1s 5ms/step - loss: 0.0718 - accuracy: 0.9756 - val_loss: 0.6461 - val_accuracy: 0.8263\n",
            "Epoch 9/50\n",
            "218/218 [==============================] - 1s 5ms/step - loss: 0.0571 - accuracy: 0.9810 - val_loss: 0.7117 - val_accuracy: 0.8327\n",
            "Epoch 10/50\n",
            "218/218 [==============================] - 1s 5ms/step - loss: 0.0503 - accuracy: 0.9833 - val_loss: 0.7636 - val_accuracy: 0.8237\n",
            "Epoch 11/50\n",
            "218/218 [==============================] - 1s 5ms/step - loss: 0.0495 - accuracy: 0.9827 - val_loss: 0.7526 - val_accuracy: 0.8307\n",
            "Epoch 12/50\n",
            "218/218 [==============================] - 1s 5ms/step - loss: 0.0439 - accuracy: 0.9856 - val_loss: 0.8302 - val_accuracy: 0.8300\n",
            "Epoch 13/50\n",
            "218/218 [==============================] - 1s 5ms/step - loss: 0.0290 - accuracy: 0.9917 - val_loss: 0.8158 - val_accuracy: 0.8347\n",
            "Epoch 14/50\n",
            "218/218 [==============================] - 1s 5ms/step - loss: 0.0292 - accuracy: 0.9896 - val_loss: 0.7904 - val_accuracy: 0.8383\n",
            "Epoch 15/50\n",
            "218/218 [==============================] - 1s 5ms/step - loss: 0.0473 - accuracy: 0.9853 - val_loss: 0.7627 - val_accuracy: 0.8310\n",
            "Epoch 16/50\n",
            "218/218 [==============================] - 1s 5ms/step - loss: 0.0239 - accuracy: 0.9917 - val_loss: 0.8417 - val_accuracy: 0.8343\n",
            "Epoch 17/50\n",
            "218/218 [==============================] - 1s 5ms/step - loss: 0.0277 - accuracy: 0.9907 - val_loss: 0.8590 - val_accuracy: 0.8417\n",
            "Epoch 18/50\n",
            "218/218 [==============================] - 1s 5ms/step - loss: 0.0314 - accuracy: 0.9894 - val_loss: 0.8907 - val_accuracy: 0.8303\n",
            "Epoch 19/50\n",
            "218/218 [==============================] - 1s 5ms/step - loss: 0.0217 - accuracy: 0.9926 - val_loss: 0.9456 - val_accuracy: 0.8247\n",
            "Epoch 20/50\n",
            "218/218 [==============================] - 1s 5ms/step - loss: 0.0247 - accuracy: 0.9914 - val_loss: 0.9524 - val_accuracy: 0.8310\n",
            "Epoch 21/50\n",
            "218/218 [==============================] - 1s 5ms/step - loss: 0.0258 - accuracy: 0.9912 - val_loss: 1.0122 - val_accuracy: 0.8313\n",
            "Epoch 22/50\n",
            "218/218 [==============================] - 1s 5ms/step - loss: 0.0307 - accuracy: 0.9887 - val_loss: 0.9584 - val_accuracy: 0.8250\n",
            "Epoch 23/50\n",
            "218/218 [==============================] - 1s 5ms/step - loss: 0.0164 - accuracy: 0.9945 - val_loss: 0.8876 - val_accuracy: 0.8423\n",
            "Epoch 24/50\n",
            "218/218 [==============================] - 1s 5ms/step - loss: 0.0160 - accuracy: 0.9945 - val_loss: 1.0465 - val_accuracy: 0.8280\n",
            "Epoch 25/50\n",
            "218/218 [==============================] - 1s 5ms/step - loss: 0.0211 - accuracy: 0.9922 - val_loss: 1.0117 - val_accuracy: 0.8300\n",
            "Epoch 26/50\n",
            "218/218 [==============================] - 1s 5ms/step - loss: 0.0151 - accuracy: 0.9954 - val_loss: 1.0981 - val_accuracy: 0.8263\n",
            "Epoch 27/50\n",
            "218/218 [==============================] - 1s 5ms/step - loss: 0.0293 - accuracy: 0.9905 - val_loss: 1.0246 - val_accuracy: 0.8307\n",
            "Epoch 28/50\n",
            "218/218 [==============================] - 1s 5ms/step - loss: 0.0197 - accuracy: 0.9932 - val_loss: 1.0820 - val_accuracy: 0.8220\n",
            "Epoch 29/50\n",
            "218/218 [==============================] - 1s 5ms/step - loss: 0.0235 - accuracy: 0.9921 - val_loss: 0.9692 - val_accuracy: 0.8370\n",
            "Epoch 30/50\n",
            "218/218 [==============================] - 1s 5ms/step - loss: 0.0146 - accuracy: 0.9949 - val_loss: 0.9983 - val_accuracy: 0.8330\n",
            "Epoch 31/50\n",
            "218/218 [==============================] - 1s 5ms/step - loss: 0.0078 - accuracy: 0.9976 - val_loss: 0.9781 - val_accuracy: 0.8363\n",
            "Epoch 32/50\n",
            "218/218 [==============================] - 1s 5ms/step - loss: 0.0138 - accuracy: 0.9958 - val_loss: 1.1588 - val_accuracy: 0.8157\n",
            "Epoch 33/50\n",
            "218/218 [==============================] - 1s 5ms/step - loss: 0.0382 - accuracy: 0.9886 - val_loss: 1.1831 - val_accuracy: 0.8267\n",
            "Epoch 34/50\n",
            "218/218 [==============================] - 1s 5ms/step - loss: 0.0211 - accuracy: 0.9932 - val_loss: 0.9617 - val_accuracy: 0.8437\n",
            "Epoch 35/50\n",
            "218/218 [==============================] - 1s 5ms/step - loss: 0.0093 - accuracy: 0.9971 - val_loss: 1.0865 - val_accuracy: 0.8363\n",
            "Epoch 36/50\n",
            "218/218 [==============================] - 1s 5ms/step - loss: 0.0116 - accuracy: 0.9965 - val_loss: 1.0396 - val_accuracy: 0.8373\n",
            "Epoch 37/50\n",
            "218/218 [==============================] - 1s 5ms/step - loss: 0.0137 - accuracy: 0.9963 - val_loss: 1.1161 - val_accuracy: 0.8287\n",
            "Epoch 38/50\n",
            "218/218 [==============================] - 1s 5ms/step - loss: 0.0102 - accuracy: 0.9966 - val_loss: 1.1815 - val_accuracy: 0.8233\n",
            "Epoch 39/50\n",
            "218/218 [==============================] - 1s 5ms/step - loss: 0.0142 - accuracy: 0.9951 - val_loss: 1.2668 - val_accuracy: 0.8320\n",
            "Epoch 40/50\n",
            "218/218 [==============================] - 1s 5ms/step - loss: 0.0106 - accuracy: 0.9965 - val_loss: 1.2149 - val_accuracy: 0.8297\n",
            "Epoch 41/50\n",
            "218/218 [==============================] - 1s 5ms/step - loss: 0.0117 - accuracy: 0.9962 - val_loss: 1.0816 - val_accuracy: 0.8297\n",
            "Epoch 42/50\n",
            "218/218 [==============================] - 1s 5ms/step - loss: 0.0212 - accuracy: 0.9927 - val_loss: 1.0598 - val_accuracy: 0.8400\n",
            "Epoch 43/50\n",
            "218/218 [==============================] - 1s 5ms/step - loss: 0.0131 - accuracy: 0.9949 - val_loss: 1.0334 - val_accuracy: 0.8320\n",
            "Epoch 44/50\n",
            "218/218 [==============================] - 1s 5ms/step - loss: 0.0145 - accuracy: 0.9950 - val_loss: 1.1569 - val_accuracy: 0.8227\n",
            "Epoch 45/50\n",
            "218/218 [==============================] - 1s 5ms/step - loss: 0.0132 - accuracy: 0.9956 - val_loss: 1.1505 - val_accuracy: 0.8263\n",
            "Epoch 46/50\n",
            "218/218 [==============================] - 1s 5ms/step - loss: 0.0131 - accuracy: 0.9953 - val_loss: 1.2447 - val_accuracy: 0.8287\n",
            "Epoch 47/50\n",
            "218/218 [==============================] - 1s 5ms/step - loss: 0.0049 - accuracy: 0.9982 - val_loss: 1.2491 - val_accuracy: 0.8210\n",
            "Epoch 48/50\n",
            "218/218 [==============================] - 1s 5ms/step - loss: 0.0323 - accuracy: 0.9902 - val_loss: 1.2232 - val_accuracy: 0.8143\n",
            "Epoch 49/50\n",
            "218/218 [==============================] - 1s 5ms/step - loss: 0.0113 - accuracy: 0.9963 - val_loss: 1.1810 - val_accuracy: 0.8247\n",
            "Epoch 50/50\n",
            "218/218 [==============================] - 1s 5ms/step - loss: 0.0060 - accuracy: 0.9982 - val_loss: 1.1777 - val_accuracy: 0.8323\n"
          ]
        }
      ]
    },
    {
      "cell_type": "code",
      "source": [
        "## Testing the shallow CNN model\n",
        "\n",
        "shallow_cnn_score = shallow_cnn_model.evaluate(x_test_vae, y_test_vae, verbose=0)\n",
        "print('Test accuracy of the shallow CNN model:',shallow_cnn_score[1])"
      ],
      "metadata": {
        "colab": {
          "base_uri": "https://localhost:8080/"
        },
        "id": "4hdV_0XgeJff",
        "outputId": "5cfa8043-db5d-4bb1-c4fa-3729e88fcfc1"
      },
      "execution_count": null,
      "outputs": [
        {
          "output_type": "stream",
          "name": "stdout",
          "text": [
            "Test accuracy of the shallow CNN model: 0.8055869340896606\n"
          ]
        }
      ]
    },
    {
      "cell_type": "markdown",
      "source": [
        "## CNN-LSTM Hybrid"
      ],
      "metadata": {
        "id": "st84wtbPTYLA"
      }
    },
    {
      "cell_type": "code",
      "source": [
        "from keras.models import Sequential\n",
        "from keras.layers import Dense, Activation, Flatten,Dropout\n",
        "from keras.layers import Conv2D,LSTM,BatchNormalization,MaxPooling2D,Reshape\n",
        "from keras.utils import to_categorical\n",
        "\n",
        "# Building the CNN model using sequential class\n",
        "hybrid_cnn_lstm_model = Sequential()\n",
        "\n",
        "# Conv. block 1\n",
        "hybrid_cnn_lstm_model.add(Conv2D(filters=25, kernel_size=(10,1), padding='same', activation='elu', input_shape=(250,1,22)))\n",
        "hybrid_cnn_lstm_model.add(MaxPooling2D(pool_size=(3,1), padding='same')) # Read the keras documentation\n",
        "hybrid_cnn_lstm_model.add(BatchNormalization())\n",
        "hybrid_cnn_lstm_model.add(Dropout(0.5))\n",
        "\n",
        "# Conv. block 2\n",
        "hybrid_cnn_lstm_model.add(Conv2D(filters=50, kernel_size=(10,1), padding='same', activation='elu'))\n",
        "hybrid_cnn_lstm_model.add(MaxPooling2D(pool_size=(3,1), padding='same'))\n",
        "hybrid_cnn_lstm_model.add(BatchNormalization())\n",
        "hybrid_cnn_lstm_model.add(Dropout(0.5))\n",
        "\n",
        "# Conv. block 3\n",
        "hybrid_cnn_lstm_model.add(Conv2D(filters=100, kernel_size=(10,1), padding='same', activation='elu'))\n",
        "hybrid_cnn_lstm_model.add(MaxPooling2D(pool_size=(3,1), padding='same'))\n",
        "hybrid_cnn_lstm_model.add(BatchNormalization())\n",
        "hybrid_cnn_lstm_model.add(Dropout(0.5))\n",
        "\n",
        "# Conv. block 4\n",
        "hybrid_cnn_lstm_model.add(Conv2D(filters=200, kernel_size=(10,1), padding='same', activation='elu'))\n",
        "hybrid_cnn_lstm_model.add(MaxPooling2D(pool_size=(3,1), padding='same'))\n",
        "hybrid_cnn_lstm_model.add(BatchNormalization())\n",
        "hybrid_cnn_lstm_model.add(Dropout(0.5))\n",
        "\n",
        "# FC+LSTM layers\n",
        "hybrid_cnn_lstm_model.add(Flatten()) # Adding a flattening operation to the output of CNN block\n",
        "hybrid_cnn_lstm_model.add(Dense((100))) # FC layer with 100 units\n",
        "hybrid_cnn_lstm_model.add(Reshape((100,1))) # Reshape my output of FC layer so that it's compatible\n",
        "hybrid_cnn_lstm_model.add(LSTM(10, dropout=0.6, recurrent_dropout=0.1, input_shape=(100,1), return_sequences=False))\n",
        "\n",
        "\n",
        "# Output layer with Softmax activation \n",
        "hybrid_cnn_lstm_model.add(Dense(4, activation='softmax')) # Output FC layer with softmax activation\n",
        "\n",
        "\n",
        "# Printing the model summary\n",
        "hybrid_cnn_lstm_model.summary()\n"
      ],
      "metadata": {
        "colab": {
          "base_uri": "https://localhost:8080/"
        },
        "id": "gdcovePzTbOS",
        "outputId": "af2b0175-95c2-47ff-abca-98ca01281bae"
      },
      "execution_count": null,
      "outputs": [
        {
          "output_type": "stream",
          "name": "stderr",
          "text": [
            "WARNING:tensorflow:Layer lstm will not use cuDNN kernels since it doesn't meet the criteria. It will use a generic GPU kernel as fallback when running on GPU.\n"
          ]
        },
        {
          "output_type": "stream",
          "name": "stdout",
          "text": [
            "Model: \"sequential_4\"\n",
            "_________________________________________________________________\n",
            " Layer (type)                Output Shape              Param #   \n",
            "=================================================================\n",
            " conv2d_26 (Conv2D)          (None, 250, 1, 25)        5525      \n",
            "                                                                 \n",
            " max_pooling2d_12 (MaxPoolin  (None, 84, 1, 25)        0         \n",
            " g2D)                                                            \n",
            "                                                                 \n",
            " batch_normalization_14 (Bat  (None, 84, 1, 25)        100       \n",
            " chNormalization)                                                \n",
            "                                                                 \n",
            " dropout_21 (Dropout)        (None, 84, 1, 25)         0         \n",
            "                                                                 \n",
            " conv2d_27 (Conv2D)          (None, 84, 1, 50)         12550     \n",
            "                                                                 \n",
            " max_pooling2d_13 (MaxPoolin  (None, 28, 1, 50)        0         \n",
            " g2D)                                                            \n",
            "                                                                 \n",
            " batch_normalization_15 (Bat  (None, 28, 1, 50)        200       \n",
            " chNormalization)                                                \n",
            "                                                                 \n",
            " dropout_22 (Dropout)        (None, 28, 1, 50)         0         \n",
            "                                                                 \n",
            " conv2d_28 (Conv2D)          (None, 28, 1, 100)        50100     \n",
            "                                                                 \n",
            " max_pooling2d_14 (MaxPoolin  (None, 10, 1, 100)       0         \n",
            " g2D)                                                            \n",
            "                                                                 \n",
            " batch_normalization_16 (Bat  (None, 10, 1, 100)       400       \n",
            " chNormalization)                                                \n",
            "                                                                 \n",
            " dropout_23 (Dropout)        (None, 10, 1, 100)        0         \n",
            "                                                                 \n",
            " conv2d_29 (Conv2D)          (None, 10, 1, 200)        200200    \n",
            "                                                                 \n",
            " max_pooling2d_15 (MaxPoolin  (None, 4, 1, 200)        0         \n",
            " g2D)                                                            \n",
            "                                                                 \n",
            " batch_normalization_17 (Bat  (None, 4, 1, 200)        800       \n",
            " chNormalization)                                                \n",
            "                                                                 \n",
            " dropout_24 (Dropout)        (None, 4, 1, 200)         0         \n",
            "                                                                 \n",
            " flatten_4 (Flatten)         (None, 800)               0         \n",
            "                                                                 \n",
            " dense_11 (Dense)            (None, 100)               80100     \n",
            "                                                                 \n",
            " reshape (Reshape)           (None, 100, 1)            0         \n",
            "                                                                 \n",
            " lstm (LSTM)                 (None, 10)                480       \n",
            "                                                                 \n",
            " dense_12 (Dense)            (None, 4)                 44        \n",
            "                                                                 \n",
            "=================================================================\n",
            "Total params: 350,499\n",
            "Trainable params: 349,749\n",
            "Non-trainable params: 750\n",
            "_________________________________________________________________\n"
          ]
        }
      ]
    },
    {
      "cell_type": "code",
      "source": [
        "# Model parameters\n",
        "learning_rate = 1e-3\n",
        "epochs = 50\n",
        "hybrid_cnn_lstm_optimizer = keras.optimizers.Adam(lr=learning_rate)"
      ],
      "metadata": {
        "id": "Ba9JbzzKTj7t"
      },
      "execution_count": null,
      "outputs": []
    },
    {
      "cell_type": "code",
      "source": [
        "# Compiling the model\n",
        "hybrid_cnn_lstm_model.compile(loss='categorical_crossentropy',\n",
        "                 optimizer=hybrid_cnn_lstm_optimizer,\n",
        "                 metrics=['accuracy'])\n",
        "\n",
        "# Training and validating the model\n",
        "hybrid_cnn_lstm_model_results = hybrid_cnn_lstm_model.fit(x_train_vae,\n",
        "             y_train_vae,\n",
        "             batch_size=64,\n",
        "             epochs=epochs,\n",
        "             validation_data=(x_valid_vae, y_valid_vae), verbose=True)"
      ],
      "metadata": {
        "colab": {
          "base_uri": "https://localhost:8080/"
        },
        "id": "Qpkrz9kvTmXM",
        "outputId": "c0e38305-5a89-46d2-f1f8-d98ee684b04a"
      },
      "execution_count": null,
      "outputs": [
        {
          "output_type": "stream",
          "name": "stdout",
          "text": [
            "Epoch 1/50\n",
            "218/218 [==============================] - 70s 308ms/step - loss: 0.9618 - accuracy: 0.6061 - val_loss: 0.8322 - val_accuracy: 0.6277\n",
            "Epoch 2/50\n",
            "218/218 [==============================] - 66s 302ms/step - loss: 0.6972 - accuracy: 0.6575 - val_loss: 0.6799 - val_accuracy: 0.6633\n",
            "Epoch 3/50\n",
            "218/218 [==============================] - 66s 305ms/step - loss: 0.6612 - accuracy: 0.6894 - val_loss: 0.6910 - val_accuracy: 0.7037\n",
            "Epoch 4/50\n",
            "218/218 [==============================] - 66s 303ms/step - loss: 0.6378 - accuracy: 0.7008 - val_loss: 0.6232 - val_accuracy: 0.7220\n",
            "Epoch 5/50\n",
            "218/218 [==============================] - 66s 303ms/step - loss: 0.6220 - accuracy: 0.7153 - val_loss: 0.6129 - val_accuracy: 0.7337\n",
            "Epoch 6/50\n",
            "218/218 [==============================] - 66s 304ms/step - loss: 0.6109 - accuracy: 0.7249 - val_loss: 0.6104 - val_accuracy: 0.7263\n",
            "Epoch 7/50\n",
            "218/218 [==============================] - 66s 304ms/step - loss: 0.5981 - accuracy: 0.7341 - val_loss: 0.6107 - val_accuracy: 0.7107\n",
            "Epoch 8/50\n",
            "218/218 [==============================] - 66s 304ms/step - loss: 0.5887 - accuracy: 0.7370 - val_loss: 0.5925 - val_accuracy: 0.7453\n",
            "Epoch 9/50\n",
            "218/218 [==============================] - 67s 305ms/step - loss: 0.5731 - accuracy: 0.7473 - val_loss: 0.5921 - val_accuracy: 0.7363\n",
            "Epoch 10/50\n",
            "218/218 [==============================] - 66s 305ms/step - loss: 0.5636 - accuracy: 0.7565 - val_loss: 0.5977 - val_accuracy: 0.7413\n",
            "Epoch 11/50\n",
            "218/218 [==============================] - 66s 302ms/step - loss: 0.5543 - accuracy: 0.7616 - val_loss: 0.5767 - val_accuracy: 0.7623\n",
            "Epoch 12/50\n",
            "218/218 [==============================] - 67s 305ms/step - loss: 0.5385 - accuracy: 0.7720 - val_loss: 0.5673 - val_accuracy: 0.7650\n",
            "Epoch 13/50\n",
            "218/218 [==============================] - 66s 303ms/step - loss: 0.5242 - accuracy: 0.7841 - val_loss: 0.5523 - val_accuracy: 0.7667\n",
            "Epoch 14/50\n",
            "218/218 [==============================] - 67s 306ms/step - loss: 0.5263 - accuracy: 0.7782 - val_loss: 0.5542 - val_accuracy: 0.7660\n",
            "Epoch 15/50\n",
            "218/218 [==============================] - 67s 306ms/step - loss: 0.5013 - accuracy: 0.7996 - val_loss: 0.5455 - val_accuracy: 0.7807\n",
            "Epoch 16/50\n",
            "218/218 [==============================] - 67s 306ms/step - loss: 0.4864 - accuracy: 0.8088 - val_loss: 0.5156 - val_accuracy: 0.7903\n",
            "Epoch 17/50\n",
            "218/218 [==============================] - 67s 309ms/step - loss: 0.4684 - accuracy: 0.8190 - val_loss: 0.5381 - val_accuracy: 0.7787\n",
            "Epoch 18/50\n",
            "218/218 [==============================] - 67s 305ms/step - loss: 0.4558 - accuracy: 0.8239 - val_loss: 0.4844 - val_accuracy: 0.7970\n",
            "Epoch 19/50\n",
            "218/218 [==============================] - 67s 308ms/step - loss: 0.4469 - accuracy: 0.8286 - val_loss: 0.4847 - val_accuracy: 0.8063\n",
            "Epoch 20/50\n",
            "218/218 [==============================] - 67s 308ms/step - loss: 0.4389 - accuracy: 0.8273 - val_loss: 0.4893 - val_accuracy: 0.8163\n",
            "Epoch 21/50\n",
            "218/218 [==============================] - 67s 309ms/step - loss: 0.4226 - accuracy: 0.8394 - val_loss: 0.5119 - val_accuracy: 0.8033\n",
            "Epoch 22/50\n",
            "218/218 [==============================] - 67s 307ms/step - loss: 0.4133 - accuracy: 0.8478 - val_loss: 0.4707 - val_accuracy: 0.8237\n",
            "Epoch 23/50\n",
            "218/218 [==============================] - 67s 308ms/step - loss: 0.3999 - accuracy: 0.8486 - val_loss: 0.4630 - val_accuracy: 0.8217\n",
            "Epoch 24/50\n",
            "218/218 [==============================] - 67s 307ms/step - loss: 0.3875 - accuracy: 0.8554 - val_loss: 0.4728 - val_accuracy: 0.8207\n",
            "Epoch 25/50\n",
            "218/218 [==============================] - 67s 307ms/step - loss: 0.3773 - accuracy: 0.8626 - val_loss: 0.4647 - val_accuracy: 0.8327\n",
            "Epoch 26/50\n",
            "218/218 [==============================] - 67s 308ms/step - loss: 0.3746 - accuracy: 0.8589 - val_loss: 0.4552 - val_accuracy: 0.8290\n",
            "Epoch 27/50\n",
            "218/218 [==============================] - 67s 306ms/step - loss: 0.3612 - accuracy: 0.8645 - val_loss: 0.4881 - val_accuracy: 0.8180\n",
            "Epoch 28/50\n",
            "218/218 [==============================] - 67s 307ms/step - loss: 0.3409 - accuracy: 0.8756 - val_loss: 0.4697 - val_accuracy: 0.8333\n",
            "Epoch 29/50\n",
            "218/218 [==============================] - 67s 307ms/step - loss: 0.3471 - accuracy: 0.8709 - val_loss: 0.4764 - val_accuracy: 0.8230\n",
            "Epoch 30/50\n",
            "218/218 [==============================] - 67s 307ms/step - loss: 0.3599 - accuracy: 0.8655 - val_loss: 0.4588 - val_accuracy: 0.8333\n",
            "Epoch 31/50\n",
            "218/218 [==============================] - 67s 307ms/step - loss: 0.3397 - accuracy: 0.8721 - val_loss: 0.4679 - val_accuracy: 0.8397\n",
            "Epoch 32/50\n",
            "218/218 [==============================] - 67s 306ms/step - loss: 0.3275 - accuracy: 0.8802 - val_loss: 0.4495 - val_accuracy: 0.8367\n",
            "Epoch 33/50\n",
            "218/218 [==============================] - 67s 307ms/step - loss: 0.3219 - accuracy: 0.8832 - val_loss: 0.4391 - val_accuracy: 0.8433\n",
            "Epoch 34/50\n",
            "218/218 [==============================] - 67s 308ms/step - loss: 0.3038 - accuracy: 0.8889 - val_loss: 0.4657 - val_accuracy: 0.8303\n",
            "Epoch 35/50\n",
            "218/218 [==============================] - 68s 310ms/step - loss: 0.3111 - accuracy: 0.8903 - val_loss: 0.4782 - val_accuracy: 0.8287\n",
            "Epoch 36/50\n",
            "218/218 [==============================] - 67s 308ms/step - loss: 0.3051 - accuracy: 0.8897 - val_loss: 0.4464 - val_accuracy: 0.8350\n",
            "Epoch 37/50\n",
            "218/218 [==============================] - 67s 308ms/step - loss: 0.2947 - accuracy: 0.8937 - val_loss: 0.4301 - val_accuracy: 0.8483\n",
            "Epoch 38/50\n",
            "218/218 [==============================] - 67s 306ms/step - loss: 0.2916 - accuracy: 0.8953 - val_loss: 0.4333 - val_accuracy: 0.8467\n",
            "Epoch 39/50\n",
            "218/218 [==============================] - 67s 308ms/step - loss: 0.2905 - accuracy: 0.8949 - val_loss: 0.4687 - val_accuracy: 0.8347\n",
            "Epoch 40/50\n",
            "218/218 [==============================] - 67s 309ms/step - loss: 0.2842 - accuracy: 0.8969 - val_loss: 0.4662 - val_accuracy: 0.8293\n",
            "Epoch 41/50\n",
            "218/218 [==============================] - 68s 310ms/step - loss: 0.2723 - accuracy: 0.9001 - val_loss: 0.4435 - val_accuracy: 0.8437\n",
            "Epoch 42/50\n",
            "218/218 [==============================] - 67s 309ms/step - loss: 0.2600 - accuracy: 0.9064 - val_loss: 0.4616 - val_accuracy: 0.8427\n",
            "Epoch 43/50\n",
            "218/218 [==============================] - 67s 306ms/step - loss: 0.2653 - accuracy: 0.9054 - val_loss: 0.4890 - val_accuracy: 0.8373\n",
            "Epoch 44/50\n",
            "218/218 [==============================] - 67s 308ms/step - loss: 0.2585 - accuracy: 0.9065 - val_loss: 0.4683 - val_accuracy: 0.8373\n",
            "Epoch 45/50\n",
            "218/218 [==============================] - 67s 308ms/step - loss: 0.2590 - accuracy: 0.9064 - val_loss: 0.4752 - val_accuracy: 0.8390\n",
            "Epoch 46/50\n",
            "218/218 [==============================] - 67s 308ms/step - loss: 0.2506 - accuracy: 0.9109 - val_loss: 0.4512 - val_accuracy: 0.8437\n",
            "Epoch 47/50\n",
            "218/218 [==============================] - 67s 306ms/step - loss: 0.2501 - accuracy: 0.9091 - val_loss: 0.4904 - val_accuracy: 0.8333\n",
            "Epoch 48/50\n",
            "218/218 [==============================] - 67s 307ms/step - loss: 0.2504 - accuracy: 0.9114 - val_loss: 0.4549 - val_accuracy: 0.8440\n",
            "Epoch 49/50\n",
            "218/218 [==============================] - 67s 308ms/step - loss: 0.2438 - accuracy: 0.9135 - val_loss: 0.4718 - val_accuracy: 0.8357\n",
            "Epoch 50/50\n",
            "218/218 [==============================] - 67s 308ms/step - loss: 0.2306 - accuracy: 0.9162 - val_loss: 0.4804 - val_accuracy: 0.8437\n"
          ]
        }
      ]
    },
    {
      "cell_type": "code",
      "source": [
        "import matplotlib.pyplot as plt\n",
        "\n",
        "# Plotting accuracy trajectory\n",
        "plt.plot(hybrid_cnn_lstm_model_results.history['accuracy'])\n",
        "plt.plot(hybrid_cnn_lstm_model_results.history['val_accuracy'])\n",
        "plt.title('Hybrid CNN-LSTM model accuracy trajectory')\n",
        "plt.ylabel('accuracy')\n",
        "plt.xlabel('epoch')\n",
        "plt.legend(['train', 'val'], loc='upper left')\n",
        "plt.show()\n",
        "\n",
        "# Plotting loss trajectory\n",
        "plt.plot(hybrid_cnn_lstm_model_results.history['loss'],'o')\n",
        "plt.plot(hybrid_cnn_lstm_model_results.history['val_loss'],'o')\n",
        "plt.title('Hybrid CNN-LSTM model loss trajectory')\n",
        "plt.ylabel('loss')\n",
        "plt.xlabel('epoch')\n",
        "plt.legend(['train', 'val'], loc='upper left')\n",
        "plt.show()"
      ],
      "metadata": {
        "colab": {
          "base_uri": "https://localhost:8080/",
          "height": 573
        },
        "id": "Jr_c7VMtTpSc",
        "outputId": "146b3856-365d-4e89-82d2-6ddb20080806"
      },
      "execution_count": null,
      "outputs": [
        {
          "output_type": "display_data",
          "data": {
            "text/plain": [
              "<Figure size 432x288 with 1 Axes>"
            ],
            "image/png": "[encoded data removed]"
          },
          "metadata": {
            "needs_background": "light"
          }
        },
        {
          "output_type": "display_data",
          "data": {
            "text/plain": [
              "<Figure size 432x288 with 1 Axes>"
            ],
            "image/png": "[encoded data removed]"
          },
          "metadata": {
            "needs_background": "light"
          }
        }
      ]
    },
    {
      "cell_type": "code",
      "source": [
        "## Testing the hybrid CNN-LSTM model\n",
        "\n",
        "hybrid_cnn_lstm_score = hybrid_cnn_lstm_model.evaluate(x_test_vae, y_test_vae, verbose=0)\n",
        "print('Test accuracy of the hybrid CNN-LSTM model:',hybrid_cnn_lstm_score[1])"
      ],
      "metadata": {
        "colab": {
          "base_uri": "https://localhost:8080/"
        },
        "id": "ghvSt_shTpwf",
        "outputId": "e4e2df62-bd95-4950-c583-bb8c85748b5d"
      },
      "execution_count": null,
      "outputs": [
        {
          "output_type": "stream",
          "name": "stdout",
          "text": [
            "Test accuracy of the hybrid CNN-LSTM model: 0.8236455917358398\n"
          ]
        }
      ]
    },
    {
      "cell_type": "markdown",
      "source": [
        "## CNN-GRU Hybrid"
      ],
      "metadata": {
        "id": "ebooa0tVTsG3"
      }
    },
    {
      "cell_type": "code",
      "source": [
        "from keras.models import Sequential\n",
        "from keras.layers import Dense, Activation, Flatten,Dropout\n",
        "from keras.layers import Conv2D,LSTM,BatchNormalization,MaxPooling2D,Reshape\n",
        "from keras.layers import GRU\n",
        "from keras.utils import to_categorical\n",
        "\n",
        "# Building the CNN model using sequential class\n",
        "hybrid_cnn_gru_model = Sequential()\n",
        "\n",
        "# Conv. block 1\n",
        "hybrid_cnn_gru_model.add(Conv2D(filters=25, kernel_size=(10,1), padding='same', activation='elu', input_shape=(250,1,22)))\n",
        "hybrid_cnn_gru_model.add(MaxPooling2D(pool_size=(3,1), padding='same')) # Read the keras documentation\n",
        "hybrid_cnn_gru_model.add(BatchNormalization())\n",
        "hybrid_cnn_gru_model.add(Dropout(0.5))\n",
        "\n",
        "# Conv. block 2\n",
        "hybrid_cnn_gru_model.add(Conv2D(filters=50, kernel_size=(10,1), padding='same', activation='elu'))\n",
        "hybrid_cnn_gru_model.add(MaxPooling2D(pool_size=(3,1), padding='same'))\n",
        "hybrid_cnn_gru_model.add(BatchNormalization())\n",
        "hybrid_cnn_gru_model.add(Dropout(0.5))\n",
        "\n",
        "# Conv. block 3\n",
        "hybrid_cnn_gru_model.add(Conv2D(filters=100, kernel_size=(10,1), padding='same', activation='elu'))\n",
        "hybrid_cnn_gru_model.add(MaxPooling2D(pool_size=(3,1), padding='same'))\n",
        "hybrid_cnn_gru_model.add(BatchNormalization())\n",
        "hybrid_cnn_gru_model.add(Dropout(0.5))\n",
        "\n",
        "# Conv. block 4\n",
        "hybrid_cnn_gru_model.add(Conv2D(filters=200, kernel_size=(10,1), padding='same', activation='elu'))\n",
        "hybrid_cnn_gru_model.add(MaxPooling2D(pool_size=(3,1), padding='same'))\n",
        "hybrid_cnn_gru_model.add(BatchNormalization())\n",
        "hybrid_cnn_gru_model.add(Dropout(0.5))\n",
        "\n",
        "# FC+GRU layers\n",
        "hybrid_cnn_gru_model.add(Flatten()) # Adding a flattening operation to the output of CNN block\n",
        "hybrid_cnn_gru_model.add(Dense((100))) # FC layer with 100 units\n",
        "hybrid_cnn_gru_model.add(Reshape((100,1))) # Reshape my output of FC layer so that it's compatible\n",
        "hybrid_cnn_gru_model.add(GRU(10, dropout=0.6, recurrent_dropout=0.1, input_shape=(100,1), return_sequences=False))\n",
        "\n",
        "\n",
        "# Output layer with Softmax activation \n",
        "hybrid_cnn_gru_model.add(Dense(4, activation='softmax')) # Output FC layer with softmax activation\n",
        "\n",
        "\n",
        "# Printing the model summary\n",
        "hybrid_cnn_gru_model.summary()"
      ],
      "metadata": {
        "colab": {
          "base_uri": "https://localhost:8080/"
        },
        "id": "nwMcBSnRTxnU",
        "outputId": "ca3f9483-6e22-41ed-ce5b-8be06617e452"
      },
      "execution_count": null,
      "outputs": [
        {
          "output_type": "stream",
          "name": "stderr",
          "text": [
            "WARNING:tensorflow:Layer gru will not use cuDNN kernels since it doesn't meet the criteria. It will use a generic GPU kernel as fallback when running on GPU.\n"
          ]
        },
        {
          "output_type": "stream",
          "name": "stdout",
          "text": [
            "Model: \"sequential_5\"\n",
            "_________________________________________________________________\n",
            " Layer (type)                Output Shape              Param #   \n",
            "=================================================================\n",
            " conv2d_30 (Conv2D)          (None, 250, 1, 25)        5525      \n",
            "                                                                 \n",
            " max_pooling2d_16 (MaxPoolin  (None, 84, 1, 25)        0         \n",
            " g2D)                                                            \n",
            "                                                                 \n",
            " batch_normalization_18 (Bat  (None, 84, 1, 25)        100       \n",
            " chNormalization)                                                \n",
            "                                                                 \n",
            " dropout_25 (Dropout)        (None, 84, 1, 25)         0         \n",
            "                                                                 \n",
            " conv2d_31 (Conv2D)          (None, 84, 1, 50)         12550     \n",
            "                                                                 \n",
            " max_pooling2d_17 (MaxPoolin  (None, 28, 1, 50)        0         \n",
            " g2D)                                                            \n",
            "                                                                 \n",
            " batch_normalization_19 (Bat  (None, 28, 1, 50)        200       \n",
            " chNormalization)                                                \n",
            "                                                                 \n",
            " dropout_26 (Dropout)        (None, 28, 1, 50)         0         \n",
            "                                                                 \n",
            " conv2d_32 (Conv2D)          (None, 28, 1, 100)        50100     \n",
            "                                                                 \n",
            " max_pooling2d_18 (MaxPoolin  (None, 10, 1, 100)       0         \n",
            " g2D)                                                            \n",
            "                                                                 \n",
            " batch_normalization_20 (Bat  (None, 10, 1, 100)       400       \n",
            " chNormalization)                                                \n",
            "                                                                 \n",
            " dropout_27 (Dropout)        (None, 10, 1, 100)        0         \n",
            "                                                                 \n",
            " conv2d_33 (Conv2D)          (None, 10, 1, 200)        200200    \n",
            "                                                                 \n",
            " max_pooling2d_19 (MaxPoolin  (None, 4, 1, 200)        0         \n",
            " g2D)                                                            \n",
            "                                                                 \n",
            " batch_normalization_21 (Bat  (None, 4, 1, 200)        800       \n",
            " chNormalization)                                                \n",
            "                                                                 \n",
            " dropout_28 (Dropout)        (None, 4, 1, 200)         0         \n",
            "                                                                 \n",
            " flatten_5 (Flatten)         (None, 800)               0         \n",
            "                                                                 \n",
            " dense_13 (Dense)            (None, 100)               80100     \n",
            "                                                                 \n",
            " reshape_1 (Reshape)         (None, 100, 1)            0         \n",
            "                                                                 \n",
            " gru (GRU)                   (None, 10)                390       \n",
            "                                                                 \n",
            " dense_14 (Dense)            (None, 4)                 44        \n",
            "                                                                 \n",
            "=================================================================\n",
            "Total params: 350,409\n",
            "Trainable params: 349,659\n",
            "Non-trainable params: 750\n",
            "_________________________________________________________________\n"
          ]
        }
      ]
    },
    {
      "cell_type": "code",
      "source": [
        "# Model parameters\n",
        "learning_rate = 1e-3\n",
        "epochs = 50\n",
        "hybrid_cnn_gru_optimizer = keras.optimizers.Adam(lr=learning_rate)"
      ],
      "metadata": {
        "id": "q8Grf0HETz3m"
      },
      "execution_count": null,
      "outputs": []
    },
    {
      "cell_type": "code",
      "source": [
        "# Compiling the model\n",
        "hybrid_cnn_gru_model.compile(loss='categorical_crossentropy',\n",
        "                 optimizer=hybrid_cnn_gru_optimizer,\n",
        "                 metrics=['accuracy'])\n",
        "\n",
        "# Training and validating the model\n",
        "hybrid_cnn_gru_model_results = hybrid_cnn_gru_model.fit(x_train_vae,\n",
        "             y_train_vae,\n",
        "             batch_size=64,\n",
        "             epochs=epochs,\n",
        "             validation_data=(x_valid_vae, y_valid_vae), verbose=True)"
      ],
      "metadata": {
        "colab": {
          "base_uri": "https://localhost:8080/"
        },
        "id": "oQKKrMMTT2JA",
        "outputId": "1e141c2c-d298-49ea-d7d8-be510dffedde"
      },
      "execution_count": null,
      "outputs": [
        {
          "output_type": "stream",
          "name": "stdout",
          "text": [
            "Epoch 1/50\n",
            "218/218 [==============================] - 64s 282ms/step - loss: 0.8793 - accuracy: 0.6269 - val_loss: 0.7087 - val_accuracy: 0.6340\n",
            "Epoch 2/50\n",
            "218/218 [==============================] - 62s 283ms/step - loss: 0.7117 - accuracy: 0.6469 - val_loss: 0.6857 - val_accuracy: 0.6553\n",
            "Epoch 3/50\n",
            "218/218 [==============================] - 62s 285ms/step - loss: 0.6857 - accuracy: 0.6483 - val_loss: 0.6734 - val_accuracy: 0.6650\n",
            "Epoch 4/50\n",
            "218/218 [==============================] - 62s 284ms/step - loss: 0.6749 - accuracy: 0.6659 - val_loss: 0.6486 - val_accuracy: 0.6863\n",
            "Epoch 5/50\n",
            "218/218 [==============================] - 61s 280ms/step - loss: 0.6531 - accuracy: 0.6839 - val_loss: 0.6254 - val_accuracy: 0.7073\n",
            "Epoch 6/50\n",
            "218/218 [==============================] - 62s 282ms/step - loss: 0.6334 - accuracy: 0.6970 - val_loss: 0.6310 - val_accuracy: 0.7030\n",
            "Epoch 7/50\n",
            "218/218 [==============================] - 61s 281ms/step - loss: 0.6136 - accuracy: 0.7121 - val_loss: 0.6183 - val_accuracy: 0.7077\n",
            "Epoch 8/50\n",
            "218/218 [==============================] - 61s 282ms/step - loss: 0.5964 - accuracy: 0.7174 - val_loss: 0.6142 - val_accuracy: 0.7067\n",
            "Epoch 9/50\n",
            "218/218 [==============================] - 61s 282ms/step - loss: 0.5936 - accuracy: 0.7214 - val_loss: 0.6156 - val_accuracy: 0.7010\n",
            "Epoch 10/50\n",
            "218/218 [==============================] - 62s 283ms/step - loss: 0.5769 - accuracy: 0.7320 - val_loss: 0.6039 - val_accuracy: 0.7110\n",
            "Epoch 11/50\n",
            "218/218 [==============================] - 61s 282ms/step - loss: 0.5597 - accuracy: 0.7454 - val_loss: 0.5944 - val_accuracy: 0.7193\n",
            "Epoch 12/50\n",
            "218/218 [==============================] - 61s 281ms/step - loss: 0.5449 - accuracy: 0.7557 - val_loss: 0.5941 - val_accuracy: 0.7200\n",
            "Epoch 13/50\n",
            "218/218 [==============================] - 61s 280ms/step - loss: 0.5374 - accuracy: 0.7606 - val_loss: 0.5755 - val_accuracy: 0.7413\n",
            "Epoch 14/50\n",
            "218/218 [==============================] - 61s 281ms/step - loss: 0.5178 - accuracy: 0.7751 - val_loss: 0.5604 - val_accuracy: 0.7463\n",
            "Epoch 15/50\n",
            "218/218 [==============================] - 61s 280ms/step - loss: 0.5120 - accuracy: 0.7789 - val_loss: 0.5305 - val_accuracy: 0.7650\n",
            "Epoch 16/50\n",
            "218/218 [==============================] - 61s 281ms/step - loss: 0.4921 - accuracy: 0.7923 - val_loss: 0.5281 - val_accuracy: 0.7663\n",
            "Epoch 17/50\n",
            "218/218 [==============================] - 61s 280ms/step - loss: 0.4814 - accuracy: 0.7933 - val_loss: 0.5145 - val_accuracy: 0.7743\n",
            "Epoch 18/50\n",
            "218/218 [==============================] - 61s 282ms/step - loss: 0.4746 - accuracy: 0.7981 - val_loss: 0.4993 - val_accuracy: 0.7827\n",
            "Epoch 19/50\n",
            "218/218 [==============================] - 61s 280ms/step - loss: 0.4621 - accuracy: 0.8071 - val_loss: 0.5246 - val_accuracy: 0.7653\n",
            "Epoch 20/50\n",
            "218/218 [==============================] - 61s 282ms/step - loss: 0.4516 - accuracy: 0.8058 - val_loss: 0.5061 - val_accuracy: 0.7783\n",
            "Epoch 21/50\n",
            "218/218 [==============================] - 61s 282ms/step - loss: 0.4525 - accuracy: 0.8131 - val_loss: 0.4986 - val_accuracy: 0.7933\n",
            "Epoch 22/50\n",
            "218/218 [==============================] - 61s 282ms/step - loss: 0.4317 - accuracy: 0.8214 - val_loss: 0.4962 - val_accuracy: 0.7930\n",
            "Epoch 23/50\n",
            "218/218 [==============================] - 62s 285ms/step - loss: 0.4213 - accuracy: 0.8261 - val_loss: 0.5148 - val_accuracy: 0.7840\n",
            "Epoch 24/50\n",
            "218/218 [==============================] - 62s 284ms/step - loss: 0.4144 - accuracy: 0.8273 - val_loss: 0.4950 - val_accuracy: 0.7917\n",
            "Epoch 25/50\n",
            "218/218 [==============================] - 61s 282ms/step - loss: 0.4069 - accuracy: 0.8308 - val_loss: 0.5254 - val_accuracy: 0.7790\n",
            "Epoch 26/50\n",
            "218/218 [==============================] - 61s 281ms/step - loss: 0.3999 - accuracy: 0.8340 - val_loss: 0.4991 - val_accuracy: 0.7957\n",
            "Epoch 27/50\n",
            "218/218 [==============================] - 61s 280ms/step - loss: 0.3872 - accuracy: 0.8384 - val_loss: 0.5211 - val_accuracy: 0.7910\n",
            "Epoch 28/50\n",
            "218/218 [==============================] - 61s 279ms/step - loss: 0.3816 - accuracy: 0.8437 - val_loss: 0.5097 - val_accuracy: 0.7923\n",
            "Epoch 29/50\n",
            "218/218 [==============================] - 62s 283ms/step - loss: 0.3817 - accuracy: 0.8451 - val_loss: 0.5240 - val_accuracy: 0.7980\n",
            "Epoch 30/50\n",
            "218/218 [==============================] - 61s 282ms/step - loss: 0.3725 - accuracy: 0.8506 - val_loss: 0.5102 - val_accuracy: 0.8050\n",
            "Epoch 31/50\n",
            "218/218 [==============================] - 61s 280ms/step - loss: 0.3598 - accuracy: 0.8585 - val_loss: 0.4987 - val_accuracy: 0.8120\n",
            "Epoch 32/50\n",
            "218/218 [==============================] - 61s 281ms/step - loss: 0.3525 - accuracy: 0.8608 - val_loss: 0.5086 - val_accuracy: 0.8060\n",
            "Epoch 33/50\n",
            "218/218 [==============================] - 62s 283ms/step - loss: 0.3488 - accuracy: 0.8660 - val_loss: 0.5017 - val_accuracy: 0.8197\n",
            "Epoch 34/50\n",
            "218/218 [==============================] - 61s 281ms/step - loss: 0.3373 - accuracy: 0.8687 - val_loss: 0.4783 - val_accuracy: 0.8213\n",
            "Epoch 35/50\n",
            "218/218 [==============================] - 61s 280ms/step - loss: 0.3280 - accuracy: 0.8747 - val_loss: 0.4853 - val_accuracy: 0.8263\n",
            "Epoch 36/50\n",
            "218/218 [==============================] - 61s 281ms/step - loss: 0.3328 - accuracy: 0.8725 - val_loss: 0.4773 - val_accuracy: 0.8207\n",
            "Epoch 37/50\n",
            "218/218 [==============================] - 61s 282ms/step - loss: 0.3261 - accuracy: 0.8755 - val_loss: 0.4905 - val_accuracy: 0.8167\n",
            "Epoch 38/50\n",
            "218/218 [==============================] - 61s 282ms/step - loss: 0.3144 - accuracy: 0.8807 - val_loss: 0.4741 - val_accuracy: 0.8143\n",
            "Epoch 39/50\n",
            "218/218 [==============================] - 62s 284ms/step - loss: 0.3141 - accuracy: 0.8787 - val_loss: 0.4995 - val_accuracy: 0.8187\n",
            "Epoch 40/50\n",
            "218/218 [==============================] - 61s 281ms/step - loss: 0.3091 - accuracy: 0.8835 - val_loss: 0.4672 - val_accuracy: 0.8317\n",
            "Epoch 41/50\n",
            "218/218 [==============================] - 62s 283ms/step - loss: 0.2948 - accuracy: 0.8893 - val_loss: 0.4734 - val_accuracy: 0.8330\n",
            "Epoch 42/50\n",
            "218/218 [==============================] - 62s 285ms/step - loss: 0.2982 - accuracy: 0.8878 - val_loss: 0.4785 - val_accuracy: 0.8250\n",
            "Epoch 43/50\n",
            "218/218 [==============================] - 61s 281ms/step - loss: 0.2844 - accuracy: 0.8930 - val_loss: 0.4482 - val_accuracy: 0.8240\n",
            "Epoch 44/50\n",
            "218/218 [==============================] - 61s 280ms/step - loss: 0.2779 - accuracy: 0.8981 - val_loss: 0.4564 - val_accuracy: 0.8260\n",
            "Epoch 45/50\n",
            "218/218 [==============================] - 61s 279ms/step - loss: 0.2766 - accuracy: 0.8953 - val_loss: 0.4494 - val_accuracy: 0.8243\n",
            "Epoch 46/50\n",
            "218/218 [==============================] - 62s 283ms/step - loss: 0.2790 - accuracy: 0.8967 - val_loss: 0.4465 - val_accuracy: 0.8283\n",
            "Epoch 47/50\n",
            "218/218 [==============================] - 61s 280ms/step - loss: 0.2704 - accuracy: 0.8986 - val_loss: 0.5004 - val_accuracy: 0.8220\n",
            "Epoch 48/50\n",
            "218/218 [==============================] - 61s 281ms/step - loss: 0.2652 - accuracy: 0.9024 - val_loss: 0.4689 - val_accuracy: 0.8287\n",
            "Epoch 49/50\n",
            "218/218 [==============================] - 61s 281ms/step - loss: 0.2664 - accuracy: 0.9030 - val_loss: 0.4495 - val_accuracy: 0.8370\n",
            "Epoch 50/50\n",
            "218/218 [==============================] - 61s 280ms/step - loss: 0.2570 - accuracy: 0.9065 - val_loss: 0.4425 - val_accuracy: 0.8307\n"
          ]
        }
      ]
    },
    {
      "cell_type": "code",
      "source": [
        "import matplotlib.pyplot as plt\n",
        "\n",
        "# Plotting accuracy trajectory\n",
        "plt.plot(hybrid_cnn_gru_model_results.history['accuracy'])\n",
        "plt.plot(hybrid_cnn_gru_model_results.history['val_accuracy'])\n",
        "plt.title('Hybrid CNN-GRU model accuracy trajectory')\n",
        "plt.ylabel('accuracy')\n",
        "plt.xlabel('epoch')\n",
        "plt.legend(['train', 'val'], loc='upper left')\n",
        "plt.show()\n",
        "\n",
        "# Plotting loss trajectory\n",
        "plt.plot (hybrid_cnn_gru_model_results.history['loss'],'o')\n",
        "plt.plot(hybrid_cnn_gru_model_results.history['val_loss'],'o')\n",
        "plt.title('Hybrid CNN-GRU model loss trajectory')\n",
        "plt.ylabel('loss')\n",
        "plt.xlabel('epoch')\n",
        "plt.legend(['train', 'val'], loc='upper left')\n",
        "plt.show()"
      ],
      "metadata": {
        "colab": {
          "base_uri": "https://localhost:8080/",
          "height": 573
        },
        "id": "kBGUsPfTT5L5",
        "outputId": "1a60768d-41ad-4d5c-adb7-d6c2c83262a9"
      },
      "execution_count": null,
      "outputs": [
        {
          "output_type": "display_data",
          "data": {
            "text/plain": [
              "<Figure size 432x288 with 1 Axes>"
            ],
            "image/png": "[encoded data removed]"
          },
          "metadata": {
            "needs_background": "light"
          }
        },
        {
          "output_type": "display_data",
          "data": {
            "text/plain": [
              "<Figure size 432x288 with 1 Axes>"
            ],
            "image/png": "[encoded data removed]"
          },
          "metadata": {
            "needs_background": "light"
          }
        }
      ]
    },
    {
      "cell_type": "code",
      "source": [
        "## Testing the hybrid CNN-GRU model\n",
        "\n",
        "hybrid_cnn_gru_score = hybrid_cnn_gru_model.evaluate(x_test_vae, y_test_vae, verbose=0)\n",
        "print('Test accuracy of the hybrid CNN-GRU model:',hybrid_cnn_gru_score[1])"
      ],
      "metadata": {
        "colab": {
          "base_uri": "https://localhost:8080/"
        },
        "id": "CTHYd36GUD6d",
        "outputId": "bad8e33f-1e8e-416d-8850-e82c467b6961"
      },
      "execution_count": null,
      "outputs": [
        {
          "output_type": "stream",
          "name": "stdout",
          "text": [
            "Test accuracy of the hybrid CNN-GRU model: 0.8267494440078735\n"
          ]
        }
      ]
    },
    {
      "cell_type": "markdown",
      "source": [
        "## RNN-LSTM"
      ],
      "metadata": {
        "id": "IWtYJS8SqlrN"
      }
    },
    {
      "cell_type": "code",
      "source": [
        "from keras.models import Sequential\n",
        "from keras.layers import Flatten, Dropout, LSTM, Dense\n",
        "from keras.optimizers import Adam\n",
        "\n",
        "rnn_lstm_model = Sequential()\n",
        "rnn_lstm_model.add(LSTM(64, input_shape=(250,22), return_sequences=True))\n",
        "rnn_lstm_model.add(LSTM(32, return_sequences=True))\n",
        "\n",
        "rnn_lstm_model.add(Flatten())\n",
        "rnn_lstm_model.add(Dropout(0.5))\n",
        "rnn_lstm_model.add(Dense(4, activation='softmax'))\n",
        "rnn_lstm_model.summary()"
      ],
      "metadata": {
        "colab": {
          "base_uri": "https://localhost:8080/"
        },
        "id": "2Fv73ATrwd1F",
        "outputId": "1e6b9fa6-bb99-4a11-fa40-34a86c3329d6"
      },
      "execution_count": null,
      "outputs": [
        {
          "output_type": "stream",
          "name": "stdout",
          "text": [
            "Model: \"sequential_6\"\n",
            "_________________________________________________________________\n",
            " Layer (type)                Output Shape              Param #   \n",
            "=================================================================\n",
            " lstm_1 (LSTM)               (None, 250, 64)           22272     \n",
            "                                                                 \n",
            " lstm_2 (LSTM)               (None, 250, 32)           12416     \n",
            "                                                                 \n",
            " flatten_6 (Flatten)         (None, 8000)              0         \n",
            "                                                                 \n",
            " dropout_29 (Dropout)        (None, 8000)              0         \n",
            "                                                                 \n",
            " dense_15 (Dense)            (None, 4)                 32004     \n",
            "                                                                 \n",
            "=================================================================\n",
            "Total params: 66,692\n",
            "Trainable params: 66,692\n",
            "Non-trainable params: 0\n",
            "_________________________________________________________________\n"
          ]
        }
      ]
    },
    {
      "cell_type": "code",
      "source": [
        "# Model parameters\n",
        "learning_rate = 1e-3\n",
        "epochs = 50\n",
        "rnn_optimizer = keras.optimizers.Adam(lr=learning_rate)"
      ],
      "metadata": {
        "id": "LEEPzopLwfjL",
        "colab": {
          "base_uri": "https://localhost:8080/"
        },
        "outputId": "b73fc595-b1a3-450a-9294-657646318ef2"
      },
      "execution_count": null,
      "outputs": [
        {
          "output_type": "stream",
          "name": "stderr",
          "text": [
            "/usr/local/lib/python3.9/dist-packages/keras/optimizers/optimizer_v2/adam.py:117: UserWarning: The `lr` argument is deprecated, use `learning_rate` instead.\n",
            "  super().__init__(name, **kwargs)\n"
          ]
        }
      ]
    },
    {
      "cell_type": "code",
      "source": [
        "# Compiling the model\n",
        "rnn_lstm_model.compile(loss='categorical_crossentropy',\n",
        "                 optimizer=rnn_optimizer,\n",
        "                 metrics=['accuracy'])\n",
        "\n",
        "x_train_rnn = np.squeeze(x_train_vae, axis=2)\n",
        "x_valid_rnn = np.squeeze(x_valid_vae, axis=2)\n",
        "\n",
        "# Training and validating the model\n",
        "rnn_model_results = rnn_lstm_model.fit(x_train_rnn,\n",
        "             y_train_vae,\n",
        "             batch_size=64,\n",
        "             epochs=epochs,\n",
        "             validation_data=(x_valid_rnn, y_valid_vae), verbose=True)"
      ],
      "metadata": {
        "colab": {
          "base_uri": "https://localhost:8080/"
        },
        "id": "EQFkh72Vwvwl",
        "outputId": "c87d8f7e-7f3e-4757-f020-164c34db2b91"
      },
      "execution_count": null,
      "outputs": [
        {
          "output_type": "stream",
          "name": "stdout",
          "text": [
            "Epoch 1/50\n",
            "218/218 [==============================] - 8s 21ms/step - loss: 0.5443 - accuracy: 0.7800 - val_loss: 0.5025 - val_accuracy: 0.7933\n",
            "Epoch 2/50\n",
            "218/218 [==============================] - 4s 18ms/step - loss: 0.2876 - accuracy: 0.8930 - val_loss: 0.5460 - val_accuracy: 0.7980\n",
            "Epoch 3/50\n",
            "218/218 [==============================] - 4s 17ms/step - loss: 0.1695 - accuracy: 0.9399 - val_loss: 0.5879 - val_accuracy: 0.8090\n",
            "Epoch 4/50\n",
            "218/218 [==============================] - 4s 17ms/step - loss: 0.1038 - accuracy: 0.9638 - val_loss: 0.6590 - val_accuracy: 0.8067\n",
            "Epoch 5/50\n",
            "218/218 [==============================] - 4s 18ms/step - loss: 0.0653 - accuracy: 0.9774 - val_loss: 0.7231 - val_accuracy: 0.8040\n",
            "Epoch 6/50\n",
            "218/218 [==============================] - 4s 17ms/step - loss: 0.0575 - accuracy: 0.9806 - val_loss: 0.7407 - val_accuracy: 0.8063\n",
            "Epoch 7/50\n",
            "218/218 [==============================] - 4s 17ms/step - loss: 0.0475 - accuracy: 0.9824 - val_loss: 0.7541 - val_accuracy: 0.8020\n",
            "Epoch 8/50\n",
            "218/218 [==============================] - 4s 18ms/step - loss: 0.0307 - accuracy: 0.9897 - val_loss: 0.9249 - val_accuracy: 0.7827\n",
            "Epoch 9/50\n",
            "218/218 [==============================] - 4s 17ms/step - loss: 0.0334 - accuracy: 0.9881 - val_loss: 0.8846 - val_accuracy: 0.8017\n",
            "Epoch 10/50\n",
            "218/218 [==============================] - 4s 17ms/step - loss: 0.0348 - accuracy: 0.9877 - val_loss: 0.8805 - val_accuracy: 0.8010\n",
            "Epoch 11/50\n",
            "218/218 [==============================] - 4s 19ms/step - loss: 0.0256 - accuracy: 0.9922 - val_loss: 0.8970 - val_accuracy: 0.8100\n",
            "Epoch 12/50\n",
            "218/218 [==============================] - 4s 18ms/step - loss: 0.0283 - accuracy: 0.9889 - val_loss: 0.9473 - val_accuracy: 0.8013\n",
            "Epoch 13/50\n",
            "218/218 [==============================] - 4s 18ms/step - loss: 0.0320 - accuracy: 0.9884 - val_loss: 0.9454 - val_accuracy: 0.8040\n",
            "Epoch 14/50\n",
            "218/218 [==============================] - 4s 18ms/step - loss: 0.0219 - accuracy: 0.9917 - val_loss: 1.0133 - val_accuracy: 0.8073\n",
            "Epoch 15/50\n",
            "218/218 [==============================] - 4s 18ms/step - loss: 0.0319 - accuracy: 0.9883 - val_loss: 0.9677 - val_accuracy: 0.8143\n",
            "Epoch 16/50\n",
            "218/218 [==============================] - 4s 17ms/step - loss: 0.0201 - accuracy: 0.9925 - val_loss: 0.9543 - val_accuracy: 0.8090\n",
            "Epoch 17/50\n",
            "218/218 [==============================] - 4s 17ms/step - loss: 0.0267 - accuracy: 0.9902 - val_loss: 1.0233 - val_accuracy: 0.8107\n",
            "Epoch 18/50\n",
            "218/218 [==============================] - 4s 18ms/step - loss: 0.0193 - accuracy: 0.9937 - val_loss: 1.0609 - val_accuracy: 0.8073\n",
            "Epoch 19/50\n",
            "218/218 [==============================] - 4s 17ms/step - loss: 0.0206 - accuracy: 0.9927 - val_loss: 1.1298 - val_accuracy: 0.8103\n",
            "Epoch 20/50\n",
            "218/218 [==============================] - 4s 17ms/step - loss: 0.0281 - accuracy: 0.9897 - val_loss: 1.2350 - val_accuracy: 0.7943\n",
            "Epoch 21/50\n",
            "218/218 [==============================] - 4s 18ms/step - loss: 0.0276 - accuracy: 0.9913 - val_loss: 1.2092 - val_accuracy: 0.7977\n",
            "Epoch 22/50\n",
            "218/218 [==============================] - 4s 17ms/step - loss: 0.0222 - accuracy: 0.9917 - val_loss: 1.1945 - val_accuracy: 0.7963\n",
            "Epoch 23/50\n",
            "218/218 [==============================] - 4s 17ms/step - loss: 0.0164 - accuracy: 0.9945 - val_loss: 1.1830 - val_accuracy: 0.8023\n",
            "Epoch 24/50\n",
            "218/218 [==============================] - 4s 18ms/step - loss: 0.0289 - accuracy: 0.9897 - val_loss: 1.1729 - val_accuracy: 0.8057\n",
            "Epoch 25/50\n",
            "218/218 [==============================] - 4s 17ms/step - loss: 0.0180 - accuracy: 0.9937 - val_loss: 1.1254 - val_accuracy: 0.8123\n",
            "Epoch 26/50\n",
            "218/218 [==============================] - 4s 17ms/step - loss: 0.0177 - accuracy: 0.9943 - val_loss: 1.0689 - val_accuracy: 0.8150\n",
            "Epoch 27/50\n",
            "218/218 [==============================] - 4s 18ms/step - loss: 0.0231 - accuracy: 0.9904 - val_loss: 1.1691 - val_accuracy: 0.8080\n",
            "Epoch 28/50\n",
            "218/218 [==============================] - 4s 17ms/step - loss: 0.0255 - accuracy: 0.9904 - val_loss: 1.1987 - val_accuracy: 0.7993\n",
            "Epoch 29/50\n",
            "218/218 [==============================] - 4s 17ms/step - loss: 0.0163 - accuracy: 0.9940 - val_loss: 1.1961 - val_accuracy: 0.8057\n",
            "Epoch 30/50\n",
            "218/218 [==============================] - 4s 17ms/step - loss: 0.0069 - accuracy: 0.9977 - val_loss: 1.3018 - val_accuracy: 0.8097\n",
            "Epoch 31/50\n",
            "218/218 [==============================] - 4s 18ms/step - loss: 0.0093 - accuracy: 0.9967 - val_loss: 1.2561 - val_accuracy: 0.8013\n",
            "Epoch 32/50\n",
            "218/218 [==============================] - 4s 17ms/step - loss: 0.0262 - accuracy: 0.9922 - val_loss: 1.3496 - val_accuracy: 0.7920\n",
            "Epoch 33/50\n",
            "218/218 [==============================] - 4s 17ms/step - loss: 0.0252 - accuracy: 0.9920 - val_loss: 1.2490 - val_accuracy: 0.7963\n",
            "Epoch 34/50\n",
            "218/218 [==============================] - 4s 18ms/step - loss: 0.0243 - accuracy: 0.9915 - val_loss: 1.2830 - val_accuracy: 0.8013\n",
            "Epoch 35/50\n",
            "218/218 [==============================] - 4s 17ms/step - loss: 0.0114 - accuracy: 0.9958 - val_loss: 1.3510 - val_accuracy: 0.7980\n",
            "Epoch 36/50\n",
            "218/218 [==============================] - 4s 17ms/step - loss: 0.0124 - accuracy: 0.9961 - val_loss: 1.3260 - val_accuracy: 0.8170\n",
            "Epoch 37/50\n",
            "218/218 [==============================] - 4s 18ms/step - loss: 0.0187 - accuracy: 0.9935 - val_loss: 1.4577 - val_accuracy: 0.7943\n",
            "Epoch 38/50\n",
            "218/218 [==============================] - 4s 17ms/step - loss: 0.0176 - accuracy: 0.9946 - val_loss: 1.3608 - val_accuracy: 0.7990\n",
            "Epoch 39/50\n",
            "218/218 [==============================] - 4s 18ms/step - loss: 0.0165 - accuracy: 0.9938 - val_loss: 1.4003 - val_accuracy: 0.8047\n",
            "Epoch 40/50\n",
            "218/218 [==============================] - 4s 18ms/step - loss: 0.0142 - accuracy: 0.9950 - val_loss: 1.3670 - val_accuracy: 0.8030\n",
            "Epoch 41/50\n",
            "218/218 [==============================] - 4s 17ms/step - loss: 0.0158 - accuracy: 0.9945 - val_loss: 1.4133 - val_accuracy: 0.7973\n",
            "Epoch 42/50\n",
            "218/218 [==============================] - 4s 17ms/step - loss: 0.0206 - accuracy: 0.9941 - val_loss: 1.3759 - val_accuracy: 0.8043\n",
            "Epoch 43/50\n",
            "218/218 [==============================] - 4s 18ms/step - loss: 0.0150 - accuracy: 0.9944 - val_loss: 1.3657 - val_accuracy: 0.7957\n",
            "Epoch 44/50\n",
            "218/218 [==============================] - 4s 17ms/step - loss: 0.0151 - accuracy: 0.9946 - val_loss: 1.3058 - val_accuracy: 0.8057\n",
            "Epoch 45/50\n",
            "218/218 [==============================] - 4s 17ms/step - loss: 0.0110 - accuracy: 0.9965 - val_loss: 1.3797 - val_accuracy: 0.8047\n",
            "Epoch 46/50\n",
            "218/218 [==============================] - 4s 17ms/step - loss: 0.0131 - accuracy: 0.9955 - val_loss: 1.3407 - val_accuracy: 0.8043\n",
            "Epoch 47/50\n",
            "218/218 [==============================] - 4s 18ms/step - loss: 0.0087 - accuracy: 0.9975 - val_loss: 1.3114 - val_accuracy: 0.8087\n",
            "Epoch 48/50\n",
            "218/218 [==============================] - 4s 17ms/step - loss: 0.0109 - accuracy: 0.9959 - val_loss: 1.5422 - val_accuracy: 0.7997\n",
            "Epoch 49/50\n",
            "218/218 [==============================] - 4s 17ms/step - loss: 0.0157 - accuracy: 0.9948 - val_loss: 1.4712 - val_accuracy: 0.7927\n",
            "Epoch 50/50\n",
            "218/218 [==============================] - 4s 18ms/step - loss: 0.0124 - accuracy: 0.9959 - val_loss: 1.5079 - val_accuracy: 0.7957\n"
          ]
        }
      ]
    },
    {
      "cell_type": "code",
      "source": [
        "x_test_vae = np.squeeze(x_test_vae, axis=2)\n",
        "rnn_lstm_score = rnn_lstm_model.evaluate(x_test_vae, y_test_vae, verbose=0)\n",
        "print('Test accuracy of the RNN-LSTM model:',rnn_lstm_score[1])"
      ],
      "metadata": {
        "colab": {
          "base_uri": "https://localhost:8080/"
        },
        "id": "NO7oK416xdd-",
        "outputId": "1bba8cc1-eaaf-4cce-8616-e11e008bd260"
      },
      "execution_count": null,
      "outputs": [
        {
          "output_type": "stream",
          "name": "stdout",
          "text": [
            "Test accuracy of the RNN-LSTM model: 0.7880925536155701\n"
          ]
        }
      ]
    },
    {
      "cell_type": "markdown",
      "source": [
        "## RNN-GRU"
      ],
      "metadata": {
        "id": "u4yBnl9gyHu6"
      }
    },
    {
      "cell_type": "code",
      "source": [
        "from keras.models import Sequential\n",
        "from keras.layers import Flatten, Dropout, GRU, Dense\n",
        "from keras.optimizers import Adam\n",
        "\n",
        "rnn_gru_model = Sequential()\n",
        "rnn_gru_model.add(GRU(64, input_shape=(250,22), return_sequences=True))\n",
        "rnn_gru_model.add(GRU(32, return_sequences=True))\n",
        "\n",
        "rnn_gru_model.add(Flatten())\n",
        "rnn_gru_model.add(Dropout(0.5))\n",
        "rnn_gru_model.add(Dense(4, activation='softmax'))\n",
        "rnn_gru_model.summary()"
      ],
      "metadata": {
        "id": "m2_W18SAyTYr",
        "colab": {
          "base_uri": "https://localhost:8080/"
        },
        "outputId": "e224f9db-3a94-43ba-c2fc-fda3c4b21f7c"
      },
      "execution_count": null,
      "outputs": [
        {
          "output_type": "stream",
          "name": "stdout",
          "text": [
            "Model: \"sequential_10\"\n",
            "_________________________________________________________________\n",
            " Layer (type)                Output Shape              Param #   \n",
            "=================================================================\n",
            " gru_6 (GRU)                 (None, 250, 64)           16896     \n",
            "                                                                 \n",
            " gru_7 (GRU)                 (None, 250, 32)           9408      \n",
            "                                                                 \n",
            " flatten_9 (Flatten)         (None, 8000)              0         \n",
            "                                                                 \n",
            " dropout_32 (Dropout)        (None, 8000)              0         \n",
            "                                                                 \n",
            " dense_18 (Dense)            (None, 4)                 32004     \n",
            "                                                                 \n",
            "=================================================================\n",
            "Total params: 58,308\n",
            "Trainable params: 58,308\n",
            "Non-trainable params: 0\n",
            "_________________________________________________________________\n"
          ]
        }
      ]
    },
    {
      "cell_type": "code",
      "source": [
        "# Model parameters\n",
        "learning_rate = 1e-3\n",
        "epochs = 50\n",
        "rnn_optimizer = keras.optimizers.Adam(lr=learning_rate)"
      ],
      "metadata": {
        "colab": {
          "base_uri": "https://localhost:8080/"
        },
        "id": "yCeEmHezyid1",
        "outputId": "b3e429dd-8b00-4846-a446-fa4c46bd14e1"
      },
      "execution_count": null,
      "outputs": [
        {
          "output_type": "stream",
          "name": "stderr",
          "text": [
            "/usr/local/lib/python3.9/dist-packages/keras/optimizers/optimizer_v2/adam.py:117: UserWarning: The `lr` argument is deprecated, use `learning_rate` instead.\n",
            "  super().__init__(name, **kwargs)\n"
          ]
        }
      ]
    },
    {
      "cell_type": "code",
      "source": [
        "# Compiling the model\n",
        "rnn_gru_model.compile(loss='categorical_crossentropy',\n",
        "                 optimizer=rnn_optimizer,\n",
        "                 metrics=['accuracy'])\n",
        "\n",
        "\n",
        "# Training and validating the model\n",
        "rnn_gru_model_results = rnn_gru_model.fit(x_train_rnn,\n",
        "             y_train_vae,\n",
        "             batch_size=64,\n",
        "             epochs=epochs,\n",
        "             validation_data=(x_valid_rnn, y_valid_vae), verbose=True)"
      ],
      "metadata": {
        "colab": {
          "base_uri": "https://localhost:8080/"
        },
        "id": "q8vKfySfyZHu",
        "outputId": "e7dfda83-9ccc-45e5-d5f8-07bfe79be441"
      },
      "execution_count": null,
      "outputs": [
        {
          "output_type": "stream",
          "name": "stdout",
          "text": [
            "Epoch 1/50\n",
            "218/218 [==============================] - 8s 22ms/step - loss: 0.5638 - accuracy: 0.7873 - val_loss: 0.6060 - val_accuracy: 0.7663\n",
            "Epoch 2/50\n",
            "218/218 [==============================] - 4s 17ms/step - loss: 0.2642 - accuracy: 0.9017 - val_loss: 0.6127 - val_accuracy: 0.7880\n",
            "Epoch 3/50\n",
            "218/218 [==============================] - 4s 17ms/step - loss: 0.1697 - accuracy: 0.9386 - val_loss: 0.6799 - val_accuracy: 0.7830\n",
            "Epoch 4/50\n",
            "218/218 [==============================] - 4s 17ms/step - loss: 0.1230 - accuracy: 0.9557 - val_loss: 0.7186 - val_accuracy: 0.7813\n",
            "Epoch 5/50\n",
            "218/218 [==============================] - 4s 17ms/step - loss: 0.0839 - accuracy: 0.9689 - val_loss: 0.7864 - val_accuracy: 0.7833\n",
            "Epoch 6/50\n",
            "218/218 [==============================] - 4s 17ms/step - loss: 0.0730 - accuracy: 0.9742 - val_loss: 0.8324 - val_accuracy: 0.7867\n",
            "Epoch 7/50\n",
            "218/218 [==============================] - 4s 17ms/step - loss: 0.0525 - accuracy: 0.9817 - val_loss: 0.9139 - val_accuracy: 0.7900\n",
            "Epoch 8/50\n",
            "218/218 [==============================] - 4s 17ms/step - loss: 0.0481 - accuracy: 0.9823 - val_loss: 0.8949 - val_accuracy: 0.7920\n",
            "Epoch 9/50\n",
            "218/218 [==============================] - 4s 17ms/step - loss: 0.0455 - accuracy: 0.9842 - val_loss: 0.9390 - val_accuracy: 0.7970\n",
            "Epoch 10/50\n",
            "218/218 [==============================] - 4s 17ms/step - loss: 0.0420 - accuracy: 0.9843 - val_loss: 0.9698 - val_accuracy: 0.7993\n",
            "Epoch 11/50\n",
            "218/218 [==============================] - 4s 17ms/step - loss: 0.0385 - accuracy: 0.9864 - val_loss: 1.0705 - val_accuracy: 0.7840\n",
            "Epoch 12/50\n",
            "218/218 [==============================] - 4s 18ms/step - loss: 0.0402 - accuracy: 0.9853 - val_loss: 1.1076 - val_accuracy: 0.7897\n",
            "Epoch 13/50\n",
            "218/218 [==============================] - 4s 17ms/step - loss: 0.0435 - accuracy: 0.9849 - val_loss: 1.1846 - val_accuracy: 0.7923\n",
            "Epoch 14/50\n",
            "218/218 [==============================] - 4s 17ms/step - loss: 0.0442 - accuracy: 0.9839 - val_loss: 1.0869 - val_accuracy: 0.7970\n",
            "Epoch 15/50\n",
            "218/218 [==============================] - 4s 17ms/step - loss: 0.0397 - accuracy: 0.9849 - val_loss: 1.1591 - val_accuracy: 0.7920\n",
            "Epoch 16/50\n",
            "218/218 [==============================] - 4s 17ms/step - loss: 0.0408 - accuracy: 0.9853 - val_loss: 1.2068 - val_accuracy: 0.7920\n",
            "Epoch 17/50\n",
            "218/218 [==============================] - 4s 17ms/step - loss: 0.0393 - accuracy: 0.9861 - val_loss: 1.3026 - val_accuracy: 0.7923\n",
            "Epoch 18/50\n",
            "218/218 [==============================] - 4s 17ms/step - loss: 0.0397 - accuracy: 0.9866 - val_loss: 1.2352 - val_accuracy: 0.8023\n",
            "Epoch 19/50\n",
            "218/218 [==============================] - 4s 17ms/step - loss: 0.0489 - accuracy: 0.9846 - val_loss: 1.2524 - val_accuracy: 0.7983\n",
            "Epoch 20/50\n",
            "218/218 [==============================] - 4s 17ms/step - loss: 0.0343 - accuracy: 0.9880 - val_loss: 1.3821 - val_accuracy: 0.8003\n",
            "Epoch 21/50\n",
            "218/218 [==============================] - 4s 17ms/step - loss: 0.0357 - accuracy: 0.9871 - val_loss: 1.3992 - val_accuracy: 0.7947\n",
            "Epoch 22/50\n",
            "218/218 [==============================] - 4s 17ms/step - loss: 0.0379 - accuracy: 0.9884 - val_loss: 1.3797 - val_accuracy: 0.7980\n",
            "Epoch 23/50\n",
            "218/218 [==============================] - 4s 17ms/step - loss: 0.0364 - accuracy: 0.9882 - val_loss: 1.2808 - val_accuracy: 0.8017\n",
            "Epoch 24/50\n",
            "218/218 [==============================] - 4s 17ms/step - loss: 0.0468 - accuracy: 0.9858 - val_loss: 1.4998 - val_accuracy: 0.7903\n",
            "Epoch 25/50\n",
            "218/218 [==============================] - 4s 17ms/step - loss: 0.0408 - accuracy: 0.9861 - val_loss: 1.4695 - val_accuracy: 0.8027\n",
            "Epoch 26/50\n",
            "218/218 [==============================] - 4s 17ms/step - loss: 0.0378 - accuracy: 0.9874 - val_loss: 1.4087 - val_accuracy: 0.7993\n",
            "Epoch 27/50\n",
            "218/218 [==============================] - 4s 17ms/step - loss: 0.0286 - accuracy: 0.9907 - val_loss: 1.4367 - val_accuracy: 0.8010\n",
            "Epoch 28/50\n",
            "218/218 [==============================] - 4s 17ms/step - loss: 0.0321 - accuracy: 0.9903 - val_loss: 1.5454 - val_accuracy: 0.7963\n",
            "Epoch 29/50\n",
            "218/218 [==============================] - 4s 17ms/step - loss: 0.0306 - accuracy: 0.9894 - val_loss: 1.5201 - val_accuracy: 0.8047\n",
            "Epoch 30/50\n",
            "218/218 [==============================] - 4s 17ms/step - loss: 0.0379 - accuracy: 0.9892 - val_loss: 1.5607 - val_accuracy: 0.8090\n",
            "Epoch 31/50\n",
            "218/218 [==============================] - 4s 17ms/step - loss: 0.0269 - accuracy: 0.9907 - val_loss: 1.6400 - val_accuracy: 0.7913\n",
            "Epoch 32/50\n",
            "218/218 [==============================] - 4s 17ms/step - loss: 0.0350 - accuracy: 0.9904 - val_loss: 1.5703 - val_accuracy: 0.8000\n",
            "Epoch 33/50\n",
            "218/218 [==============================] - 4s 17ms/step - loss: 0.0380 - accuracy: 0.9887 - val_loss: 1.6255 - val_accuracy: 0.8070\n",
            "Epoch 34/50\n",
            "218/218 [==============================] - 4s 17ms/step - loss: 0.0394 - accuracy: 0.9899 - val_loss: 1.6749 - val_accuracy: 0.7977\n",
            "Epoch 35/50\n",
            "218/218 [==============================] - 4s 17ms/step - loss: 0.0337 - accuracy: 0.9907 - val_loss: 1.6142 - val_accuracy: 0.8017\n",
            "Epoch 36/50\n",
            "218/218 [==============================] - 4s 17ms/step - loss: 0.0362 - accuracy: 0.9890 - val_loss: 1.5435 - val_accuracy: 0.8067\n",
            "Epoch 37/50\n",
            "218/218 [==============================] - 4s 17ms/step - loss: 0.0320 - accuracy: 0.9907 - val_loss: 1.7839 - val_accuracy: 0.7997\n",
            "Epoch 38/50\n",
            "218/218 [==============================] - 4s 17ms/step - loss: 0.0284 - accuracy: 0.9911 - val_loss: 1.8665 - val_accuracy: 0.8020\n",
            "Epoch 39/50\n",
            "218/218 [==============================] - 4s 17ms/step - loss: 0.0309 - accuracy: 0.9908 - val_loss: 1.8820 - val_accuracy: 0.7947\n",
            "Epoch 40/50\n",
            "218/218 [==============================] - 4s 17ms/step - loss: 0.0268 - accuracy: 0.9924 - val_loss: 1.8535 - val_accuracy: 0.7897\n",
            "Epoch 41/50\n",
            "218/218 [==============================] - 4s 17ms/step - loss: 0.0315 - accuracy: 0.9915 - val_loss: 1.9044 - val_accuracy: 0.7903\n",
            "Epoch 42/50\n",
            "218/218 [==============================] - 4s 17ms/step - loss: 0.0357 - accuracy: 0.9906 - val_loss: 1.7432 - val_accuracy: 0.8017\n",
            "Epoch 43/50\n",
            "218/218 [==============================] - 4s 17ms/step - loss: 0.0397 - accuracy: 0.9884 - val_loss: 1.8615 - val_accuracy: 0.7983\n",
            "Epoch 44/50\n",
            "218/218 [==============================] - 4s 17ms/step - loss: 0.0321 - accuracy: 0.9921 - val_loss: 1.8164 - val_accuracy: 0.8067\n",
            "Epoch 45/50\n",
            "218/218 [==============================] - 4s 17ms/step - loss: 0.0429 - accuracy: 0.9893 - val_loss: 1.9449 - val_accuracy: 0.7933\n",
            "Epoch 46/50\n",
            "218/218 [==============================] - 4s 17ms/step - loss: 0.0319 - accuracy: 0.9921 - val_loss: 1.8988 - val_accuracy: 0.8007\n",
            "Epoch 47/50\n",
            "218/218 [==============================] - 4s 17ms/step - loss: 0.0311 - accuracy: 0.9920 - val_loss: 1.9379 - val_accuracy: 0.7900\n",
            "Epoch 48/50\n",
            "218/218 [==============================] - 4s 17ms/step - loss: 0.0292 - accuracy: 0.9921 - val_loss: 2.1061 - val_accuracy: 0.7880\n",
            "Epoch 49/50\n",
            "218/218 [==============================] - 4s 17ms/step - loss: 0.0244 - accuracy: 0.9937 - val_loss: 1.9940 - val_accuracy: 0.7943\n",
            "Epoch 50/50\n",
            "218/218 [==============================] - 4s 17ms/step - loss: 0.0303 - accuracy: 0.9927 - val_loss: 1.9522 - val_accuracy: 0.8170\n"
          ]
        }
      ]
    },
    {
      "cell_type": "code",
      "source": [
        "rnn_gru_score = rnn_gru_model.evaluate(x_test_vae, y_test_vae, verbose=0)\n",
        "print('Test accuracy of the RNN-GRU model:',rnn_gru_score[1])"
      ],
      "metadata": {
        "colab": {
          "base_uri": "https://localhost:8080/"
        },
        "id": "sd2CpxaqykSh",
        "outputId": "d478ddaf-55db-4026-d1f9-def232c134f1"
      },
      "execution_count": null,
      "outputs": [
        {
          "output_type": "stream",
          "name": "stdout",
          "text": [
            "Test accuracy of the RNN-GRU model: 0.7993792295455933\n"
          ]
        }
      ]
    },
    {
      "cell_type": "markdown",
      "source": [
        "# 4 Tuning Hyperparameters for Basic CNN"
      ],
      "metadata": {
        "id": "gtuKKUgBmroy"
      }
    },
    {
      "cell_type": "markdown",
      "source": [
        "## droupout tuning"
      ],
      "metadata": {
        "id": "tsEYD_WfoMEL"
      }
    },
    {
      "cell_type": "code",
      "source": [
        "# Building the CNN model using sequential class\n",
        "# Dropout = 0.6\n",
        "basic_cnn_model = Sequential()\n",
        "\n",
        "# Conv. block 1\n",
        "basic_cnn_model.add(Conv2D(filters=25, kernel_size=(10,1), padding='same', activation='elu', input_shape=(250,1,22)))\n",
        "basic_cnn_model.add(MaxPooling2D(pool_size=(3,1), padding='same')) # Read the keras documentation\n",
        "basic_cnn_model.add(BatchNormalization())\n",
        "basic_cnn_model.add(Dropout(0.6))\n",
        "\n",
        "# Conv. block 2\n",
        "basic_cnn_model.add(Conv2D(filters=50, kernel_size=(10,1), padding='same', activation='elu'))\n",
        "basic_cnn_model.add(MaxPooling2D(pool_size=(3,1), padding='same'))\n",
        "basic_cnn_model.add(BatchNormalization())\n",
        "basic_cnn_model.add(Dropout(0.6))\n",
        "\n",
        "# Conv. block 3\n",
        "basic_cnn_model.add(Conv2D(filters=100, kernel_size=(10,1), padding='same', activation='elu'))\n",
        "basic_cnn_model.add(MaxPooling2D(pool_size=(3,1), padding='same'))\n",
        "basic_cnn_model.add(BatchNormalization())\n",
        "basic_cnn_model.add(Dropout(0.6))\n",
        "\n",
        "# Conv. block 4\n",
        "basic_cnn_model.add(Conv2D(filters=200, kernel_size=(10,1), padding='same', activation='elu'))\n",
        "basic_cnn_model.add(MaxPooling2D(pool_size=(3,1), padding='same'))\n",
        "basic_cnn_model.add(BatchNormalization())\n",
        "basic_cnn_model.add(Dropout(0.6))\n",
        "\n",
        "# Output layer with Softmax activation\n",
        "basic_cnn_model.add(Flatten()) # Flattens the input\n",
        "basic_cnn_model.add(Dense(4, activation='softmax')) # Output FC layer with softmax activation\n",
        "\n",
        "basic_cnn_model_d6 = basic_cnn_model\n",
        "# Printing the model summary\n",
        "basic_cnn_model_d6.summary()"
      ],
      "metadata": {
        "colab": {
          "base_uri": "https://localhost:8080/"
        },
        "id": "QsjQwnvonQMB",
        "outputId": "a6523d5a-9894-47b6-dca2-b618bb8fe596"
      },
      "execution_count": null,
      "outputs": [
        {
          "output_type": "stream",
          "name": "stdout",
          "text": [
            "Model: \"sequential_2\"\n",
            "_________________________________________________________________\n",
            " Layer (type)                Output Shape              Param #   \n",
            "=================================================================\n",
            " conv2d_4 (Conv2D)           (None, 250, 1, 25)        5525      \n",
            "                                                                 \n",
            " max_pooling2d_4 (MaxPooling  (None, 84, 1, 25)        0         \n",
            " 2D)                                                             \n",
            "                                                                 \n",
            " batch_normalization_4 (Batc  (None, 84, 1, 25)        100       \n",
            " hNormalization)                                                 \n",
            "                                                                 \n",
            " dropout_5 (Dropout)         (None, 84, 1, 25)         0         \n",
            "                                                                 \n",
            " conv2d_5 (Conv2D)           (None, 84, 1, 50)         12550     \n",
            "                                                                 \n",
            " max_pooling2d_5 (MaxPooling  (None, 28, 1, 50)        0         \n",
            " 2D)                                                             \n",
            "                                                                 \n",
            " batch_normalization_5 (Batc  (None, 28, 1, 50)        200       \n",
            " hNormalization)                                                 \n",
            "                                                                 \n",
            " dropout_6 (Dropout)         (None, 28, 1, 50)         0         \n",
            "                                                                 \n",
            " conv2d_6 (Conv2D)           (None, 28, 1, 100)        50100     \n",
            "                                                                 \n",
            " max_pooling2d_6 (MaxPooling  (None, 10, 1, 100)       0         \n",
            " 2D)                                                             \n",
            "                                                                 \n",
            " batch_normalization_6 (Batc  (None, 10, 1, 100)       400       \n",
            " hNormalization)                                                 \n",
            "                                                                 \n",
            " dropout_7 (Dropout)         (None, 10, 1, 100)        0         \n",
            "                                                                 \n",
            " conv2d_7 (Conv2D)           (None, 10, 1, 200)        200200    \n",
            "                                                                 \n",
            " max_pooling2d_7 (MaxPooling  (None, 4, 1, 200)        0         \n",
            " 2D)                                                             \n",
            "                                                                 \n",
            " batch_normalization_7 (Batc  (None, 4, 1, 200)        800       \n",
            " hNormalization)                                                 \n",
            "                                                                 \n",
            " dropout_8 (Dropout)         (None, 4, 1, 200)         0         \n",
            "                                                                 \n",
            " flatten_2 (Flatten)         (None, 800)               0         \n",
            "                                                                 \n",
            " dense_2 (Dense)             (None, 4)                 3204      \n",
            "                                                                 \n",
            "=================================================================\n",
            "Total params: 273,079\n",
            "Trainable params: 272,329\n",
            "Non-trainable params: 750\n",
            "_________________________________________________________________\n"
          ]
        }
      ]
    },
    {
      "cell_type": "code",
      "source": [
        "# Model parameters\n",
        "learning_rate = 1e-3\n",
        "epochs = 50\n",
        "cnn_optimizer = keras.optimizers.Adam(lr=learning_rate)"
      ],
      "metadata": {
        "colab": {
          "base_uri": "https://localhost:8080/"
        },
        "id": "uedrhWmXnUJS",
        "outputId": "ce703938-cdd6-4cb8-baf1-90fcb6142c4b"
      },
      "execution_count": null,
      "outputs": [
        {
          "output_type": "stream",
          "name": "stderr",
          "text": [
            "/usr/local/lib/python3.9/dist-packages/keras/optimizers/optimizer_v2/adam.py:117: UserWarning: The `lr` argument is deprecated, use `learning_rate` instead.\n",
            "  super().__init__(name, **kwargs)\n"
          ]
        }
      ]
    },
    {
      "cell_type": "code",
      "source": [
        "# Compiling the model\n",
        "basic_cnn_model_d6.compile(loss='categorical_crossentropy',\n",
        "                 optimizer=cnn_optimizer,\n",
        "                 metrics=['accuracy'])\n",
        "\n",
        "# Training and validating the model\n",
        "basic_cnn_model_d6_results = basic_cnn_model_d6.fit(x_train_vae,\n",
        "             y_train_vae,\n",
        "             batch_size=64,\n",
        "             epochs=epochs,\n",
        "             validation_data=(x_valid_vae, y_valid_vae), verbose=True)"
      ],
      "metadata": {
        "colab": {
          "base_uri": "https://localhost:8080/"
        },
        "id": "EZOOPelNnacm",
        "outputId": "36367de2-e101-46ec-9283-72b3fffe5e25"
      },
      "execution_count": null,
      "outputs": [
        {
          "output_type": "stream",
          "name": "stdout",
          "text": [
            "Epoch 1/50\n",
            "218/218 [==============================] - 7s 8ms/step - loss: 1.1802 - accuracy: 0.6381 - val_loss: 0.7131 - val_accuracy: 0.6913\n",
            "Epoch 2/50\n",
            "218/218 [==============================] - 1s 6ms/step - loss: 0.8524 - accuracy: 0.6593 - val_loss: 0.6577 - val_accuracy: 0.6947\n",
            "Epoch 3/50\n",
            "218/218 [==============================] - 1s 6ms/step - loss: 0.7343 - accuracy: 0.6798 - val_loss: 0.6088 - val_accuracy: 0.7260\n",
            "Epoch 4/50\n",
            "218/218 [==============================] - 1s 6ms/step - loss: 0.6743 - accuracy: 0.7047 - val_loss: 0.5914 - val_accuracy: 0.7303\n",
            "Epoch 5/50\n",
            "218/218 [==============================] - 1s 6ms/step - loss: 0.6391 - accuracy: 0.7219 - val_loss: 0.5856 - val_accuracy: 0.7380\n",
            "Epoch 6/50\n",
            "218/218 [==============================] - 1s 6ms/step - loss: 0.6173 - accuracy: 0.7333 - val_loss: 0.5854 - val_accuracy: 0.7530\n",
            "Epoch 7/50\n",
            "218/218 [==============================] - 1s 7ms/step - loss: 0.5975 - accuracy: 0.7450 - val_loss: 0.5640 - val_accuracy: 0.7480\n",
            "Epoch 8/50\n",
            "218/218 [==============================] - 1s 6ms/step - loss: 0.5805 - accuracy: 0.7543 - val_loss: 0.5486 - val_accuracy: 0.7660\n",
            "Epoch 9/50\n",
            "218/218 [==============================] - 1s 6ms/step - loss: 0.5539 - accuracy: 0.7641 - val_loss: 0.5608 - val_accuracy: 0.7543\n",
            "Epoch 10/50\n",
            "218/218 [==============================] - 1s 6ms/step - loss: 0.5413 - accuracy: 0.7701 - val_loss: 0.5447 - val_accuracy: 0.7577\n",
            "Epoch 11/50\n",
            "218/218 [==============================] - 1s 6ms/step - loss: 0.5232 - accuracy: 0.7849 - val_loss: 0.5298 - val_accuracy: 0.7780\n",
            "Epoch 12/50\n",
            "218/218 [==============================] - 1s 6ms/step - loss: 0.5130 - accuracy: 0.7874 - val_loss: 0.4949 - val_accuracy: 0.7863\n",
            "Epoch 13/50\n",
            "218/218 [==============================] - 1s 6ms/step - loss: 0.4946 - accuracy: 0.8003 - val_loss: 0.4564 - val_accuracy: 0.8083\n",
            "Epoch 14/50\n",
            "218/218 [==============================] - 1s 6ms/step - loss: 0.4796 - accuracy: 0.8083 - val_loss: 0.4772 - val_accuracy: 0.7987\n",
            "Epoch 15/50\n",
            "218/218 [==============================] - 1s 6ms/step - loss: 0.4560 - accuracy: 0.8157 - val_loss: 0.4746 - val_accuracy: 0.8067\n",
            "Epoch 16/50\n",
            "218/218 [==============================] - 1s 6ms/step - loss: 0.4544 - accuracy: 0.8170 - val_loss: 0.4283 - val_accuracy: 0.8283\n",
            "Epoch 17/50\n",
            "218/218 [==============================] - 1s 6ms/step - loss: 0.4459 - accuracy: 0.8226 - val_loss: 0.4466 - val_accuracy: 0.8163\n",
            "Epoch 18/50\n",
            "218/218 [==============================] - 1s 6ms/step - loss: 0.4383 - accuracy: 0.8250 - val_loss: 0.4448 - val_accuracy: 0.8177\n",
            "Epoch 19/50\n",
            "218/218 [==============================] - 1s 6ms/step - loss: 0.4239 - accuracy: 0.8297 - val_loss: 0.4623 - val_accuracy: 0.8143\n",
            "Epoch 20/50\n",
            "218/218 [==============================] - 1s 6ms/step - loss: 0.4183 - accuracy: 0.8329 - val_loss: 0.4322 - val_accuracy: 0.8237\n",
            "Epoch 21/50\n",
            "218/218 [==============================] - 1s 6ms/step - loss: 0.4088 - accuracy: 0.8373 - val_loss: 0.4253 - val_accuracy: 0.8297\n",
            "Epoch 22/50\n",
            "218/218 [==============================] - 1s 6ms/step - loss: 0.3994 - accuracy: 0.8435 - val_loss: 0.4388 - val_accuracy: 0.8207\n",
            "Epoch 23/50\n",
            "218/218 [==============================] - 1s 6ms/step - loss: 0.3934 - accuracy: 0.8453 - val_loss: 0.4191 - val_accuracy: 0.8347\n",
            "Epoch 24/50\n",
            "218/218 [==============================] - 1s 6ms/step - loss: 0.3835 - accuracy: 0.8473 - val_loss: 0.4240 - val_accuracy: 0.8353\n",
            "Epoch 25/50\n",
            "218/218 [==============================] - 1s 6ms/step - loss: 0.3760 - accuracy: 0.8536 - val_loss: 0.4063 - val_accuracy: 0.8313\n",
            "Epoch 26/50\n",
            "218/218 [==============================] - 1s 6ms/step - loss: 0.3764 - accuracy: 0.8514 - val_loss: 0.4022 - val_accuracy: 0.8407\n",
            "Epoch 27/50\n",
            "218/218 [==============================] - 1s 6ms/step - loss: 0.3795 - accuracy: 0.8477 - val_loss: 0.4264 - val_accuracy: 0.8270\n",
            "Epoch 28/50\n",
            "218/218 [==============================] - 1s 6ms/step - loss: 0.3676 - accuracy: 0.8573 - val_loss: 0.4655 - val_accuracy: 0.8120\n",
            "Epoch 29/50\n",
            "218/218 [==============================] - 1s 6ms/step - loss: 0.3628 - accuracy: 0.8566 - val_loss: 0.3854 - val_accuracy: 0.8463\n",
            "Epoch 30/50\n",
            "218/218 [==============================] - 1s 6ms/step - loss: 0.3554 - accuracy: 0.8565 - val_loss: 0.3842 - val_accuracy: 0.8507\n",
            "Epoch 31/50\n",
            "218/218 [==============================] - 1s 6ms/step - loss: 0.3464 - accuracy: 0.8647 - val_loss: 0.4153 - val_accuracy: 0.8393\n",
            "Epoch 32/50\n",
            "218/218 [==============================] - 1s 6ms/step - loss: 0.3481 - accuracy: 0.8628 - val_loss: 0.3961 - val_accuracy: 0.8457\n",
            "Epoch 33/50\n",
            "218/218 [==============================] - 1s 6ms/step - loss: 0.3486 - accuracy: 0.8640 - val_loss: 0.3818 - val_accuracy: 0.8467\n",
            "Epoch 34/50\n",
            "218/218 [==============================] - 1s 6ms/step - loss: 0.3377 - accuracy: 0.8660 - val_loss: 0.3896 - val_accuracy: 0.8450\n",
            "Epoch 35/50\n",
            "218/218 [==============================] - 1s 6ms/step - loss: 0.3375 - accuracy: 0.8662 - val_loss: 0.3886 - val_accuracy: 0.8440\n",
            "Epoch 36/50\n",
            "218/218 [==============================] - 1s 6ms/step - loss: 0.3198 - accuracy: 0.8744 - val_loss: 0.3841 - val_accuracy: 0.8507\n",
            "Epoch 37/50\n",
            "218/218 [==============================] - 1s 6ms/step - loss: 0.3228 - accuracy: 0.8724 - val_loss: 0.3799 - val_accuracy: 0.8503\n",
            "Epoch 38/50\n",
            "218/218 [==============================] - 1s 6ms/step - loss: 0.3240 - accuracy: 0.8778 - val_loss: 0.3617 - val_accuracy: 0.8537\n",
            "Epoch 39/50\n",
            "218/218 [==============================] - 1s 6ms/step - loss: 0.3171 - accuracy: 0.8740 - val_loss: 0.3950 - val_accuracy: 0.8520\n",
            "Epoch 40/50\n",
            "218/218 [==============================] - 1s 6ms/step - loss: 0.3133 - accuracy: 0.8791 - val_loss: 0.4069 - val_accuracy: 0.8473\n",
            "Epoch 41/50\n",
            "218/218 [==============================] - 1s 6ms/step - loss: 0.3148 - accuracy: 0.8782 - val_loss: 0.3868 - val_accuracy: 0.8480\n",
            "Epoch 42/50\n",
            "218/218 [==============================] - 1s 6ms/step - loss: 0.3118 - accuracy: 0.8782 - val_loss: 0.3941 - val_accuracy: 0.8463\n",
            "Epoch 43/50\n",
            "218/218 [==============================] - 1s 6ms/step - loss: 0.3082 - accuracy: 0.8830 - val_loss: 0.3854 - val_accuracy: 0.8507\n",
            "Epoch 44/50\n",
            "218/218 [==============================] - 1s 6ms/step - loss: 0.3006 - accuracy: 0.8849 - val_loss: 0.3871 - val_accuracy: 0.8527\n",
            "Epoch 45/50\n",
            "218/218 [==============================] - 1s 6ms/step - loss: 0.2982 - accuracy: 0.8848 - val_loss: 0.3835 - val_accuracy: 0.8637\n",
            "Epoch 46/50\n",
            "218/218 [==============================] - 1s 6ms/step - loss: 0.2999 - accuracy: 0.8820 - val_loss: 0.3918 - val_accuracy: 0.8587\n",
            "Epoch 47/50\n",
            "218/218 [==============================] - 1s 6ms/step - loss: 0.2904 - accuracy: 0.8864 - val_loss: 0.3819 - val_accuracy: 0.8670\n",
            "Epoch 48/50\n",
            "218/218 [==============================] - 1s 6ms/step - loss: 0.2949 - accuracy: 0.8869 - val_loss: 0.3590 - val_accuracy: 0.8600\n",
            "Epoch 49/50\n",
            "218/218 [==============================] - 1s 6ms/step - loss: 0.3020 - accuracy: 0.8832 - val_loss: 0.3682 - val_accuracy: 0.8620\n",
            "Epoch 50/50\n",
            "218/218 [==============================] - 1s 6ms/step - loss: 0.2939 - accuracy: 0.8834 - val_loss: 0.3750 - val_accuracy: 0.8637\n"
          ]
        }
      ]
    },
    {
      "cell_type": "code",
      "source": [
        "## Testing the basic CNN model\n",
        "\n",
        "cnn_score_d6 = basic_cnn_model_d6.evaluate(x_test_vae, y_test_vae, verbose=0)\n",
        "print('Test accuracy of the basic CNN model:',cnn_score_d6[1])"
      ],
      "metadata": {
        "colab": {
          "base_uri": "https://localhost:8080/"
        },
        "id": "-jwE2bHVndgx",
        "outputId": "a734d8ee-8ea6-4534-c6dd-ab7ac6731fba"
      },
      "execution_count": null,
      "outputs": [
        {
          "output_type": "stream",
          "name": "stdout",
          "text": [
            "Test accuracy of the basic CNN model: 0.8425508141517639\n"
          ]
        }
      ]
    },
    {
      "cell_type": "markdown",
      "source": [
        "## Tune learning rate, batch size, epochs size"
      ],
      "metadata": {
        "id": "QBuRP995omQq"
      }
    },
    {
      "cell_type": "code",
      "source": [
        "# Building the CNN model using sequential class\n",
        "def cnn_func(dropout):\n",
        "  dp = dropout # set dropout value for tuning \n",
        "  basic_cnn_model = Sequential()\n",
        "\n",
        "  # Conv. block 1\n",
        "  basic_cnn_model.add(Conv2D(filters=25, kernel_size=(10,1), padding='same', activation='elu', input_shape=(250,1,22)))\n",
        "  basic_cnn_model.add(MaxPooling2D(pool_size=(3,1), padding='same')) # Read the keras documentation\n",
        "  basic_cnn_model.add(BatchNormalization())\n",
        "  basic_cnn_model.add(Dropout(dp))\n",
        "\n",
        "  # Conv. block 2\n",
        "  basic_cnn_model.add(Conv2D(filters=50, kernel_size=(10,1), padding='same', activation='elu'))\n",
        "  basic_cnn_model.add(MaxPooling2D(pool_size=(3,1), padding='same'))\n",
        "  basic_cnn_model.add(BatchNormalization())\n",
        "  basic_cnn_model.add(Dropout(dp))\n",
        "\n",
        "  # Conv. block 3\n",
        "  basic_cnn_model.add(Conv2D(filters=100, kernel_size=(10,1), padding='same', activation='elu'))\n",
        "  basic_cnn_model.add(MaxPooling2D(pool_size=(3,1), padding='same'))\n",
        "  basic_cnn_model.add(BatchNormalization())\n",
        "  basic_cnn_model.add(Dropout(dp))\n",
        "\n",
        "  # Conv. block 4\n",
        "  basic_cnn_model.add(Conv2D(filters=200, kernel_size=(10,1), padding='same', activation='elu'))\n",
        "  basic_cnn_model.add(MaxPooling2D(pool_size=(3,1), padding='same'))\n",
        "  basic_cnn_model.add(BatchNormalization())\n",
        "  basic_cnn_model.add(Dropout(dp))\n",
        "\n",
        "  # Output layer with Softmax activation\n",
        "  basic_cnn_model.add(Flatten()) # Flattens the input\n",
        "  basic_cnn_model.add(Dense(4, activation='softmax')) # Output FC layer with softmax activation\n",
        "\n",
        "  return basic_cnn_model\n",
        "\n",
        "\n",
        "# Printing the model summary\n",
        "# basic_cnn_model.summary()"
      ],
      "metadata": {
        "id": "VP746btxqssi"
      },
      "execution_count": null,
      "outputs": []
    },
    {
      "cell_type": "code",
      "source": [
        "# Model parameters\n",
        "# Tune \n",
        "learning_rates = [1e-2, 1e-3, 1e-4]\n",
        "epochs = [25,50,75]\n",
        "batch_sizes = [32, 64, 128]\n",
        "dropout_values = [0.5, 0.6]\n",
        "results = {}"
      ],
      "metadata": {
        "id": "jHAO4zo8o1nV"
      },
      "execution_count": null,
      "outputs": []
    },
    {
      "cell_type": "code",
      "source": [
        "for lr in learning_rates:\n",
        "  for epoch in epochs:\n",
        "    for bs in batch_sizes:\n",
        "      for drop in dropout_values:\n",
        "        # Initiate CNN model \n",
        "        basic_cnn_model = cnn_func(drop)\n",
        "        # Setting model parameters \n",
        "        cnn_optimizer = keras.optimizers.Adam(learning_rate = lr)\n",
        "        basic_cnn_model.compile(loss='categorical_crossentropy',\n",
        "                        optimizer=cnn_optimizer,\n",
        "                        metrics=['accuracy'])\n",
        "\n",
        "        # Training and validating the model\n",
        "        basic_cnn_model.fit(x_train_vae,\n",
        "                    y_train_vae,\n",
        "                    batch_size=bs,\n",
        "                    epochs=epoch,\n",
        "                    validation_data=(x_valid_vae, y_valid_vae), verbose=False)\n",
        "        # Testing model\n",
        "        cnn_score = basic_cnn_model.evaluate(x_test_vae, y_test_vae, verbose=0)\n",
        "        results[(lr, epoch, bs, drop)] = cnn_score[1]\n",
        "\n",
        "        print(\"lr: \", str(lr), \", epoch: \", str(epoch), \", bs: \", str(bs), \", drop: \",str(drop),  \" score is \" ,str(cnn_score[1])) "
      ],
      "metadata": {
        "colab": {
          "base_uri": "https://localhost:8080/"
        },
        "id": "IunXgILlrzy2",
        "outputId": "10378738-8c0f-4b3b-b885-9ff1f00dc70f"
      },
      "execution_count": null,
      "outputs": [
        {
          "output_type": "stream",
          "name": "stdout",
          "text": [
            "lr:  0.01 , epoch:  25 , bs:  32 , drop:  0.5  score is  0.8168736100196838\n",
            "lr:  0.01 , epoch:  25 , bs:  32 , drop:  0.6  score is  0.815744936466217\n",
            "lr:  0.01 , epoch:  25 , bs:  64 , drop:  0.5  score is  0.8442437648773193\n",
            "lr:  0.01 , epoch:  25 , bs:  64 , drop:  0.6  score is  0.8219525814056396\n",
            "lr:  0.01 , epoch:  25 , bs:  128 , drop:  0.5  score is  0.8397291302680969\n",
            "lr:  0.01 , epoch:  25 , bs:  128 , drop:  0.6  score is  0.8301354646682739\n",
            "lr:  0.01 , epoch:  50 , bs:  32 , drop:  0.5  score is  0.8431151509284973\n",
            "lr:  0.01 , epoch:  50 , bs:  32 , drop:  0.6  score is  0.8470654487609863\n",
            "lr:  0.01 , epoch:  50 , bs:  64 , drop:  0.5  score is  0.8301354646682739\n",
            "lr:  0.01 , epoch:  50 , bs:  64 , drop:  0.6  score is  0.8481941223144531\n",
            "lr:  0.01 , epoch:  50 , bs:  128 , drop:  0.5  score is  0.8354966044425964\n",
            "lr:  0.01 , epoch:  50 , bs:  128 , drop:  0.6  score is  0.8450902700424194\n",
            "lr:  0.01 , epoch:  75 , bs:  32 , drop:  0.5  score is  0.8448081016540527\n",
            "lr:  0.01 , epoch:  75 , bs:  32 , drop:  0.6  score is  0.8493227958679199\n",
            "lr:  0.01 , epoch:  75 , bs:  64 , drop:  0.5  score is  0.8498871326446533\n",
            "lr:  0.01 , epoch:  75 , bs:  64 , drop:  0.6  score is  0.8476297855377197\n",
            "lr:  0.01 , epoch:  75 , bs:  128 , drop:  0.5  score is  0.8419864773750305\n",
            "lr:  0.01 , epoch:  75 , bs:  128 , drop:  0.6  score is  0.8439615964889526\n",
            "lr:  0.001 , epoch:  25 , bs:  32 , drop:  0.5  score is  0.8343679308891296\n",
            "lr:  0.001 , epoch:  25 , bs:  32 , drop:  0.6  score is  0.8436794877052307\n",
            "lr:  0.001 , epoch:  25 , bs:  64 , drop:  0.5  score is  0.8338035941123962\n",
            "lr:  0.001 , epoch:  25 , bs:  64 , drop:  0.6  score is  0.843397319316864\n",
            "lr:  0.001 , epoch:  25 , bs:  128 , drop:  0.5  score is  0.8411399722099304\n",
            "lr:  0.001 , epoch:  25 , bs:  128 , drop:  0.6  score is  0.8182844519615173\n",
            "lr:  0.001 , epoch:  50 , bs:  32 , drop:  0.5  score is  0.8487584590911865\n",
            "lr:  0.001 , epoch:  50 , bs:  32 , drop:  0.6  score is  0.8380361199378967\n",
            "lr:  0.001 , epoch:  50 , bs:  64 , drop:  0.5  score is  0.8425508141517639\n",
            "lr:  0.001 , epoch:  50 , bs:  64 , drop:  0.6  score is  0.844525933265686\n",
            "lr:  0.001 , epoch:  50 , bs:  128 , drop:  0.5  score is  0.8535553216934204\n",
            "lr:  0.001 , epoch:  50 , bs:  128 , drop:  0.6  score is  0.8400112986564636\n",
            "lr:  0.001 , epoch:  75 , bs:  32 , drop:  0.5  score is  0.8521444797515869\n",
            "lr:  0.001 , epoch:  75 , bs:  32 , drop:  0.6  score is  0.8448081016540527\n",
            "lr:  0.001 , epoch:  75 , bs:  64 , drop:  0.5  score is  0.85016930103302\n",
            "lr:  0.001 , epoch:  75 , bs:  64 , drop:  0.6  score is  0.8572234511375427\n",
            "lr:  0.001 , epoch:  75 , bs:  128 , drop:  0.5  score is  0.8532731533050537\n",
            "lr:  0.001 , epoch:  75 , bs:  128 , drop:  0.6  score is  0.855812668800354\n",
            "lr:  0.0001 , epoch:  25 , bs:  32 , drop:  0.5  score is  0.7903499007225037\n",
            "lr:  0.0001 , epoch:  25 , bs:  32 , drop:  0.6  score is  0.7643905282020569\n",
            "lr:  0.0001 , epoch:  25 , bs:  64 , drop:  0.5  score is  0.7734198570251465\n",
            "lr:  0.0001 , epoch:  25 , bs:  64 , drop:  0.6  score is  0.740406334400177\n",
            "lr:  0.0001 , epoch:  25 , bs:  128 , drop:  0.5  score is  0.7700338363647461\n",
            "lr:  0.0001 , epoch:  25 , bs:  128 , drop:  0.6  score is  0.7107787728309631\n",
            "lr:  0.0001 , epoch:  50 , bs:  32 , drop:  0.5  score is  0.8340857625007629\n",
            "lr:  0.0001 , epoch:  50 , bs:  32 , drop:  0.6  score is  0.8151805996894836\n",
            "lr:  0.0001 , epoch:  50 , bs:  64 , drop:  0.5  score is  0.8106659054756165\n",
            "lr:  0.0001 , epoch:  50 , bs:  64 , drop:  0.6  score is  0.772009015083313\n",
            "lr:  0.0001 , epoch:  50 , bs:  128 , drop:  0.5  score is  0.793735921382904\n",
            "lr:  0.0001 , epoch:  50 , bs:  128 , drop:  0.6  score is  0.7525395154953003\n",
            "lr:  0.0001 , epoch:  75 , bs:  32 , drop:  0.5  score is  0.8439615964889526\n",
            "lr:  0.0001 , epoch:  75 , bs:  32 , drop:  0.6  score is  0.8386004567146301\n",
            "lr:  0.0001 , epoch:  75 , bs:  64 , drop:  0.5  score is  0.8383182883262634\n",
            "lr:  0.0001 , epoch:  75 , bs:  64 , drop:  0.6  score is  0.8140519261360168\n",
            "lr:  0.0001 , epoch:  75 , bs:  128 , drop:  0.5  score is  0.8275959491729736\n",
            "lr:  0.0001 , epoch:  75 , bs:  128 , drop:  0.6  score is  0.7756772041320801\n"
          ]
        }
      ]
    },
    {
      "cell_type": "code",
      "source": [
        "# print max accuracy and key\n",
        "Keymax = max(zip(results.values(), results.keys()))[1]\n",
        "print(Keymax)"
      ],
      "metadata": {
        "colab": {
          "base_uri": "https://localhost:8080/"
        },
        "id": "eGKJclxZuIx2",
        "outputId": "cb753aba-7cd1-49d6-a08d-2a1f0bd945ce"
      },
      "execution_count": null,
      "outputs": [
        {
          "output_type": "stream",
          "name": "stdout",
          "text": [
            "(0.001, 75, 64, 0.6)\n"
          ]
        }
      ]
    },
    {
      "cell_type": "markdown",
      "source": [
        "## Best performing basic CNN model:\n",
        "\n",
        "\n",
        "*   Learning rate: 0.001\n",
        "*   epoch: 75\n",
        "*   batch size: 64\n",
        "*   dropout: 0.6\n",
        "\n"
      ],
      "metadata": {
        "id": "0gLewNm29vug"
      }
    }
  ],
  "metadata": {
    "kernelspec": {
      "display_name": "Python 3",
      "name": "python3"
    },
    "language_info": {
      "name": "python"
    },
    "colab": {
      "provenance": [],
      "toc_visible": true,
      "machine_shape": "hm",
      "include_colab_link": true
    },
    "gpuClass": "premium",
    "accelerator": "GPU"
  },
  "nbformat": 4,
  "nbformat_minor": 0
}